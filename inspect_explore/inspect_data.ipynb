{
 "cells": [
  {
   "cell_type": "markdown",
   "metadata": {},
   "source": [
    "# Inspect charter school data\n",
    "\n",
    "- Author: Jaren Haber\n",
    "- Institution: UC Berkeley\n",
    "- Date created: August, 2018\n",
    "- Date last edited: May 17, 2019\n",
    "\n",
    "Description: This simple notebook reads the latest charter data into memory and offers some simple statistics. Versatile and useful basis for other tasks."
   ]
  },
  {
   "cell_type": "markdown",
   "metadata": {},
   "source": [
    "## Initialize"
   ]
  },
  {
   "cell_type": "code",
   "execution_count": 1,
   "metadata": {},
   "outputs": [],
   "source": [
    "# Import packages\n",
    "import pandas as pd # For working with DataFrames\n",
    "import gc # To accelerate loading pickle files\n",
    "\n",
    "# Show visualizations within notebook:\n",
    "%matplotlib inline "
   ]
  },
  {
   "cell_type": "code",
   "execution_count": 2,
   "metadata": {},
   "outputs": [],
   "source": [
    "# Load functions from data_tools directory:\n",
    "import sys; sys.path.insert(0, \"../tools\")\n",
    "\n",
    "# For displaying basic DF info, storing DFs for memory efficiency, and loading a filtered DF:\n",
    "from df_tools import check_df, convert_df, load_filtered_df, replace_df_nulls\n",
    "\n",
    "# For quickly loading & saving pickle files in Python:\n",
    "from quickpickle import quickpickle_dump, quickpickle_load \n",
    "\n",
    "# For saving and loading text lists to/from file:\n",
    "from textlist_file import write_list, load_list "
   ]
  },
  {
   "cell_type": "code",
   "execution_count": 5,
   "metadata": {},
   "outputs": [],
   "source": [
    "# Set file paths\n",
    "charters_path = \"../../nowdata/charters_2015.pkl\"\n",
    "ccd17_path = \"../../nowdata/ccd_csvs/ccd_sch_029_1718_w_0a_03302018.csv\""
   ]
  },
  {
   "cell_type": "code",
   "execution_count": 21,
   "metadata": {},
   "outputs": [],
   "source": [
    "# Load, filter, and save list of names & addresses:\n",
    "df = load_filtered_df(charters_path, [\"SCH_NAME\", \"ADDRESS16\", \"LCITY16\"])\n",
    "df = df[df[\"SCH_NAME\"].notnull() | df[\"ADDRESS16\"].notnull()]\n",
    "df.rename(inplace=True, columns={\"SCH_NAME\":\"name\", \"ADDRESS16\":\"address\", \"LCITY16\":\"city\"})\n",
    "df.to_csv(\"/home/jovyan/work/swarm/data/names_addresses_1516.csv\")"
   ]
  },
  {
   "cell_type": "code",
   "execution_count": 120,
   "metadata": {},
   "outputs": [
    {
     "name": "stdout",
     "output_type": "stream",
     "text": [
      "# rows and cols:  (10965, 10)\n",
      "# duplicates by NCESSCH: 0\n",
      "\n",
      "Columns and # missing cases (if any): \n",
      "URL: 3828 missing\n",
      "SCH_NAME: 8421 missing\n",
      "INQUIRY_COUNT\n",
      "INQUIRY_RATIO: 4103 missing\n",
      "NUMWORDS\n",
      "NUMPAGES\n",
      "NCESSCH\n",
      "SY_STATUS15: 3619 missing\n",
      "WEBTEXT\n",
      "CMO_WEBTEXT\n"
     ]
    }
   ],
   "source": [
    "# Load data, keeping only relevant columns\n",
    "df = load_filtered_df(\n",
    "    charters_path, \n",
    "    [\"WEBTEXT\", \"CMO_WEBTEXT\", \"URL\", \"SCH_NAME\", \"INQUIRY_COUNT\", \"INQUIRY_RATIO\", \n",
    "     \"NUMWORDS\", \"NUMPAGES\", \"NCESSCH\", \"SY_STATUS15\"])"
   ]
  },
  {
   "cell_type": "code",
   "execution_count": 121,
   "metadata": {},
   "outputs": [
    {
     "name": "stdout",
     "output_type": "stream",
     "text": [
      "10965\n",
      "0\n",
      "0\n"
     ]
    }
   ],
   "source": [
    "# Sanity check: Detect duplicates\n",
    "print(len(df[\"NCESSCH\"])) # Number of values in NCESSCH column\n",
    "print(len(df[\"NCESSCH\"])-len(df.drop_duplicates(subset=\"NCESSCH\"))) # Method 1 to detect number of duplicates\n",
    "print(len(list(df[\"NCESSCH\"]))-len(list(set(df[\"NCESSCH\"])))) # Method 2 to detect number of duplicates"
   ]
  },
  {
   "cell_type": "markdown",
   "metadata": {},
   "source": [
    "## Check number of schools without websites vs. closed"
   ]
  },
  {
   "cell_type": "code",
   "execution_count": 141,
   "metadata": {},
   "outputs": [
    {
     "name": "stdout",
     "output_type": "stream",
     "text": [
      "Lengths of open and with-web dfs: 6947, 4466\n"
     ]
    }
   ],
   "source": [
    "# Filter to only OPEN schools\n",
    "filtered_OPEN = (df['SY_STATUS15'] == 1) | (df['SY_STATUS15'] == 3) | (df['SY_STATUS15'] == 4) | (df['SY_STATUS15'] == 5) | (df['SY_STATUS15'] == 8)\n",
    "filtered_WEB = (df['INQUIRY_COUNT'].notnull()) & (df['NUMWORDS'] > 0.0) & (df['WEBTEXT'].apply(len) > 0)\n",
    "df = df.loc[filtered_OPEN].reset_index(drop=True) # filter to only open schools\n",
    "dfweb = df.loc[filtered_WEB].reset_index(drop=True) # filter to schools WITH web data\n",
    "print(\"Lengths of open and with-web dfs: \" + str(len(df)) + \", \" + str(len(dfweb)))"
   ]
  },
  {
   "cell_type": "code",
   "execution_count": 142,
   "metadata": {},
   "outputs": [
    {
     "name": "stdout",
     "output_type": "stream",
     "text": [
      "# rows and cols:  (2481, 9)\n",
      "# duplicates by NCESSCH: 0\n",
      "\n",
      "Columns and # missing cases (if any): \n",
      "URL: 145 missing\n",
      "SCH_NAME: 1648 missing\n",
      "INQUIRY_COUNT\n",
      "INQUIRY_RATIO: 233 missing\n",
      "NUMWORDS\n",
      "NUMPAGES\n",
      "NCESSCH\n",
      "SY_STATUS15\n",
      "_merge\n"
     ]
    }
   ],
   "source": [
    "# Filter to only OPEN schools with NO webtext\n",
    "df = df.drop(columns=[\"WEBTEXT\", \"CMO_WEBTEXT\"]) # Drop to prep for merge\n",
    "dfweb = dfweb.drop(columns=[\"WEBTEXT\", \"CMO_WEBTEXT\"]) # Drop to prep for merge\n",
    "dfnoweb = pd.merge(df, dfweb, indicator=True, how='outer') # Mark schools in dfweb vs. dfopen\n",
    "dfnoweb = dfnoweb[dfnoweb['_merge'] == 'left_only'] # Keep only schools WITHOUT web text\n",
    "check_df(dfnoweb, \"NCESSCH\")"
   ]
  },
  {
   "cell_type": "code",
   "execution_count": 149,
   "metadata": {},
   "outputs": [
    {
     "name": "stdout",
     "output_type": "stream",
     "text": [
      "# rows and cols:  (65508, 3)\n",
      "# duplicates by NCESSCH: 0\n",
      "\n",
      "Columns and # missing cases (if any): \n",
      "NCESSCH\n",
      "UPDATED_STATUS: 1 missing\n",
      "CHARTER_TEXT: 1 missing\n",
      "['NCESSCH', 'SY_STATUS17', 'CHARTER17']\n",
      "\n",
      "Number of identified charters in 2017-18: 5387\n"
     ]
    }
   ],
   "source": [
    "# Load 2017-18 CCD data\n",
    "df17 = load_filtered_df(ccd17_path, [\"UPDATED_STATUS\", \"CHARTER_TEXT\", \"NCESSCH\"])\n",
    "df17.rename(columns = {\"UPDATED_STATUS\":\"SY_STATUS17\", \"CHARTER_TEXT\":\"CHARTER17\"}, index=str, inplace = True)\n",
    "print(list(df17))\n",
    "print(\"\\nNumber of identified charters in 2017-18:\", str(len(df17[df17[\"CHARTER17\"]==\"Yes\"])))"
   ]
  },
  {
   "cell_type": "code",
   "execution_count": 150,
   "metadata": {
    "scrolled": true
   },
   "outputs": [
    {
     "name": "stdout",
     "output_type": "stream",
     "text": [
      "# rows and cols:  (1630, 11)\n",
      "# duplicates by NCESSCH: 0\n",
      "\n",
      "Columns and # missing cases (if any): \n",
      "URL: 21 missing\n",
      "SCH_NAME: 1094 missing\n",
      "INQUIRY_COUNT\n",
      "INQUIRY_RATIO: 87 missing\n",
      "NUMWORDS\n",
      "NUMPAGES\n",
      "NCESSCH\n",
      "SY_STATUS15\n",
      "_merge\n",
      "SY_STATUS17\n",
      "CHARTER17\n"
     ]
    }
   ],
   "source": [
    "# Merge charter data with 2017-18 CCD list\n",
    "df17 = pd.merge(dfnoweb, df17, how=\"inner\", on=\"NCESSCH\")\n",
    "check_df(df17, \"NCESSCH\")"
   ]
  },
  {
   "cell_type": "code",
   "execution_count": 152,
   "metadata": {},
   "outputs": [
    {
     "data": {
      "text/plain": [
       "1.0    1574\n",
       "2.0      52\n",
       "6.0       4\n",
       "Name: SY_STATUS17, dtype: int64"
      ]
     },
     "execution_count": 152,
     "metadata": {},
     "output_type": "execute_result"
    }
   ],
   "source": [
    "# Check percentage of those schools with NO WEB TEXT that are OPEN in 2017-18 (turns out only 56 / 1630):\n",
    "df17[\"SY_STATUS17\"].value_counts()"
   ]
  },
  {
   "cell_type": "markdown",
   "metadata": {},
   "source": [
    "## Inspect web text"
   ]
  },
  {
   "cell_type": "code",
   "execution_count": 120,
   "metadata": {},
   "outputs": [
    {
     "name": "stdout",
     "output_type": "stream",
     "text": [
      "# rows and cols:  (10965, 10)\n",
      "# duplicates by NCESSCH: 0\n",
      "\n",
      "Columns and # missing cases (if any): \n",
      "URL: 3828 missing\n",
      "SCH_NAME: 8421 missing\n",
      "INQUIRY_COUNT\n",
      "INQUIRY_RATIO: 4103 missing\n",
      "NUMWORDS\n",
      "NUMPAGES\n",
      "NCESSCH\n",
      "SY_STATUS15: 3619 missing\n",
      "WEBTEXT\n",
      "CMO_WEBTEXT\n"
     ]
    }
   ],
   "source": [
    "# Load data, keeping only relevant columns\n",
    "df = load_filtered_df(\n",
    "    charters_path, \n",
    "    [\"WEBTEXT\", \"CMO_WEBTEXT\", \"URL\", \"SCH_NAME\", \"INQUIRY_COUNT\", \"INQUIRY_RATIO\", \n",
    "     \"NUMWORDS\", \"NUMPAGES\", \"NCESSCH\", \"SY_STATUS15\"])\n",
    "\n",
    "# Filter to only OPEN schools\n",
    "filtered_OPEN = (df['SY_STATUS15'] == 1) | (df['SY_STATUS15'] == 3) | (df['SY_STATUS15'] == 4) | (df['SY_STATUS15'] == 5) | (df['SY_STATUS15'] == 8)\n",
    "df = df.loc[filtered_OPEN].reset_index(drop = True)"
   ]
  },
  {
   "cell_type": "code",
   "execution_count": 36,
   "metadata": {},
   "outputs": [
    {
     "data": {
      "text/plain": [
       "<matplotlib.axes._subplots.AxesSubplot at 0x7f70fdf255c0>"
      ]
     },
     "execution_count": 36,
     "metadata": {},
     "output_type": "execute_result"
    },
    {
     "data": {
      "image/png": "[encoded data removed]",
      "text/plain": [
       "<Figure size 432x288 with 1 Axes>"
      ]
     },
     "metadata": {
      "needs_background": "light"
     },
     "output_type": "display_data"
    }
   ],
   "source": [
    "# Look at length of WEBTEXT cell across rows (number of pages per school)\n",
    "df[df[\"WEBTEXT\"].notnull() & df[\"WEBTEXT\"]!=0][\"WEBTEXT\"].apply(len).hist(bins=50)"
   ]
  },
  {
   "cell_type": "code",
   "execution_count": 53,
   "metadata": {},
   "outputs": [
    {
     "data": {
      "text/plain": [
       "4"
      ]
     },
     "execution_count": 53,
     "metadata": {},
     "output_type": "execute_result"
    }
   ],
   "source": [
    "# Look at WEBTEXT and CMO_WEBTEXT for sample school:\n",
    "len(df.iloc[36][\"WEBTEXT\"])"
   ]
  },
  {
   "cell_type": "code",
   "execution_count": 51,
   "metadata": {},
   "outputs": [
    {
     "data": {
      "text/plain": [
       "[('http://bennettacademysocial.wixsite.com/bennettacademy/copy-of-coming-soon',\n",
       "  'False',\n",
       "  '1',\n",
       "  'ABOUT\\nSCHOOLS\\nPROGRAMS\\nENROLL\\nPARENT LINKS\\nCOMMUNITY\\nCONTACT\\nMORE>>\\nBENNETT ACADEMY ACCELERATED HIGH SCHOOL\\xa0\\n\\u200b\\nBennett Accelerated High School\\xa0\\nBennett Accelerated High School will begin serving students in 9th and 10th grade in August 2018. Bennett Accelerated High School will offer the followng:\\xa0\\n\\u200b\\nA good school with good discipline\\nA well-organized learning environment with a friendly vibe\\nA place where teachers, staff, and students treat each other kindly and respectfully\\nAn environment with friends (and we add, good friends)\\nTeachers who care about their students and give them good help\\nCourses that teach them what they need\\nCore classes and several electives\\nSports\\nVision and Purpose\\nGrade 9 Course Descriptions\\nGrade 10 Course Descriptions\\nFAQ\\nEnroll Now\\n© 2012 by Twenty First\\xa0Century\\xa0\\n\\xa0 \\xa0 \\xa0Charter Schools\\n\\u200b\\nBennett Academy Middle School\\n\\u200b2930 W. Bethany Home Road. Phoenix, AZ\\xa085017\\nBennett Academy Primary School - Venture Site\\n1535 W.\\xa0Dunlap Ave. Phoenix, AZ 85021\\nWebmaster Login\\n\\ufeffPursuant to A.R.S. §38-431.02, Twenty First\\xa0Century\\xa0\\nSchools, Inc. hereby states that all notices of the meetings of Bennett Academy and Bennett Venture Site will be posted at each administrative office and on our website (www.bennettacademy.com). The location is open to the public Monday through Friday from 8:00 AM to 4:00 PM. Such notices will indicate the date, time and place of the meeting and will include an agenda or information concerning the manner in which the public may obtain an agenda for the meeting.\\n\\u200b'),\n",
       " ('http://bennettacademysocial.wixsite.com/bennettacademy/venture',\n",
       "  'False',\n",
       "  '1',\n",
       "  'ABOUT\\nSCHOOLS\\nPROGRAMS\\nENROLL\\nPARENT LINKS\\nCOMMUNITY\\nCONTACT\\nMORE>>\\nBENNETT ACADEMY \\nPRIMARY SCHOOL\\nBennett Academy Primary School\\xa0\\nBennett Academy Primary School serves Kindergarten through 3rd grade. We believe that a solid education will equip a student to be the best person he or she can be, now and in the future.\\xa0\\nOur students gain c\\nonfidence in:\\xa0\\nReading, writing and communication skills\\xa0\\nProficiency in math, and the ability to apply math to the real world\\nScholarly knowledge of science and social studies including an understanding of other cultures and their languages\\nBasic technological literacy\\nPhysical aptitude skills through regular exercise and games\\nSTAFF\\n1/1\\n© 2012 by Twenty First\\xa0Century\\xa0\\n\\xa0 \\xa0 \\xa0Charter Schools\\n\\u200b\\nBennett Academy Middle School\\n\\u200b2930 W. Bethany Home Road. Phoenix, AZ\\xa085017\\nBennett Academy Primary School - Venture Site\\n1535 W.\\xa0Dunlap Ave. Phoenix, AZ 85021\\nWebmaster Login\\n\\ufeffPursuant to A.R.S. §38-431.02, Twenty First\\xa0Century\\xa0\\nSchools, Inc. hereby states that all notices of the meetings of Bennett Academy and Bennett Venture Site will be posted at each administrative office and on our website (www.bennettacademy.com). The location is open to the public Monday through Friday from 8:00 AM to 4:00 PM. Such notices will indicate the date, time and place of the meeting and will include an agenda or information concerning the manner in which the public may obtain an agenda for the meeting.\\n\\u200b')]"
      ]
     },
     "execution_count": 51,
     "metadata": {},
     "output_type": "execute_result"
    }
   ],
   "source": [
    "df.iloc[36][\"WEBTEXT\"][:2]"
   ]
  },
  {
   "cell_type": "code",
   "execution_count": 52,
   "metadata": {},
   "outputs": [
    {
     "data": {
      "text/plain": [
       "[('http://bennettacademysocial.wixsite.com/bennettacademy',\n",
       "  'False',\n",
       "  '0',\n",
       "  'ABOUT\\nSCHOOLS\\nPROGRAMS\\nENROLL\\nPARENT LINKS\\nCOMMUNITY\\nCONTACT\\nMORE>>\\nNow Enrolling\\nSoccer Champions\\nBoard Meeting\\n1/5\\nA Good School for Good Kids.\\xa0\\nPrimary School\\n Kindergarten - 3rd Grade\\nMiddle School\\n4th-8th Grade\\nÂ© 2012 by Twenty First\\xa0Century\\xa0\\n\\xa0 \\xa0 \\xa0Charter Schools\\n\\u200b\\nBennett Academy Middle School\\n\\u200b2930 W. Bethany Home Road. Phoenix, AZ\\xa085017\\nBennett Academy Primary School - Venture Site\\n1535 W.\\xa0Dunlap Ave. Phoenix, AZ 85021\\nWebmaster Login\\n\\ufeffPursuant to A.R.S. Â§38-431.02, Twenty First\\xa0Century\\xa0\\nSchools, Inc. hereby states that all notices of the meetings of Bennett Academy and Bennett Venture Site will be posted at each administrative office and on our website (www.bennettacademy.com). The location is open to the public Monday through Friday from 8:00 AM to 4:00 PM. Such notices will indicate the date, time and place of the meeting and will include an agenda or information concerning the manner in which the public may obtain an agenda for the meeting.\\n\\u200b'),\n",
       " ('http://bennettacademysocial.wixsite.com/bennettacademy',\n",
       "  'False',\n",
       "  '1',\n",
       "  'ABOUT\\nSCHOOLS\\nPROGRAMS\\nENROLL\\nPARENT LINKS\\nCOMMUNITY\\nCONTACT\\nMORE>>\\nNow Enrolling\\nSoccer Champions\\nBoard Meeting\\n1/5\\nA Good School for Good Kids.\\xa0\\nPrimary School\\n Kindergarten - 3rd Grade\\nMiddle School\\n4th-8th Grade\\nÂ© 2012 by Twenty First\\xa0Century\\xa0\\n\\xa0 \\xa0 \\xa0Charter Schools\\n\\u200b\\nBennett Academy Middle School\\n\\u200b2930 W. Bethany Home Road. Phoenix, AZ\\xa085017\\nBennett Academy Primary School - Venture Site\\n1535 W.\\xa0Dunlap Ave. Phoenix, AZ 85021\\nWebmaster Login\\n\\ufeffPursuant to A.R.S. Â§38-431.02, Twenty First\\xa0Century\\xa0\\nSchools, Inc. hereby states that all notices of the meetings of Bennett Academy and Bennett Venture Site will be posted at each administrative office and on our website (www.bennettacademy.com). The location is open to the public Monday through Friday from 8:00 AM to 4:00 PM. Such notices will indicate the date, time and place of the meeting and will include an agenda or information concerning the manner in which the public may obtain an agenda for the meeting.\\n\\u200b')]"
      ]
     },
     "execution_count": 52,
     "metadata": {},
     "output_type": "execute_result"
    }
   ],
   "source": [
    "df.iloc[36][\"CMO_WEBTEXT\"][:2]"
   ]
  },
  {
   "cell_type": "markdown",
   "metadata": {},
   "source": [
    "## Check examples of high/low ideology"
   ]
  },
  {
   "cell_type": "code",
   "execution_count": 78,
   "metadata": {},
   "outputs": [
    {
     "data": {
      "text/plain": [
       "count    5819.000000\n",
       "mean        0.006593\n",
       "std         0.005475\n",
       "min         0.000000\n",
       "25%         0.003228\n",
       "50%         0.005400\n",
       "75%         0.008641\n",
       "max         0.052288\n",
       "Name: INQUIRY_RATIO, dtype: float64"
      ]
     },
     "execution_count": 78,
     "metadata": {},
     "output_type": "execute_result"
    }
   ],
   "source": [
    "df[\"INQUIRY_RATIO\"].describe()"
   ]
  },
  {
   "cell_type": "code",
   "execution_count": 79,
   "metadata": {},
   "outputs": [
    {
     "data": {
      "text/plain": [
       "count    5.819000e+03\n",
       "mean     2.309760e+04\n",
       "std      1.419385e+05\n",
       "min      1.300000e+01\n",
       "25%      1.576000e+03\n",
       "50%      8.811000e+03\n",
       "75%      2.186450e+04\n",
       "max      7.313761e+06\n",
       "Name: NUMWORDS, dtype: float64"
      ]
     },
     "execution_count": 79,
     "metadata": {},
     "output_type": "execute_result"
    }
   ],
   "source": [
    "df[\"NUMWORDS\"].describe()"
   ]
  },
  {
   "cell_type": "code",
   "execution_count": 94,
   "metadata": {},
   "outputs": [
    {
     "name": "stdout",
     "output_type": "stream",
     "text": [
      "966     11\n",
      "5852     1\n",
      "6655    15\n",
      "Name: NUMPAGES, dtype: int64\n"
     ]
    },
    {
     "name": "stderr",
     "output_type": "stream",
     "text": [
      "/opt/conda/lib/python3.6/site-packages/ipykernel_launcher.py:1: UserWarning: Boolean Series key will be reindexed to match DataFrame index.\n",
      "  \"\"\"Entry point for launching an IPython kernel.\n"
     ]
    },
    {
     "data": {
      "text/plain": [
       "[('http://www.braination.net/Anne-Frank-Inspire-Academy',\n",
       "  'False',\n",
       "  '0',\n",
       "  'nk Inspire Academy\\nA Preeminent 21st Century School K–12\\nHow do you make a free, public, 21st century school that is caring, creative, fun, innovative, and sustainable? How do you ensure that school retains a rigorous curriculum that pushes every student to be and do his or her best? You create an Inspire Academy!\\nThe curriculum at our Inspire Academies adheres to \\nstate standards\\n in all subjects, including the core areas of language arts, mathematics, science, and social studies. But in order to fully address student needs, we have designed a \"three tiered curriculum\" that not only meets state standards but also helps students follow their passions and become self-directed learners.\\xa0\\nStudents explore information daily in great depth via projects, field experiences, problem solving, collaborative groups, oral and written communication, entrepreneurialism, and much more, using a skill mastery approach. This approach creates a dynamic learning experience that allows independent thinking and problem solving to develop and flourish.\\nHead of School\\'s Desk\\nWelcome to Anne Frank Inspire Academy (AFIA), where our goal is to create a caring, creative, fun, innovative, and rigorous learning environment. At AFIA we hope to instill our core values of innovation, embracing greatness, integrity, and joy among all of our students, staff, parents, and community.\\xa0\\nIt is my honor and pleasure to be a part of the AFIA family. I am energized and deeply committed to making a positive difference in the lives of your students. As an instructional leader, I have a very uncompromising view that all students are able to learn and be successful. At AFIA, we are able to build strong relationships, collaborate, implement a viable curriculum, and create a support system that helps create an environment that fosters learning and helps every student maximize his/her potential.\\xa0\\nOur remarkable staff, involved parents, and committed students help make AFIA a wonderful place to Belong, Be Great, and Find Joy! I encourage you to embark on this journey of learning and growth with us!\\nDr. Nino A. Etienne\\nDr. Nino A. Etienne\\nHead of School\\xa0\\nOur Program\\nOur curriculum includes:\\nCore\\nA core subjects curriculum based on Texas’ TEKS standards\\nChoice\\nA personalized electives curriculum designed from the input of our students and parents\\nExposure\\nAn experiential curriculum highlighting things and events all children should be able to experience without regard to social class or income\\nAFIA Curriculum Design\\nK–5 Design\\n6–8 Design\\n9–12 Design\\nIn addition to our regular curriculum, students receive unique learning opportunities through our community mentorship program that reflect our four interlocking areas of growth. At Anne Frank, we work hard to:\\nBecome an expert learner (with problem solving and creative thinking skills)\\nDevelop leadership skills\\nBecome a person of principle and character\\nMake the world a better place through service\\nOur Facility\\nOur schools are designed to create a small, family-like environment that allows each student and teacher to know one another and ensure that no one “falls through the cracks.” By partnering with award-winning, international architects at \\nFielding Nair\\n, we’ve designed an incredible campus that includes eight outdoor learning areas (including a tree house and amphitheater); a variety of creative, indoor learning studios (like \\nMakerSpaces\\n and Yoga studios); and zero hallways! All of our facilities are also equipped with seamless technology via SkyDrives.\\nContact Us\\n11216 Bandera Road\\nSan Antonio, TX 78249\\nP: (210) 638.5900\\nE-mail\\nOur Mission & Vision\\nMission: To increase the capacity for human greatness.\\nVision: Creating 21st century learning models for use around the world through leadership, innovation, safety, technology, integration, synergy, and transformative power.\\nOur Core Values\\nValue gives meaning to what we do. But at Anne Frank, our core values of innovation, embracing greatness, integrity, and joy are the driving force behind every decision we make.\\xa0\\nAt Anne Frank, we are active members of our community—We Belong. We are becoming experts in every life arena—We can Be Great. And we know there is purpose in life—Therefore, we choose to Find Joy. In short, we believe students can be self-directed learners, and schools can be both fun and challenging.\\nAFIA Admissions\\nAFIA Faculty & Staff\\nAFIA Calendar\\nS.O.S. San Antonio\\nBRAINATION News\\nContact Us\\n\\r\\tCorporate Offices\\n\\r\\t10325 Bandera Road, San Antonio, Texas 78250\\n\\r\\tPhone: (210) 638.5000\\r\\t\\n\\r                ©2018 | Site designed and maintained by \\nSchool Webmasters\\n | \\n Accessibility ')]"
      ]
     },
     "execution_count": 94,
     "metadata": {},
     "output_type": "execute_result"
    }
   ],
   "source": [
    "# EXAMPLE OF HIGH IBL: \n",
    "# http://www.braination.net/Anne-Frank-Inspire-Academy [1]\n",
    "\n",
    "subset = df[df[\"INQUIRY_RATIO\"] > 0.04][df[\"NUMWORDS\"] > 500]\n",
    "print(subset[\"NUMPAGES\"])\n",
    "subset.iloc[1][\"WEBTEXT\"]"
   ]
  },
  {
   "cell_type": "code",
   "execution_count": 119,
   "metadata": {},
   "outputs": [
    {
     "name": "stdout",
     "output_type": "stream",
     "text": [
      "1       1\n",
      "17      1\n",
      "18      2\n",
      "90      4\n",
      "172     3\n",
      "183     4\n",
      "201     4\n",
      "224     4\n",
      "293     2\n",
      "328     1\n",
      "329     2\n",
      "363     4\n",
      "409     1\n",
      "494     1\n",
      "495     1\n",
      "514     1\n",
      "522     1\n",
      "573     4\n",
      "599     1\n",
      "605     1\n",
      "606     1\n",
      "607     1\n",
      "610     1\n",
      "611     1\n",
      "612     4\n",
      "616     4\n",
      "619     1\n",
      "646     2\n",
      "664     1\n",
      "672     1\n",
      "       ..\n",
      "6314    1\n",
      "6315    1\n",
      "6373    2\n",
      "6374    2\n",
      "6406    1\n",
      "6409    1\n",
      "6416    1\n",
      "6417    1\n",
      "6418    1\n",
      "6419    1\n",
      "6420    1\n",
      "6421    1\n",
      "6422    1\n",
      "6423    1\n",
      "6427    1\n",
      "6429    1\n",
      "6430    1\n",
      "6432    1\n",
      "6433    1\n",
      "6434    1\n",
      "6439    1\n",
      "6445    1\n",
      "6460    1\n",
      "6705    4\n",
      "6725    1\n",
      "6727    1\n",
      "6744    1\n",
      "6805    3\n",
      "6809    4\n",
      "6842    1\n",
      "Name: NUMPAGES, Length: 196, dtype: int64\n"
     ]
    },
    {
     "name": "stderr",
     "output_type": "stream",
     "text": [
      "/opt/conda/lib/python3.6/site-packages/ipykernel_launcher.py:6: UserWarning: Boolean Series key will be reindexed to match DataFrame index.\n",
      "  \n"
     ]
    },
    {
     "data": {
      "text/plain": [
       "[('http://bensonspvhs.sharpschool.net/',\n",
       "  'False',\n",
       "  '0',\n",
       "  \"Benson Unified School District\\nBenson Primary School\\nBenson Middle School\\nBenson High School\\nSan Pedro Valley High School\\nSan Pedro Valley Online Academy\\nSearch\\nSpanish\\nCantonese\\nFrench\\nGerman\\nItalian\\nTagalog\\nVietnamese\\nKorean\\nRussian\\nHindi\\nGuest\\n | \\nLogin\\n\\r\\t\\t\\t{1}\\t\\t\\t\\t\\r\\t\\t\\t\\n##LOC[OK]##\\r\\t\\t\\t\\t\\t\\r\\t\\t\\t\\t\\n\\r\\t\\t\\t    {1}\\t\\t\\t\\t\\r\\t\\t\\t    \\n##LOC[OK]##\\n##LOC[Cancel]##\\n\\r\\t\\t\\t{1}\\t\\t\\t\\t\\r\\t\\t\\t\\n##LOC[OK]##\\n##LOC[Cancel]##\\nHome\\nNews\\nArchived News\\nStaff Directory\\nMrs. Balsiger\\nContact Me\\nCalendar\\nPhoto Gallery\\nUseful Links\\nContact School\\nEnrollment\\nFree & Reduced Meals Information & Application\\nFor Parents & Students\\nCalendar\\nEdgenuity\\nCollege Scholarships & Grants\\nStudent of the Month\\nStudent of the Months 2012-2013\\nAugust 2012 Student of the Month\\nSept. 2012 Student of the Month\\nNovember 2012 Student of the Month\\nDecember 2012 Student of the Month\\nOctober 2012 Student of the Month\\nJanuary 2013 Student of the Month\\nFebruary 2013 Student of the Month\\nMarch 2013 Student of the Month\\nApril 2013 Student of the Month\\nMay 2013 Student of the Month\\nStudent of the Months 2011-2012\\nAugust 2011 Student of the Month\\nSept. 2011 Student of the Month\\nNovember 2011 Student of the Month\\nOctober 2011 Student of the Month\\nDecember 2011 Student of the Month\\nJanuary 2012 Student of the Month\\nFebruary 2012 Student of the Month\\nMarch 2012 Student of the Month\\nApril 2012 Student of the Month\\nMay 2012 Student of the Month\\nStudent of the Months 2013-2014\\nAugust 2013 Student of the Month\\nSeptember 2013 Student of the Month\\nOctober 2013 Student of the Month\\nNovember 2013 Student of the Month\\nDecember 2013 Student of the Month\\nJanuary 2014 Student of the Month\\nFebruary 2014 Student of the Month\\nMarch 2014 Student of the Month\\nApril 2014 Student of the Month\\nMay 2014 Student of the Month\\nStudent of the Months 2014-2015\\nAugust 2014 Student of the Month\\nSeptember 2014 Student of the Month\\nOctober 2014 - Student of the Month \\nNovember 2014 Student of the Month\\nDecember 2014 Student of the Month\\nJanuary 2015 Student of the Month\\nFebruary 2015 Student of the Month\\nMarch 2015 Student of the Month\\nApril 2015 Student of the Month\\nMay 2015 Student of the Month\\nStudent of the Months 2015-2016\\nAugust 2015 Student of the Month\\nSeptember 2015 Student of the Month\\nOctober 2015 Student of the Month\\nNovember 2015 Student of the Month\\nDecember 2015 Student of the Month\\nJanuary 2016 Student of the Month\\nFebruary 2016 Student of the Month\\nApril 2016 Student of the Month\\nMay 2016 Student of the Month\\nStudent of the Months 2016-2017\\nAugust 2016 Student of the Month\\nSeptember 2016 Student of the Month\\nOctober 2016 Student of the Month\\nNovember 2016 Student of the Month\\nDecember 2016 Student of the Month\\nJanuary 2017 Student of the Month\\nFebruary 2017 Student of the Month\\nMarch 2017 Student of the Month\\nWelcome to San Pedro Valley High School\\nReceived an A label 4 years in a row. Ranked the Top 1 and Top 3 Alternative School in Arizona by the Department of Education for two years in a row\\nPart of the Benson Unified School District\\nReceived an A label and is ranked within the Top 10 Public School District in Arizona by the Department of Education for two years in a row\\nSan Pedro Valley High School is committed to offering a rigorous and relevant standards-based curriculum tailored to each student's individual needs enabling all students to achieve academic success. We are committed to the following:\\nTo continuously improve the instruction we offer by incorporating current research and best practices, \\nTo create a culture of excellence where all the students are motivated to excel academically,\\nTo establish an environment where everyone feels safe, supported and appreciated,\\nTo partner with parents to better understand and guide our students through a successful high school experience by providing encouragement and supportive interventions, and\\xa0\\nTo work together with our educational community: students, teachers, parents, staff, political officials, and community- to help our students become productive members of our society.\\xa0 \\nGraduation for the Class of 2017.\\nGraduation will be held in the Benson High School Auditorium on Wednesday, May 24, 2017. \\xa0\\nThe following is the schedule of events.\\n1:00 P.M.\\xa0 Graduation rehearsal.\\xa0 Students don't need to be in cap and gown.\\n5:00 P.M.\\xa0 Graduation Pictures.\\xa0\\xa0Students need to be dressed semi-formal and in cap and gown for individual and graduating class picture.\\n6:00 P.M.\\xa0 Graduation Ceremony will start.\\n8:00 P.M.\\xa0 Gradu\\nation Ceremony will conclud\\ne.\\nKeep working hard graduates, persevere, and follow what you are passionate about and you will succeed.\\nLast day for students - May 26, 2017\\nSummer School - May 30 - June 16\\nSummer school will be Monday through Friday 8:30 A.M. - 12:00 P.M., except for Monday, May 29, which is Memorial Day.\\nStudents can earn 1/2 credit. There is a $100 non-refundable fee.\\nArizona students can come into SPVHS, call our number or email us to sign up for classes.\\xa0\\nBHS students wishing to attend summer school, must pick up and fill out an application, have your Academic Counselor sign off on your class, and return it with payment to the BHS office.\\notos courtesy of Benson Schools Photography Classes and Staff\\nWelcome to San Pedro Valley Online Academy\\nPart of the Benson Unified School District\\nReceived an A label and is ranked Top 10 Public School District in Arizona by the Department of Education for two years in a row\\nSan Pedro Valley Online Academy is currently enrolling students in grades 6 - 12. SPVOA\\nis a viable option for home schooling families that desire to increase the level of rigor of the curriculum available to their students, while maintaining control of the physical learning environment.\\xa0\\nSPVOA students benefit from the flexibility that online learning provides including, opportunities for course acceleration, unique enrichment programs, access to state certified teachers who are highly qualified in their content area by the state of Arizona\\xa0 and access to learning 24 hours per day, seven days per week.\\n\\xa0For more Information:\\nParents who would like to initiate full-time enrollment should click on the enrollment tab.\\xa0 If you have any questions, please contact the school office at 520-720-6726.\\nRSS Feed\\nTesting\\nAZMERIT\\n\\xa0exams will be held at SPVHS on Tuesday, April 12 - Thursday, April 14.\\xa0 Students taking the exam should report no later that 8:00 A.M. at SPVHS.\\nScience AIMS\\n\\xa0exams will be held at SPVHS on Friday, April 15.\\xa0 Students taking the exam should report no later that 8:00 A.M. at SPVHS.\\nPhotos courtesy of Benson Schools Photography Classes and Staff\\nWelcome to San Pedro Valley Online Academy\\nPart of the Benson Unified School District\\nReceived an A label and is ranked Top 10 Public School District in Arizona by the Department of Education for two years in a row\\nSan Pedro Valley Online Academy is currently enrolling students in grades 6 - 12. SPVOA\\nis a viable option for home schooling families that desire to increase the level of rigor of the curriculum available to their students, while maintaining control of the physical learning environment.\\xa0\\nSPVOA students benefit from the flexibility that online learning provides including, opportunities for course acceleration, unique enrichment programs, access to state certified teachers who are highly qualified in their content area by the state of Arizona\\xa0 and access to learning 24 hours per day, seven days per week.\\n\\xa0For more Information:\\nParents who would like to initiate full-time enrollment should click on the enrollment tab.\\xa0 If you have any questions, please contact the school office at 520-720-6726.\\nRSS Feed\\nTesting\\nAZMERIT\\n\\xa0exams will be held at SPVHS on Tuesday, April 12 - Thursday, April 14.\\xa0 Students taking the exam should report no later that 8:00 A.M. at SPVHS.\\nScience AIMS\\n\\xa0exams will be held at SPVHS on Friday, April 15.\\xa0 Students taking the exam should report no later that 8:00 A.M. at SPVHS.\\nPhotos courtesy of Benson Schools Photography Classes and Staff\\nWelcome to San Pedro Valley Online Academy\\nPart of the Benson Unified School District\\nReceived an A label and is ranked Top 10 Public School District in Arizona by the Department of Education for two years in a row\\nSan Pedro Valley Online Academy is currently enrolling students in grades 6 - 12. SPVOA\\nis a viable option for home schooling families that desire to increase the level of rigor of the curriculum available to their students, while maintaining control of the physical learning environment.\\xa0\\nSPVOA students benefit from the flexibility that online learning provides including, opportunities for course acceleration, unique enrichment programs, access to state certified teachers who are highly qualified in their content area by the state of Arizona\\xa0 and access to learning 24 hours per day, seven days per week.\\n\\xa0For more Information:\\nParents who would like to initiate full-time enrollment should click on the enrollment tab.\\xa0 If you have any questions, please contact the school office at 520-720-6726.\\nRSS Feed\\nTesting\\nAZMERIT\\n\\xa0exams will be held at SPVHS on Tuesday, April 12 - Thursday, April 14.\\xa0 Students taking the exam should report no later that 8:00 A.M. at SPVHS.\\nScience AIMS\\n\\xa0exams will be held at SPVHS on Friday, April 15.\\xa0 Students taking the exam should report no later that 8:00 A.M. at SPVHS.\\nRSS Feed\\nDisplay Previous Month\\nJune, 2018\\nJune\\nJun \\n2018\\nDisplay Next Month\\nS\\nSunday\\nM\\nMonday\\nT\\nTuesday\\nW\\nWednesday\\nT\\nThursday\\nF\\nFriday\\nS\\nSaturday\\n27\\nMay 27, no events\\n28\\nMay 28, no events\\n29\\nMay 29, no events\\n30\\nMay 30, no events\\n31\\nMay 31, no events\\n1\\nJune 01, no events\\n2\\nJune 02, no events\\n3\\nJune 03, no events\\n4\\nJune 04, no events\\n5\\nJune 05, no events\\n6\\nToday, June 06, no events\\n7\\nJune 07, no events\\n8\\nJune 08, no events\\n9\\nJune 09, no events\\n10\\nJune 10, no events\\n11\\nJune 11, no events\\n12\\nJune 12, no events\\n13\\nJune 13, no events\\n14\\nJune 14, no events\\n15\\nJune 15, no events\\n16\\nJune 16, no events\\n17\\nJune 17, no events\\n18\\nJune 18, no events\\n19\\nJune 19, no events\\n20\\nJune 20, no events\\n21\\nJune 21, no events\\n22\\nJune 22, no events\\n23\\nJune 23, no events\\n24\\nJune 24, no events\\n25\\nJune 25, no events\\n26\\nJune 26, no events\\n27\\nJune 27, no events\\n28\\nJune 28, no events\\n29\\nJune 29, no events\\n30\\nJune 30, no events\\nGo to Full Calendar\\nGo to Full Calendar\\nFull Calendar \\nNo events available.\\nArizona Tax Credit\\nGoverning Board\\nPowerSchool\\nOur Community\\n\\r\\r                    San Pedro Valley High School\\n \\r                    360 S. Patagonia St., Benson AZ 85602 | Phone 520.720.6726 | Fax 520.720.6702 \\nWebsite by \\nSchoolMessenger Presence\\n.  © 2018 West Corporation. All rights reserved.\\nFacebook Page\"),\n",
       " ('http://bensonspvhs.sharpschool.net/UserFiles/Servers/Server_1002380/File/SPVHS%20letter%20&%20app%201415.pdf',\n",
       "  'True',\n",
       "  '1',\n",
       "  ' \\n\\nDear Parent/Guardian: \\n\\nChildren need healthy meals to learn. San Pedro Valley High School and San Pedro Valley Online Academy offers \\nhealthy meals every school day. Breakfast costs $1.25; lunch costs $2.60. Your children may qualify for free meals or for \\nreduced price meals. Reduced price is $.30 for breakfast and $.40 for lunch. \\n\\n \\n\\n \\n\\n \\n\\n1.  DO I NEED TO FILL OUT AN APPLICATION FOR EACH CHILD?  No. Complete the application to apply for free or \\n\\nreduced price meals. Use one Free and Reduced Price School Meals Household Application for all students in your \\nhousehold. We cannot approve an application that is not complete, so be sure to fill out all required information. \\nReturn the completed application to: San Pedro Valley High School. \\n\\n2.  WHO CAN GET FREE MEALS? All children in households receiving benefits from SNAP, the Food Distribution \\n\\nProgram on Indian Reservations or TANF, can get free meals regardless of your income. Also, your children can \\nget free meals if your household’s gross income is within the free limits of the Federal Income Eligibility \\nGuidelines. \\n\\nIf you have received a NOTICE OF DIRECT CERTIFICATION for free meals, do not complete the application.\\nBut do let the school know if any children in your household are not listed on the Notice of Direct \\nCertification letter you received. \\n\\n \\n\\n3.  CAN FOSTER CHILDREN GET FREE MEALS?  Yes, foster children that are under the legal responsibility of a foster \\n\\ncare agency or court, are eligible for free meals.  Any foster child in the household is eligible for free meals \\nregardless of income.  \\n \\n\\n4.  CAN HOMELESS, RUNAWAY, AND MIGRANT CHILDREN GET FREE MEALS? Yes, children who meet the \\n\\ndefinition of homeless, runaway, or migrant qualify for free meals.  If you haven’t been told your children will get \\nfree meals, please call or e-mail San Pedro Valley High School, Kristy Reynolds @ 720-6846 to see if they \\nqualify.   \\n\\n5.  WHO CAN GET REDUCED PRICE MEALS?  Your children can get low cost meals if your household income is within \\n\\nthe reduced price limits on the Federal Eligibility Income Chart, shown on this application.    \\n\\n6.  SHOULD I FILL OUT AN APPLICATION IF I RECEIVED A LETTER THIS SCHOOL YEAR SAYING MY CHILDREN ARE \\nAPPROVED FOR FREE MEALS?  No, but please read the letter you received carefully and follow the instructions.  \\nCall the District Office at 520-720-6730 if you have questions.    \\n\\n7.  MY CHILD’S APPLICATION WAS APPROVED LAST YEAR.  DO I NEED TO FILL OUT ANOTHER ONE?  Yes.  Your \\n\\nchild’s application is only good for that school year and for the first few days of this school year.  You must send in \\na new application unless the school told you that your child is eligible for the new school year.   \\n\\n8. \\n\\nI GET WIC.  CAN MY CHILD(REN) GET FREE MEALS?  Children in households participating in WIC may be eligible \\nfor free or reduced price meals.  Please fill out an application. \\n\\n9.  WILL THE INFORMATION I GIVE BE CHECKED? Yes and we may also ask you to send written proof. \\n\\n\\x0c \\n\\n10. IF I DON’T QUALIFY NOW, MAY I APPLY LATER? Yes, you may apply at any time during the school year.  For \\n\\nexample, children with a parent or guardian who becomes unemployed may become eligible for free or reduced \\nprice meals if the household income drops below the income limit. \\n\\n11.  WHAT IF I DISAGREE WITH THE SCHOOL’S DECISION ABOUT MY APPLICATION? You should talk to school \\n\\nofficials. You may also ask for a hearing by calling or writing to:  Connie Ayres, 360 S. Patagonia Street, \\nBenson, AZ 85602, 520-720-6732, cayres@bensonsd.k12.az.us. \\n\\n12.  MAY I APPLY IF SOMEONE IN MY HOUSEHOLD IS NOT A U.S. CITIZEN? Yes. You or your child(ren) do not have \\n\\nto be U.S. citizens to qualify for free or reduced price meals.   \\n\\n13.  WHO SHOULD I INCLUDE AS MEMBERS OF MY HOUSEHOLD? You must include all people living in your \\n\\nhousehold, related or not (such as grandparents, other relatives, or friends) who share income and expenses. You \\nmust include yourself and all children living with you.  If you live with other people who are economically \\nindependent (for example, people who you do not support, who do not share income with you or your children, \\nand who pay a pro-rated share of expenses), do not include them. \\n\\n14.  WHAT IF MY INCOME IS NOT ALWAYS THE SAME? List the amount that you normally receive. For example, if \\n\\nyou normally make $1000 each month, but you missed some work last month and only made $900, put down that \\nyou made $1000 per month.  If you normally get overtime, include it, but do not include it if you only work \\novertime sometimes.  If you have lost a job or had your hours or wages reduced, use your current income. \\n\\n15.  WE ARE IN THE MILITARY. DO WE INCLUDE OUR HOUSING ALLOWANCE AS INCOME? If you get an off-base \\n\\nhousing allowance, it must be included as income. However, if your housing is part of the Military Housing \\nPrivatization Initiative, do not include your housing allowance as income. \\n\\n16.  MY SPOUSE IS DEPLOYED TO A COMBAT ZONE. IS THEIR COMBAT PAY COUNTED AS INCOME?  No, if the \\ncombat pay is received in addition to their basic pay because of their deployment and it wasn’t received before \\nthey were deployed, combat pay is not counted as income.  Contact your school for more information. \\n\\n17.  MY FAMILY NEEDS MORE HELP. ARE THERE OTHER PROGRAMS WE MIGHT APPLY FOR? To find out how to \\n\\napply for SNAP or other assistance benefits, contact your local assistance office or call 1(800)352-8401. \\n\\n \\n\\nIf you have other questions or need help, call 520-720-6730. \\n\\nSi necesita ayuda, por favor llame al teléfono: 520-720-6730. \\n\\n \\n\\nSincerely,  \\n\\nConnie Ayres\\n\\n \\n\\n\\x0c \\n\\nPart 1: \\n\\nI N S T R U C T I O N S   F O R   A P P L Y I N G  \\n\\nA HOUSEHOLD MEMBER IS ANY CHILD OR ADULT LIVING WITH YOU. \\n\\nIf any child you are applying for is homeless, migrant, or a runaway check the appropriate box and \\ncall San Pedro Valley High School.  Complete Box A and Box B in Part 2 and then skip to Part 3. \\n\\nPart 2: \\n\\n\\uf0b7  Box A–List all household members. \\n\\n\\uf0b7  Box B – List the name of the school attended by each child or mark N/A for household \\n\\nmembers not attending school. \\n\\n\\uf0b7  Box C – List the case number (not EBT card number) for any household member (including \\n\\nadults) receiving SNAP or TANF Cash Assistance or FDPIR benefits. Skip to Part 3. \\n\\n\\uf0b7  Box D – Check the box in this section for all children in the household who are foster \\n\\nchildren (legal responsibility of welfare agency or court).  Skip to Part 3. \\n\\n\\uf0b7  Box E – For ANY household member, including children, with NO INCOME, you MUST check \\n\\nthe “No Income” box.  \\n\\n\\uf0b7  Box F –Gross Income and How Often It Was Received: For each household member, list \\n\\neach type of income received. Report how often the money is received—weekly, every other \\nweek, twice a month, monthly or yearly—by filling in the circle under the frequency \\namounts.  For earnings, be sure to list the gross income, not the take-home pay. Gross \\nincome is the amount earned before taxes and other deductions. You should be able to \\nfind it on your pay stub or your employer can tell you. For other income, list the amount \\neach person received from welfare, child support, alimony, pensions, retirement, Social \\nSecurity, Supplemental Security Income (SSI), Veteran’s benefits (VA benefits), disability \\nbenefits, Worker’s Compensation, unemployment or strike benefits, regular contributions \\nfrom people who do not live in your household, and any other income. Do not include \\nincome from SNAP, FDPIR, WIC, Federal education benefits and foster payments received by \\nthe family from the placing agency.   \\n\\nFor ONLY the self-employed, under Earnings from Work, report income after expenses. This \\nis for your business, farm, or rental property.  If you are in the Military Privatized Housing \\nInitiative or get combat pay, do not include these allowances as income. \\n\\n\\uf0b7  Box G – Social Security Number: Adult household member must list the last four digits of \\n\\ntheir Social Security Number or mark the box if she/he does not have one. \\n\\nPart 3: \\nAdult household member must sign the form unless Part 1 is completed. \\n \\n\\nPart 4: \\nCompleting this section is optional. \\n\\n \\n\\n\\x0c \\nPART 1. IF ANY CHILD YOU ARE APPLYING FOR IS HOMELESS, MIGRANT, A RUNAWAY OR IN HEAD START CHECK THE APPROPRIATE BOX AND CALL Kristy Reynolds @ 720-\\n6846 or 720-6825      HOMELESS  \\uf071  MIGRANT \\uf071  RUNAWAY \\uf071  HEAD START  \\uf071  If completing this section, fill out Box A and Box B in Part 2. \\n\\nFREE AND REDUCED PRICE SCHOOL MEALS HOUSEHOLD APPLICATION \\n\\n \\n\\nPART 2. ALL HOUSEHOLD MEMBERS \\n\\nBox A. \\n \\n \\n \\n \\n \\n \\n \\n \\nNames of all household \\nmembers \\n(First, Middle Initial, Last) \\n\\nBox B.  \\n \\n \\n \\n \\n \\nName of school \\nattended by each \\nchild and grade or \\nindicate  “NA” if \\nhousehold member \\nis not in school \\n\\nBox C. \\n \\n \\n \\n \\nIf any member of your \\nhousehold receives \\nSNAP, FDPIR or TANF \\nCash Assistance, \\nprovide the case \\nnumber (not EBT card \\nnumber) and skip to \\nPart 3. \\n\\nBox D.  \\n \\nCheck if a \\nfoster child \\n(legal \\nresponsibility \\nof welfare \\nagency or \\ncourt) \\nIf completing \\nthis section   \\nskip to Part 3. \\n\\nBox E. \\n \\n \\n \\n \\n \\n \\n \\n \\nCheck if  \\nNO \\nincome \\n \\n\\n1. \\n\\n2. \\n\\n3. \\n\\n4. \\n\\n5. \\n\\n6. \\n\\n7. \\n\\n8. \\n\\n \\n\\n \\n\\n \\n\\n \\n\\n \\n\\n \\n\\n \\n\\n \\n\\n \\n\\n \\n\\n \\n\\n \\n\\n \\n\\n \\n\\n \\n\\n \\n\\n\\uf071 \\n\\n\\uf071 \\n\\n\\uf071 \\n\\n\\uf071 \\n\\n\\uf071 \\n\\n\\uf071 \\n\\n\\uf071 \\n\\n\\uf071 \\n\\n  \\uf071 \\n\\n  \\uf071 \\n\\n  \\uf071 \\n\\n  \\uf071 \\n\\n  \\uf071 \\n\\n  \\uf071 \\n\\n  \\uf071 \\n\\n  \\uf071 \\n\\n \\n\\n \\n\\n \\n\\n \\n\\n \\n\\n \\n\\n \\n\\n \\n\\nBox F. \\n\\nTOTAL HOUSEHOLD GROSS INCOME \\n\\nPlease report how much and fill in the circle indicating how often income is received \\n\\nWeekly (wk) or Every Other Week (bi-wk) or Monthly (mo) or Twice a Month (bi-mo) \\n\\nusing the following income frequencies: \\n\\nor Annually/Yearly (yr) \\n\\nEarnings From Work before deductions \\n\\nAll Other Income \\n\\n \\n\\n \\n \\n \\n\\n(Welfare, child support, alimony, \\n\\npensions, retirement, Social Security, SSI, \\n\\nVA benefits, other) \\n\\n \\n \\n\\nHow much               How Often \\n\\n                                     wk   bi-wk   mo   bi-mo   yr \\n\\nHow much               How Often \\n\\n                                    wk    bi-wk   mo   bi-mo   yr \\n\\n$                           \\uf020\\uf06d\\uf020\\uf06d\\uf020\\uf06d\\uf020\\uf06d\\uf020\\uf06d       $                           \\uf020\\uf06d\\uf020\\uf06d\\uf020\\uf06d\\uf020\\uf06d\\uf020\\uf06d      \\n\\n$                           \\uf020\\uf06d\\uf020\\uf06d\\uf020\\uf06d\\uf020\\uf06d\\uf020\\uf06d       $                           \\uf020\\uf06d\\uf020\\uf06d\\uf020\\uf06d\\uf020\\uf06d\\uf020\\uf06d      \\n\\n$                           \\uf020\\uf06d\\uf020\\uf06d\\uf020\\uf06d\\uf020\\uf06d\\uf020\\uf06d       $                           \\uf020\\uf06d\\uf020\\uf06d\\uf020\\uf06d\\uf020\\uf06d\\uf020\\uf06d      \\n\\n$                           \\uf020\\uf06d\\uf020\\uf06d\\uf020\\uf06d\\uf020\\uf06d\\uf020\\uf06d       $                           \\uf020\\uf06d\\uf020\\uf06d\\uf020\\uf06d\\uf020\\uf06d\\uf020\\uf06d      \\n\\n$                           \\uf020\\uf06d\\uf020\\uf06d\\uf020\\uf06d\\uf020\\uf06d\\uf020\\uf06d       $                           \\uf020\\uf06d\\uf020\\uf06d\\uf020\\uf06d\\uf020\\uf06d\\uf020\\uf06d      \\n\\n$                           \\uf020\\uf06d\\uf020\\uf06d\\uf020\\uf06d\\uf020\\uf06d\\uf020\\uf06d       $                           \\uf020\\uf06d\\uf020\\uf06d\\uf020\\uf06d\\uf020\\uf06d\\uf020\\uf06d      \\n\\n$                           \\uf020\\uf06d\\uf020\\uf06d\\uf020\\uf06d\\uf020\\uf06d\\uf020\\uf06d       $                           \\uf020\\uf06d\\uf020\\uf06d\\uf020\\uf06d\\uf020\\uf06d\\uf020\\uf06d      \\n\\n$                           \\uf020\\uf06d\\uf020\\uf06d\\uf020\\uf06d\\uf020\\uf06d\\uf020\\uf06d       $                           \\uf020\\uf06d\\uf020\\uf06d\\uf020\\uf06d\\uf020\\uf06d\\uf020\\uf06d      \\n\\nBox G. If Part 2. Box E and/or Box F, is completed, the adult signing the form also must list the last four digits of his or her Social Security Number or mark the “I do not have a Social Security \\nNumber” box. (See Information Statement on the back of this page.) \\nLast four digits of Social Security Number:  * * * - *  * - __ __ __ __                                     \\uf071 I do not have a Social Security Number \\nPART 3. SIGNATURE (AN ADULT HOUSEHOLD MEMBER MUST SIGN THE APPLICATION) \\n\\nPART 4. CHILDREN’S ETHNIC AND RACIAL IDENTITIES (OPTIONAL) \\n\\nI certify (promise) that all information on this application is true and that all income is reported. I understand that the school will \\nget Federal funds based on the information I give. I understand that school officials may verify (check) the information. I \\nunderstand that if I purposely give false information, my children may lose meal benefits, and I may be prosecuted. I understand my \\nchild’s eligibility status may be shared as allowed by law. \\n \\nSign here: __________________________________________________Date:____________________________    \\nPrint name here: ____________________________________________________________________________   \\nAddress:______________________________________________________________________________________                                                   \\nCity:_____________________________________________State:__________________Zip Code:___________ \\nPhone Number:___________________________       e-mail: _______________________________________ \\nDO NOT FILL OUT THIS PART. THIS IS FOR SCHOOL USE ONLY.                                                                                                                                                 Eligibility: Free___ Reduced___ Denied___ Reason:______________________                                                                                            \\nAnnual Income Conversion: Weekly x 52, Every 2 Weeks x 26, Twice a Month x 24, Monthly x 12                                                              Determining Official’s Signature: ______________________________ Date: ______________                             \\nTotal Income: _____________  Per: \\uf071Week, \\uf071Every 2 Weeks, \\uf071Twice a Month, \\uf071Month, \\uf071Year  Household Size:________          Confirming Official’s Signature: _______________________________ Date: ______________                       \\n\\uf071Error-Prone  \\uf071Case # Application  \\uf071Categorically Eligible                                                                                                                                Follow-Up Official’s Signature: ________________________________ Date: ______________                     \\n\\uf071Directly Certified – Attach to match result         \\uf071Selected for Verification (see attachments)                                                                                                                                                      Date Notice Sent: _______________________ \\n                                                                                                                                                                                                                                                                                                                               Date Withdrawn: _______________________                                                                           \\n\\nChoose one or more (regardless of ethnicity):                                                     \\n\\uf071 Asian                \\n\\uf071 American Indian or Alaska Native      \\n\\uf071 Black or African American                                       \\n\\uf071 White                \\n\\uf071 Native Hawaiian or other Pacific Islander            \\n\\nChoose one ethnicity: \\n\\uf071 Hispanic/Latino \\n\\uf071 Not Hispanic/Latino \\n\\n     \\x0c \\n\\n \\n\\nYour children may qualify for free or reduced price meals  \\nif your household income falls at or below the limits on this chart. \\n\\n \\n\\n \\n\\n \\n\\n \\n\\n \\n\\n \\n\\nFEDERAL ELIGIBILITY INCOME CHART For School Year 2014-2015 \\n\\nHousehold size \\n\\n1 \\n\\n2 \\n\\n3 \\n\\n4 \\n\\n5 \\n\\n6 \\n\\n7 \\n\\n8 \\n\\n \\n\\nEach additional person: \\n\\nYearly \\n\\n$21,590 \\n\\n29,101 \\n\\n36,612 \\n\\n44,123 \\n\\n51,634 \\n\\n59,145 \\n\\n66,656 \\n\\n74,167 \\n\\n+7,511 \\n\\nMonthly \\n\\nWeekly \\n\\n1,800 \\n\\n2,426 \\n\\n3,051 \\n\\n3,677 \\n\\n4,303 \\n\\n4,929 \\n\\n5,555 \\n\\n6,181 \\n\\n+626 \\n\\n416 \\n\\n560 \\n\\n705 \\n\\n849 \\n\\n993 \\n\\n1,138 \\n\\n1,282 \\n\\n1,427 \\n\\n+145 \\n\\nInformation Statement: This explains how we will use the information you give us. \\n\\nThe Richard B. Russell National School Lunch Act requires the information on this application. You do not have to give the information, but if you do not, we cannot approve your child for \\nfree or reduced price meals.  You must include the last four digits of the social security number of the adult household member who signs the application.  The last four digits of the social \\nsecurity number is not required when you apply on behalf of a foster child or you list a Supplemental Nutrition Assistance Program (SNAP), Temporary Assistance for Needy Families \\n(TANF) Program or Food Distribution Program on Indian Reservations (FDPIR) case number or other FDPIR identifier for your child or when you indicate that the adult household \\nmember signing the application does not have a social security number.  We will use your information to determine if your child is eligible for free or reduced price meals, and for \\nadministration and enforcement of the lunch and breakfast programs. We MAY share your eligibility information with education, health, and nutrition programs to help them evaluate, \\nfund, or determine benefits for their programs, auditors for program reviews, and law enforcement officials to help them look into violations of program rules. \\n\\n \\n\\nNon-discrimination Statement: This explains what to do if you believe you have been treated unfairly.  \\n\\nThe U.S. Department of Agriculture prohibits discrimination against its customers, employees, and applicants for employment on the bases of race, color, national origin, age, disability, sex, \\ngender identity, religion, reprisal, and where applicable, political beliefs, marital status, familial or parental status, sexual orientation, or all or part of an individual’s income is derived from \\nany public assistance program, or protected genetic information in employment or in any program or activity conducted or funded by the Department. (Not all prohibited bases will apply \\nto all programs and/or employment activities.)  \\n\\nIf you wish to file a Civil Rights program complaint of discrimination, complete the USDA Program Discrimination Complaint Form, found online at \\nhttp://www.ascr.usda.gov/complaint_filing_cust.html, or at any USDA office, or call (866)632-9992 to request the form. You may also write a letter containing all of the information \\nrequested in the form. Send your completed complaint form or letter to us by mail at U.S. Department of Agriculture, Director, Office of Adjudication, 1400 Independence Avenue, S.W., \\nWashington, D.C. 20250-9410, by fax (202) 690-7442 or email at program.intake@usda.gov.  \\n\\nIndividuals who are deaf, hard of hearing or have speech disabilities may contact USDA through the Federal Relay Service at (800) 877-8339; or (800) 845-6136 (Spanish).  \\n\\nUSDA is an equal opportunity provider and employer.  \\n\\n \\n\\n\\x0c'),\n",
       " ('http://bensonspvhs.sharpschool.net/student_of_the_month/student_of_the_months_2015-2016/may_2016_student_of_the_month',\n",
       "  'False',\n",
       "  '1',\n",
       "  'Benson Unified School District\\nBenson Primary School\\nBenson Middle School\\nBenson High School\\nSan Pedro Valley High School\\nSan Pedro Valley Online Academy\\nSearch\\nSpanish\\nCantonese\\nFrench\\nGerman\\nItalian\\nTagalog\\nVietnamese\\nKorean\\nRussian\\nHindi\\nGuest\\n | \\nLogin\\n\\r\\t\\t\\t{1}\\t\\t\\t\\t\\r\\t\\t\\t\\n##LOC[OK]##\\r\\t\\t\\t\\t\\t\\r\\t\\t\\t\\t\\n\\r\\t\\t\\t    {1}\\t\\t\\t\\t\\r\\t\\t\\t    \\n##LOC[OK]##\\n##LOC[Cancel]##\\n\\r\\t\\t\\t{1}\\t\\t\\t\\t\\r\\t\\t\\t\\n##LOC[OK]##\\n##LOC[Cancel]##\\nHome\\nNews\\nArchived News\\nStaff Directory\\nMrs. Balsiger\\nContact Me\\nCalendar\\nPhoto Gallery\\nUseful Links\\nContact School\\nEnrollment\\nFree & Reduced Meals Information & Application\\nFor Parents & Students\\nCalendar\\nEdgenuity\\nCollege Scholarships & Grants\\nStudent of the Month\\nStudent of the Months 2012-2013\\nAugust 2012 Student of the Month\\nSept. 2012 Student of the Month\\nNovember 2012 Student of the Month\\nDecember 2012 Student of the Month\\nOctober 2012 Student of the Month\\nJanuary 2013 Student of the Month\\nFebruary 2013 Student of the Month\\nMarch 2013 Student of the Month\\nApril 2013 Student of the Month\\nMay 2013 Student of the Month\\nStudent of the Months 2011-2012\\nAugust 2011 Student of the Month\\nSept. 2011 Student of the Month\\nNovember 2011 Student of the Month\\nOctober 2011 Student of the Month\\nDecember 2011 Student of the Month\\nJanuary 2012 Student of the Month\\nFebruary 2012 Student of the Month\\nMarch 2012 Student of the Month\\nApril 2012 Student of the Month\\nMay 2012 Student of the Month\\nStudent of the Months 2013-2014\\nAugust 2013 Student of the Month\\nSeptember 2013 Student of the Month\\nOctober 2013 Student of the Month\\nNovember 2013 Student of the Month\\nDecember 2013 Student of the Month\\nJanuary 2014 Student of the Month\\nFebruary 2014 Student of the Month\\nMarch 2014 Student of the Month\\nApril 2014 Student of the Month\\nMay 2014 Student of the Month\\nStudent of the Months 2014-2015\\nAugust 2014 Student of the Month\\nSeptember 2014 Student of the Month\\nOctober 2014 - Student of the Month \\nNovember 2014 Student of the Month\\nDecember 2014 Student of the Month\\nJanuary 2015 Student of the Month\\nFebruary 2015 Student of the Month\\nMarch 2015 Student of the Month\\nApril 2015 Student of the Month\\nMay 2015 Student of the Month\\nStudent of the Months 2015-2016\\nAugust 2015 Student of the Month\\nSeptember 2015 Student of the Month\\nOctober 2015 Student of the Month\\nNovember 2015 Student of the Month\\nDecember 2015 Student of the Month\\nJanuary 2016 Student of the Month\\nFebruary 2016 Student of the Month\\nApril 2016 Student of the Month\\nMay 2016 Student of the Month\\nStudent of the Months 2016-2017\\nAugust 2016 Student of the Month\\nSeptember 2016 Student of the Month\\nOctober 2016 Student of the Month\\nNovember 2016 Student of the Month\\nDecember 2016 Student of the Month\\nJanuary 2017 Student of the Month\\nFebruary 2017 Student of the Month\\nMarch 2017 Student of the Month\\nAugust 2015 Student of the Month\\nSeptember 2015 Student of the Month\\nOctober 2015 Student of the Month\\nNovember 2015 Student of the Month\\nDecember 2015 Student of the Month\\nJanuary 2016 Student of the Month\\nFebruary 2016 Student of the Month\\nApril 2016 Student of the Month\\nSan Pedro Valley High School\\n\\xa0»\\xa0\\nStudent of the Month\\n\\xa0»\\xa0\\nStudent of the Months 2015-2016\\n\\xa0»\\xa0\\nMay 2016 Student of the Month\\nMay 2016 Student of the Month\\nBriana Mayer\\nSan Pedro Valley High School \\nMay Student of the Month\\nJunior, Briana Mayer is San Pedro Valley High School’s May Student of the Month. Briana was chosen because she strives for excellence, her exceptional work ethic, and her willingness to help other students.\\n“Briana is polite, kind, and a model student,” said Mr. Connet, San Pedro Valley High School principal.\\nAfter high school, Briana plans to attend Carrington College to study to be a veterinarian.\\nAs Student of the Month, Briana will be recognized at the SPVHS Graduation Ceremony and Recognition Night on May 25 with a plaque.\\xa0 \\nIn addition, her name will remain on the 2015-2016 school year Student of the Month perpetual plaque that hangs in the school’s front office.\\n\\r\\r                    San Pedro Valley High School\\n \\r                    360 S. Patagonia St., Benson AZ 85602 | Phone 520.720.6726 | Fax 520.720.6702 \\nWebsite by \\nSchoolMessenger Presence\\n.  © 2018 West Corporation. All rights reserved.\\nFacebook Page'),\n",
       " ('http://bensonspvhs.sharpschool.net/student_of_the_month/student_of_the_months_2011-2012/december_2011_student_of_the_month',\n",
       "  'False',\n",
       "  '1',\n",
       "  'Benson Unified School District\\nBenson Primary School\\nBenson Middle School\\nBenson High School\\nSan Pedro Valley High School\\nSan Pedro Valley Online Academy\\nSearch\\nSpanish\\nCantonese\\nFrench\\nGerman\\nItalian\\nTagalog\\nVietnamese\\nKorean\\nRussian\\nHindi\\nGuest\\n | \\nLogin\\n\\r\\t\\t\\t{1}\\t\\t\\t\\t\\r\\t\\t\\t\\n##LOC[OK]##\\r\\t\\t\\t\\t\\t\\r\\t\\t\\t\\t\\n\\r\\t\\t\\t    {1}\\t\\t\\t\\t\\r\\t\\t\\t    \\n##LOC[OK]##\\n##LOC[Cancel]##\\n\\r\\t\\t\\t{1}\\t\\t\\t\\t\\r\\t\\t\\t\\n##LOC[OK]##\\n##LOC[Cancel]##\\nHome\\nNews\\nArchived News\\nStaff Directory\\nMrs. Balsiger\\nContact Me\\nCalendar\\nPhoto Gallery\\nUseful Links\\nContact School\\nEnrollment\\nFree & Reduced Meals Information & Application\\nFor Parents & Students\\nCalendar\\nEdgenuity\\nCollege Scholarships & Grants\\nStudent of the Month\\nStudent of the Months 2012-2013\\nAugust 2012 Student of the Month\\nSept. 2012 Student of the Month\\nNovember 2012 Student of the Month\\nDecember 2012 Student of the Month\\nOctober 2012 Student of the Month\\nJanuary 2013 Student of the Month\\nFebruary 2013 Student of the Month\\nMarch 2013 Student of the Month\\nApril 2013 Student of the Month\\nMay 2013 Student of the Month\\nStudent of the Months 2011-2012\\nAugust 2011 Student of the Month\\nSept. 2011 Student of the Month\\nNovember 2011 Student of the Month\\nOctober 2011 Student of the Month\\nDecember 2011 Student of the Month\\nJanuary 2012 Student of the Month\\nFebruary 2012 Student of the Month\\nMarch 2012 Student of the Month\\nApril 2012 Student of the Month\\nMay 2012 Student of the Month\\nStudent of the Months 2013-2014\\nAugust 2013 Student of the Month\\nSeptember 2013 Student of the Month\\nOctober 2013 Student of the Month\\nNovember 2013 Student of the Month\\nDecember 2013 Student of the Month\\nJanuary 2014 Student of the Month\\nFebruary 2014 Student of the Month\\nMarch 2014 Student of the Month\\nApril 2014 Student of the Month\\nMay 2014 Student of the Month\\nStudent of the Months 2014-2015\\nAugust 2014 Student of the Month\\nSeptember 2014 Student of the Month\\nOctober 2014 - Student of the Month \\nNovember 2014 Student of the Month\\nDecember 2014 Student of the Month\\nJanuary 2015 Student of the Month\\nFebruary 2015 Student of the Month\\nMarch 2015 Student of the Month\\nApril 2015 Student of the Month\\nMay 2015 Student of the Month\\nStudent of the Months 2015-2016\\nAugust 2015 Student of the Month\\nSeptember 2015 Student of the Month\\nOctober 2015 Student of the Month\\nNovember 2015 Student of the Month\\nDecember 2015 Student of the Month\\nJanuary 2016 Student of the Month\\nFebruary 2016 Student of the Month\\nApril 2016 Student of the Month\\nMay 2016 Student of the Month\\nStudent of the Months 2016-2017\\nAugust 2016 Student of the Month\\nSeptember 2016 Student of the Month\\nOctober 2016 Student of the Month\\nNovember 2016 Student of the Month\\nDecember 2016 Student of the Month\\nJanuary 2017 Student of the Month\\nFebruary 2017 Student of the Month\\nMarch 2017 Student of the Month\\nAugust 2011 Student of the Month\\nSept. 2011 Student of the Month\\nNovember 2011 Student of the Month\\nOctober 2011 Student of the Month\\nJanuary 2012 Student of the Month\\nFebruary 2012 Student of the Month\\nMarch 2012 Student of the Month\\nApril 2012 Student of the Month\\nMay 2012 Student of the Month\\nSan Pedro Valley High School\\n\\xa0»\\xa0\\nStudent of the Month\\n\\xa0»\\xa0\\nStudent of the Months 2011-2012\\n\\xa0»\\xa0\\nDecember 2011 Student of the Month\\nDecember 2011 Student of the Month\\n\\xa0\\xa0\\xa0\\xa0\\xa0\\xa0\\xa0\\xa0\\xa0\\xa0\\xa0\\xa0\\xa0\\xa0\\xa0 \\xa0\\xa0 San Pedro Valley High School \\n\\xa0\\xa0\\xa0\\xa0\\xa0\\xa0\\xa0\\xa0\\xa0\\xa0\\xa0\\xa0\\xa0\\xa0\\xa0\\xa0\\xa0 December Student of the Month\\n\\xa0\\xa0\\xa0\\xa0\\xa0\\xa0\\xa0\\xa0\\xa0\\xa0\\xa0\\xa0\\xa0\\xa0\\xa0\\xa0\\xa0\\xa0\\xa0\\xa0\\xa0\\xa0\\xa0 \\xa0 \\xa0 \\xa0 \\xa0 \\xa0\\xa0\\xa0\\xa0 Rebekah Edsall\\nSenior, Rebekah Edsall is San Pedro Valley High School’s December Student of the Month. Rebekah was chosen because of her quiet dedication and tenacity to her learning. \\n“Rebekah is very caring, courteous, and well-mannered. She is a wonderful role model for all of us, students and staff,” said Mr. Connet, principal.\\nAs well as being an extraordinary student, Rebekah currently serves ice cream to the city of Benson at the Old Benson Ice Cream Stop as well.\\nRebekah is set to graduate in December 2011 and would like go into the field of nursing.\\nHer goals in life are to help people and make a difference in the lives of people.\\nAs Student of the Month, Rebekah will be recognized at the SPVHS Graduation Ceremony and Recognition Night on /May 22 with a plaque.\\xa0 \\nIn addition, her name will remain on the 2011-2012 school year Student of the Month perpetual plaque that hangs in the school’s front office.\\n\\r\\r                    San Pedro Valley High School\\n \\r                    360 S. Patagonia St., Benson AZ 85602 | Phone 520.720.6726 | Fax 520.720.6702 \\nWebsite by \\nSchoolMessenger Presence\\n.  © 2018 West Corporation. All rights reserved.\\nFacebook Page')]"
      ]
     },
     "execution_count": 119,
     "metadata": {},
     "output_type": "execute_result"
    }
   ],
   "source": [
    "# EXAMPLE OF LOW IBL: \n",
    "# http://bensonspvhs.sharpschool.net/ [5]\n",
    "# http://rcbhighschool.com/academics/ [7]\n",
    "# https://www.phoenixcollege.edu/pc-prep-academy [11]\n",
    "\n",
    "subset = df[df[\"INQUIRY_RATIO\"] < 0.006][df[\"NUMWORDS\"] > 1000][df[\"NUMPAGES\"] < 5]\n",
    "print(subset[\"NUMPAGES\"])\n",
    "page = subset.iloc[5]\n",
    "page[\"WEBTEXT\"]"
   ]
  }
 ],
 "metadata": {
  "kernelspec": {
   "display_name": "Python 3",
   "language": "python",
   "name": "python3"
  },
  "language_info": {
   "codemirror_mode": {
    "name": "ipython",
    "version": 3
   },
   "file_extension": ".py",
   "mimetype": "text/x-python",
   "name": "python",
   "nbconvert_exporter": "python",
   "pygments_lexer": "ipython3",
   "version": "3.7.3"
  }
 },
 "nbformat": 4,
 "nbformat_minor": 2
}
