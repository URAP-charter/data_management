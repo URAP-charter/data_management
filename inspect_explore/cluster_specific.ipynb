{
 "cells": [
  {
   "cell_type": "code",
   "execution_count": 63,
   "metadata": {},
   "outputs": [],
   "source": [
    "import pandas as pd"
   ]
  },
  {
   "cell_type": "code",
   "execution_count": 64,
   "metadata": {},
   "outputs": [],
   "source": [
    "df = pd.read_stata(\"newCol/stats_ALL_2015_v2a_mi5.dta\")"
   ]
  },
  {
   "cell_type": "markdown",
   "metadata": {},
   "source": [
    "groupby ---- > state, cmo, geodistrict\n",
    "average ---- > lninq, lndisc, povertyschool, lnpocschool, povertysd, pocsd"
   ]
  },
  {
   "cell_type": "code",
   "execution_count": 65,
   "metadata": {},
   "outputs": [],
   "source": [
    "#Create state level variables\n",
    "state_lninq = df[['state', 'lninq']].groupby(['state']).mean().reset_index().rename(columns={'lninq':'state_lninq'})\n",
    "state_lndisc = df[['state', 'lndisc']].groupby(['state']).mean().reset_index().rename(columns={'lndisc':'state_lndisc'})\n",
    "state_povsch = df[['state', 'povertyschool']].groupby(['state']).mean().reset_index().rename(columns={'povertyschool':'state_povertyschool'})\n",
    "state_lnpocschool = df[['state', 'lnpocschool']].groupby(['state']).mean().reset_index().rename(columns={'lnpocschool':'state_lnpocschool'})\n",
    "state_povertysd = df[['state', 'povertysd']].groupby(['state']).mean().reset_index().rename(columns={'povertysd':'state_povertysd'})\n",
    "state_pocsd = df[['state', 'pocsd']].groupby(['state']).mean().reset_index().rename(columns={'pocsd':'state_pocsd'})"
   ]
  },
  {
   "cell_type": "code",
   "execution_count": 66,
   "metadata": {},
   "outputs": [],
   "source": [
    "#Create cmo level variables\n",
    "cmo_lninq = df[['cmo', 'lninq']].groupby(['cmo']).mean().reset_index().rename(columns={'lninq':'cmo_lninq'})\n",
    "cmo_lndisc = df[['cmo', 'lndisc']].groupby(['cmo']).mean().reset_index().rename(columns={'lndisc':'cmo_lndisc'})\n",
    "cmo_povsch = df[['cmo', 'povertyschool']].groupby(['cmo']).mean().reset_index().rename(columns={'povertyschool':'cmo_povertyschool'})\n",
    "cmo_lnpocschool = df[['cmo', 'lnpocschool']].groupby(['cmo']).mean().reset_index().rename(columns={'lnpocschool':'cmo_lnpocschool'})\n",
    "cmo_povertysd = df[['cmo', 'povertysd']].groupby(['cmo']).mean().reset_index().rename(columns={'povertysd':'cmo_povertysd'})\n",
    "cmo_pocsd = df[['cmo', 'pocsd']].groupby(['cmo']).mean().reset_index().rename(columns={'pocsd':'cmo_pocsd'})"
   ]
  },
  {
   "cell_type": "code",
   "execution_count": 67,
   "metadata": {},
   "outputs": [],
   "source": [
    "#Create geodistrict level variables\n",
    "geodistrict_lninq = df[['geodistrict', 'lninq']].groupby(['geodistrict']).mean().reset_index().rename(columns={'lninq':'geodistrict_lninq'})\n",
    "geodistrict_lndisc = df[['geodistrict', 'lndisc']].groupby(['geodistrict']).mean().reset_index().rename(columns={'lndisc':'geodistrict_lndisc'})\n",
    "geodistrict_povsch = df[['geodistrict', 'povertyschool']].groupby(['geodistrict']).mean().reset_index().rename(columns={'povertyschool':'geodistrict_povertyschool'})\n",
    "geodistrict_lnpocschool = df[['geodistrict', 'lnpocschool']].groupby(['geodistrict']).mean().reset_index().rename(columns={'lnpocschool':'geodistrict_lnpocschool'})\n",
    "geodistrict_povertysd = df[['geodistrict', 'povertysd']].groupby(['geodistrict']).mean().reset_index().rename(columns={'povertysd':'geodistrict_povertysd'})\n",
    "geodistrict_pocsd = df[['geodistrict', 'pocsd']].groupby(['geodistrict']).mean().reset_index().rename(columns={'pocsd':'geodistrict_pocsd'})"
   ]
  },
  {
   "cell_type": "code",
   "execution_count": 68,
   "metadata": {},
   "outputs": [],
   "source": [
    "#make lists of the cluster specfic variables\n",
    "state_names = [state_lninq, state_lndisc, state_povsch, state_lnpocschool, state_povertysd, state_pocsd]\n",
    "cmo_names = [cmo_lninq, cmo_lndisc, cmo_povsch, cmo_lnpocschool, cmo_povertysd, cmo_pocsd]\n",
    "geodistrict_names = [geodistrict_lninq, geodistrict_lndisc, geodistrict_povsch, geodistrict_lnpocschool, geodistrict_povertysd, geodistrict_pocsd]"
   ]
  },
  {
   "cell_type": "code",
   "execution_count": 69,
   "metadata": {},
   "outputs": [],
   "source": [
    "#merge\n",
    "merged = df\n",
    "for i in range(6):\n",
    "    merged = pd.merge(merged, state_names[i], on = \"state\", how = \"left\")\n",
    "    merged = pd.merge(merged, cmo_names[i], on = \"cmo\", how = \"left\")\n",
    "    merged = pd.merge(merged, geodistrict_names[i], on = \"geodistrict\", how = \"left\")"
   ]
  },
  {
   "cell_type": "code",
   "execution_count": 71,
   "metadata": {},
   "outputs": [],
   "source": [
    "merged.to_stata(\"newCol/stats_ALL_2015_v2a_mi5_colspec.dta\")"
   ]
  },
  {
   "cell_type": "code",
   "execution_count": null,
   "metadata": {},
   "outputs": [],
   "source": []
  }
 ],
 "metadata": {
  "kernelspec": {
   "display_name": "Python [default]",
   "language": "python",
   "name": "python3"
  },
  "language_info": {
   "codemirror_mode": {
    "name": "ipython",
    "version": 3
   },
   "file_extension": ".py",
   "mimetype": "text/x-python",
   "name": "python",
   "nbconvert_exporter": "python",
   "pygments_lexer": "ipython3",
   "version": "3.6.5"
  }
 },
 "nbformat": 4,
 "nbformat_minor": 2
}
