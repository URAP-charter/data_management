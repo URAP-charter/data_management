{
 "cells": [
  {
   "cell_type": "markdown",
   "metadata": {},
   "source": [
    "## Initializing Python"
   ]
  },
  {
   "cell_type": "code",
   "execution_count": 1,
   "metadata": {
    "collapsed": true
   },
   "outputs": [],
   "source": [
    "#!/usr/bin/env python\n",
    "# -*- coding: UTF-8"
   ]
  },
  {
   "cell_type": "code",
   "execution_count": 2,
   "metadata": {
    "collapsed": true
   },
   "outputs": [],
   "source": [
    "# IMPORTING KEY PACKAGES\n",
    "import csv # for reading in CSVs and turning them into dictionaries\n",
    "import re # for regular expressions\n",
    "import os # for navigating file trees\n",
    "import nltk # for natural language processing tools\n",
    "import pandas # for working with dataframes\n",
    "import numpy as np # for working with numbers"
   ]
  },
  {
   "cell_type": "code",
   "execution_count": 3,
   "metadata": {
    "collapsed": true
   },
   "outputs": [],
   "source": [
    "# FOR CLEANING, TOKENIZING, AND STEMMING THE TEXT\n",
    "from nltk import word_tokenize, sent_tokenize # widely used text tokenizer\n",
    "from nltk.stem.porter import PorterStemmer # an approximate method of stemming words (it just cuts off the ends)\n",
    "from nltk.corpus import stopwords # for one method of eliminating stop words, to clean the text\n",
    "stopenglish = list(stopwords.words(\"english\")) # assign the string of english stopwords to a variable and turn it into a list\n",
    "import string # for one method of eliminating punctuation\n",
    "punctuations = list(string.punctuation) # assign the string of common punctuation symbols to a variable and turn it into a list\n",
    "from scipy.stats.stats import pearsonr"
   ]
  },
  {
   "cell_type": "code",
   "execution_count": 4,
   "metadata": {},
   "outputs": [
    {
     "name": "stdout",
     "output_type": "stream",
     "text": [
      "Populating the interactive namespace from numpy and matplotlib\n"
     ]
    }
   ],
   "source": [
    "# FOR VISUALIZATIONS\n",
    "import matplotlib\n",
    "import matplotlib.pyplot as plt\n",
    "import matplotlib.patches as mpatches\n",
    "\n",
    "# Visualization parameters\n",
    "% pylab inline \n",
    "% matplotlib inline\n",
    "matplotlib.style.use('ggplot')"
   ]
  },
  {
   "cell_type": "markdown",
   "metadata": {},
   "source": [
    "## Reading in preliminary data"
   ]
  },
  {
   "cell_type": "code",
   "execution_count": 5,
   "metadata": {
    "collapsed": true
   },
   "outputs": [],
   "source": [
    "# Read the newly merged data in as a pandas dataframe\n",
    "df = pandas.read_csv(\"merged.csv\", encoding = 'Latin-1')\n",
    "df = df.dropna(subset=[\"WEBTEXT\"]) # drop any schools with no webtext that might have snuck in (none currently)"
   ]
  },
  {
   "cell_type": "markdown",
   "metadata": {},
   "source": [
    "## Using PVI Scores\n",
    "Here we'll use Partisan Voting Index scores instead of voting records to assess political preference\n",
    "PVI scores are based on congressional district, but the data we have does not say which congressional district a school belongs to.  So, we will use zip codes to map schools to their congressional districts."
   ]
  },
  {
   "cell_type": "code",
   "execution_count": 6,
   "metadata": {
    "collapsed": true
   },
   "outputs": [],
   "source": [
    "def strip_leading_zero(s):\n",
    "    if s[0] == \"0\" and len(s) > 1:\n",
    "        return s[1:]\n",
    "    return s\n",
    "\n",
    "# Get mapping from zip code to congressional district\n",
    "zip_dict = dict()\n",
    "with open(\"zipcode_to_cd.txt\") as f:\n",
    "    line = f.readline().replace(\"\\n\", \"\")\n",
    "    while line:\n",
    "        line = line.split(\",\")\n",
    "        line = [strip_leading_zero(el) for el in line]\n",
    "        zip_dict[line[1]] = line[0] + \",\" + line[2]\n",
    "        line = f.readline().replace(\"\\n\", \"\")\n",
    "\n",
    "# Get mapping from congressional district to PVI score\n",
    "# Note that negative scores indicate a Democratic score and positive scores indicate a Republican score\n",
    "pvi_dict = dict()\n",
    "with open(\"pvi_by_county.txt\") as f:\n",
    "    line = f.readline().replace(\"\\n\", \"\")\n",
    "    while line:\n",
    "        line = line.split()\n",
    "        line = [strip_leading_zero(el) for el in line]\n",
    "        pvi_dict[line[0] + \",\" + line[1]] = line[2]\n",
    "        line = f.readline().replace(\"\\n\", \"\")"
   ]
  },
  {
   "cell_type": "code",
   "execution_count": 7,
   "metadata": {},
   "outputs": [
    {
     "data": {
      "text/plain": [
       "'-37'"
      ]
     },
     "execution_count": 7,
     "metadata": {},
     "output_type": "execute_result"
    }
   ],
   "source": [
    "# Get Berkeley's PVI score\n",
    "pvi_dict[zip_dict['94709']]"
   ]
  },
  {
   "cell_type": "code",
   "execution_count": 8,
   "metadata": {},
   "outputs": [
    {
     "name": "stdout",
     "output_type": "stream",
     "text": [
      "7 zip codes not found\n"
     ]
    },
    {
     "data": {
      "text/html": [
       "<div>\n",
       "<style>\n",
       "    .dataframe thead tr:only-child th {\n",
       "        text-align: right;\n",
       "    }\n",
       "\n",
       "    .dataframe thead th {\n",
       "        text-align: left;\n",
       "    }\n",
       "\n",
       "    .dataframe tbody tr th {\n",
       "        vertical-align: top;\n",
       "    }\n",
       "</style>\n",
       "<table border=\"1\" class=\"dataframe\">\n",
       "  <thead>\n",
       "    <tr style=\"text-align: right;\">\n",
       "      <th></th>\n",
       "      <th>SCHNAM</th>\n",
       "      <th>PVI</th>\n",
       "    </tr>\n",
       "  </thead>\n",
       "  <tbody>\n",
       "    <tr>\n",
       "      <th>0</th>\n",
       "      <td>RICHLAND TWO CHARTER HIGH</td>\n",
       "      <td>-21</td>\n",
       "    </tr>\n",
       "    <tr>\n",
       "      <th>1</th>\n",
       "      <td>POLK STATE COLLEGE COLLEGIATE HIGH SCHOOL</td>\n",
       "      <td>-8</td>\n",
       "    </tr>\n",
       "    <tr>\n",
       "      <th>2</th>\n",
       "      <td>RIVER CITY SCHOLARS CHARTER ACADEMY</td>\n",
       "      <td>4</td>\n",
       "    </tr>\n",
       "    <tr>\n",
       "      <th>3</th>\n",
       "      <td>DETROIT ENTERPRISE ACADEMY</td>\n",
       "      <td>-29</td>\n",
       "    </tr>\n",
       "    <tr>\n",
       "      <th>4</th>\n",
       "      <td>LIGHTHOUSE COMMUNITY SCH INC</td>\n",
       "      <td>8</td>\n",
       "    </tr>\n",
       "    <tr>\n",
       "      <th>5</th>\n",
       "      <td>WESTLAKE CHARTER MIDDLE</td>\n",
       "      <td>-18</td>\n",
       "    </tr>\n",
       "    <tr>\n",
       "      <th>6</th>\n",
       "      <td>VAN GOGH CHARTER</td>\n",
       "      <td>-14</td>\n",
       "    </tr>\n",
       "    <tr>\n",
       "      <th>7</th>\n",
       "      <td>SUMMIT ACADEMY TRANSITION HIGH SCHOOL DAYTON</td>\n",
       "      <td>3</td>\n",
       "    </tr>\n",
       "    <tr>\n",
       "      <th>8</th>\n",
       "      <td>WESTCHESTER ACADEMY FOR INTERNATIONAL STUDIES</td>\n",
       "      <td>13</td>\n",
       "    </tr>\n",
       "    <tr>\n",
       "      <th>9</th>\n",
       "      <td>CITY ACADEMY</td>\n",
       "      <td>-11</td>\n",
       "    </tr>\n",
       "  </tbody>\n",
       "</table>\n",
       "</div>"
      ],
      "text/plain": [
       "                                          SCHNAM  PVI\n",
       "0                      RICHLAND TWO CHARTER HIGH  -21\n",
       "1      POLK STATE COLLEGE COLLEGIATE HIGH SCHOOL   -8\n",
       "2            RIVER CITY SCHOLARS CHARTER ACADEMY    4\n",
       "3                     DETROIT ENTERPRISE ACADEMY  -29\n",
       "4                   LIGHTHOUSE COMMUNITY SCH INC    8\n",
       "5                        WESTLAKE CHARTER MIDDLE  -18\n",
       "6                               VAN GOGH CHARTER  -14\n",
       "7   SUMMIT ACADEMY TRANSITION HIGH SCHOOL DAYTON    3\n",
       "8  WESTCHESTER ACADEMY FOR INTERNATIONAL STUDIES   13\n",
       "9                                   CITY ACADEMY  -11"
      ]
     },
     "execution_count": 8,
     "metadata": {},
     "output_type": "execute_result"
    }
   ],
   "source": [
    "# Map schools to their PVI scores and store in a \"PVI\" column\n",
    "pvis, not_found, = [], 0\n",
    "for index, row in df.iterrows():\n",
    "    if str(row[\"LZIP\"]) not in zip_dict:\n",
    "        pvis.append(0) # For now defaulting to 0 when zip code not found\n",
    "        not_found += 1\n",
    "    else:\n",
    "        pvi_value = pvi_dict[zip_dict[str(row[\"LZIP\"])]]\n",
    "        pvis.append(int(pvi_value))\n",
    "print(str(not_found) + \" zip codes not found\")\n",
    "df[\"PVI\"] = pvis\n",
    "df[[\"SCHNAM\", \"PVI\"]][:10]"
   ]
  },
  {
   "cell_type": "code",
   "execution_count": null,
   "metadata": {
    "collapsed": true
   },
   "outputs": [],
   "source": []
  }
 ],
 "metadata": {
  "kernelspec": {
   "display_name": "Python 3",
   "language": "python",
   "name": "python3"
  },
  "language_info": {
   "codemirror_mode": {
    "name": "ipython",
    "version": 3
   },
   "file_extension": ".py",
   "mimetype": "text/x-python",
   "name": "python",
   "nbconvert_exporter": "python",
   "pygments_lexer": "ipython3",
   "version": "3.6.1"
  }
 },
 "nbformat": 4,
 "nbformat_minor": 2
}
