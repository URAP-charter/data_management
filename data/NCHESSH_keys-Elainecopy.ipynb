{
 "cells": [
  {
   "cell_type": "code",
   "execution_count": 1,
   "metadata": {},
   "outputs": [],
   "source": [
    "import pandas as pd\n",
    "import numpy as np\n"
   ]
  },
  {
   "cell_type": "code",
   "execution_count": 2,
   "metadata": {},
   "outputs": [],
   "source": [
    "charterdf = pd.read_pickle('../../nowdata/charters_2015.pkl')"
   ]
  },
  {
   "cell_type": "code",
   "execution_count": 14,
   "metadata": {},
   "outputs": [
    {
     "data": {
      "text/html": [
       "<div>\n",
       "<style scoped>\n",
       "    .dataframe tbody tr th:only-of-type {\n",
       "        vertical-align: middle;\n",
       "    }\n",
       "\n",
       "    .dataframe tbody tr th {\n",
       "        vertical-align: top;\n",
       "    }\n",
       "\n",
       "    .dataframe thead th {\n",
       "        text-align: right;\n",
       "    }\n",
       "</style>\n",
       "<table border=\"1\" class=\"dataframe\">\n",
       "  <thead>\n",
       "    <tr style=\"text-align: right;\">\n",
       "      <th></th>\n",
       "      <th>SCH_NAME</th>\n",
       "      <th>NCESSCH</th>\n",
       "      <th>YEAR_OPENED</th>\n",
       "      <th>TOTAL</th>\n",
       "      <th>ADDRESS16</th>\n",
       "      <th>WEBTEXT</th>\n",
       "    </tr>\n",
       "  </thead>\n",
       "  <tbody>\n",
       "    <tr>\n",
       "      <th>0</th>\n",
       "      <td>NaN</td>\n",
       "      <td>1.001970e+10</td>\n",
       "      <td>2016.0</td>\n",
       "      <td>NaN</td>\n",
       "      <td>3100 Cottage Hill Rd , Mobile AL 36606.0</td>\n",
       "      <td>[(http://www.maef.net/our-impact/, False, 1, M...</td>\n",
       "    </tr>\n",
       "    <tr>\n",
       "      <th>1</th>\n",
       "      <td>NaN</td>\n",
       "      <td>2.000010e+10</td>\n",
       "      <td>1999.0</td>\n",
       "      <td>170.0</td>\n",
       "      <td>1010 Fourth Avenue , Bethel AK 99559.0</td>\n",
       "      <td>[]</td>\n",
       "    </tr>\n",
       "    <tr>\n",
       "      <th>2</th>\n",
       "      <td>NaN</td>\n",
       "      <td>2.001500e+10</td>\n",
       "      <td>1998.0</td>\n",
       "      <td>190.0</td>\n",
       "      <td>410 Schoenbar , Ketchikan AK 99901.0</td>\n",
       "      <td>[(https://www.kgbsd.org/ketchikancharter, Fals...</td>\n",
       "    </tr>\n",
       "    <tr>\n",
       "      <th>3</th>\n",
       "      <td>NaN</td>\n",
       "      <td>2.001500e+10</td>\n",
       "      <td>2003.0</td>\n",
       "      <td>169.0</td>\n",
       "      <td>410 Schoenbar Road , Ketchikan AK 99901.0</td>\n",
       "      <td>[(http://tongassschool.org/category/music/, Fa...</td>\n",
       "    </tr>\n",
       "    <tr>\n",
       "      <th>4</th>\n",
       "      <td>NaN</td>\n",
       "      <td>2.001800e+10</td>\n",
       "      <td>1998.0</td>\n",
       "      <td>377.0</td>\n",
       "      <td>1705 W 32nd Ave , Anchorage AK 99517.0</td>\n",
       "      <td>[(https://www.asdk12.org/aquarian, False, 0, S...</td>\n",
       "    </tr>\n",
       "    <tr>\n",
       "      <th>5</th>\n",
       "      <td>NaN</td>\n",
       "      <td>2.001800e+10</td>\n",
       "      <td>1998.0</td>\n",
       "      <td>503.0</td>\n",
       "      <td>401 E Fireweed Lane Suite 100 , Anchorage AK ...</td>\n",
       "      <td>[]</td>\n",
       "    </tr>\n",
       "    <tr>\n",
       "      <th>6</th>\n",
       "      <td>NaN</td>\n",
       "      <td>2.001800e+10</td>\n",
       "      <td>1998.0</td>\n",
       "      <td>NaN</td>\n",
       "      <td>NaN</td>\n",
       "      <td>[]</td>\n",
       "    </tr>\n",
       "    <tr>\n",
       "      <th>7</th>\n",
       "      <td>NaN</td>\n",
       "      <td>2.001800e+10</td>\n",
       "      <td>1998.0</td>\n",
       "      <td>NaN</td>\n",
       "      <td>NaN</td>\n",
       "      <td>[]</td>\n",
       "    </tr>\n",
       "    <tr>\n",
       "      <th>8</th>\n",
       "      <td>NaN</td>\n",
       "      <td>2.001800e+10</td>\n",
       "      <td>2005.0</td>\n",
       "      <td>273.0</td>\n",
       "      <td>4802 Bryn MAWR Court , Anchorage AK 99508.0</td>\n",
       "      <td>[(http://winterberrycharterschool.com/parents/...</td>\n",
       "    </tr>\n",
       "    <tr>\n",
       "      <th>9</th>\n",
       "      <td>NaN</td>\n",
       "      <td>2.001800e+10</td>\n",
       "      <td>2005.0</td>\n",
       "      <td>176.0</td>\n",
       "      <td>10901 Mausel St Suite 101 , Eagle River AK 99...</td>\n",
       "      <td>[(https://www.asdk12.org/aboutschools/eagleaca...</td>\n",
       "    </tr>\n",
       "  </tbody>\n",
       "</table>\n",
       "</div>"
      ],
      "text/plain": [
       "  SCH_NAME       NCESSCH  YEAR_OPENED  TOTAL  \\\n",
       "0      NaN  1.001970e+10       2016.0    NaN   \n",
       "1      NaN  2.000010e+10       1999.0  170.0   \n",
       "2      NaN  2.001500e+10       1998.0  190.0   \n",
       "3      NaN  2.001500e+10       2003.0  169.0   \n",
       "4      NaN  2.001800e+10       1998.0  377.0   \n",
       "5      NaN  2.001800e+10       1998.0  503.0   \n",
       "6      NaN  2.001800e+10       1998.0    NaN   \n",
       "7      NaN  2.001800e+10       1998.0    NaN   \n",
       "8      NaN  2.001800e+10       2005.0  273.0   \n",
       "9      NaN  2.001800e+10       2005.0  176.0   \n",
       "\n",
       "                                           ADDRESS16  \\\n",
       "0          3100 Cottage Hill Rd , Mobile AL 36606.0    \n",
       "1            1010 Fourth Avenue , Bethel AK 99559.0    \n",
       "2              410 Schoenbar , Ketchikan AK 99901.0    \n",
       "3         410 Schoenbar Road , Ketchikan AK 99901.0    \n",
       "4            1705 W 32nd Ave , Anchorage AK 99517.0    \n",
       "5   401 E Fireweed Lane Suite 100 , Anchorage AK ...   \n",
       "6                                                NaN   \n",
       "7                                                NaN   \n",
       "8       4802 Bryn MAWR Court , Anchorage AK 99508.0    \n",
       "9   10901 Mausel St Suite 101 , Eagle River AK 99...   \n",
       "\n",
       "                                             WEBTEXT  \n",
       "0  [(http://www.maef.net/our-impact/, False, 1, M...  \n",
       "1                                                 []  \n",
       "2  [(https://www.kgbsd.org/ketchikancharter, Fals...  \n",
       "3  [(http://tongassschool.org/category/music/, Fa...  \n",
       "4  [(https://www.asdk12.org/aquarian, False, 0, S...  \n",
       "5                                                 []  \n",
       "6                                                 []  \n",
       "7                                                 []  \n",
       "8  [(http://winterberrycharterschool.com/parents/...  \n",
       "9  [(https://www.asdk12.org/aboutschools/eagleaca...  "
      ]
     },
     "execution_count": 14,
     "metadata": {},
     "output_type": "execute_result"
    }
   ],
   "source": [
    "charterdf[['SCH_NAME','NCESSCH','YEAR_OPENED','TOTAL','ADDRESS16','WEBTEXT']].iloc[0:10]"
   ]
  },
  {
   "cell_type": "code",
   "execution_count": 65,
   "metadata": {},
   "outputs": [
    {
     "data": {
      "text/plain": [
       "18"
      ]
     },
     "execution_count": 65,
     "metadata": {},
     "output_type": "execute_result"
    }
   ],
   "source": [
    "len(charterdf[\"NCESSCH\"].head(500))-len(charterdf.head(500).drop_duplicates(subset=\"NCESSCH\"))"
   ]
  },
  {
   "cell_type": "code",
   "execution_count": 7,
   "metadata": {},
   "outputs": [],
   "source": [
    "def filter_duplicates(column):\n",
    "\tseen = []\n",
    "\tduplicate = []\n",
    "\tfor i in np.arange(len(column)):\n",
    "\t\tif column[i] in seen: #check if value has been seen\n",
    "\t\t\tduplicate.append(column[i]) #if so, add to duplicates\n",
    "\t\tseen.append(column[i]) #store values that have already been seen\n",
    "\treturn duplicate #return all duplicate values"
   ]
  },
  {
   "cell_type": "code",
   "execution_count": 11,
   "metadata": {},
   "outputs": [
    {
     "data": {
      "text/plain": [
       "680"
      ]
     },
     "execution_count": 11,
     "metadata": {},
     "output_type": "execute_result"
    }
   ],
   "source": [
    "len(list(charterdf))\n"
   ]
  },
  {
   "cell_type": "code",
   "execution_count": 63,
   "metadata": {},
   "outputs": [
    {
     "data": {
      "text/plain": [
       "18"
      ]
     },
     "execution_count": 63,
     "metadata": {},
     "output_type": "execute_result"
    }
   ],
   "source": [
    "len(filter_duplicates(list(charterdf.head(500)['NCESSCH']))) #function works "
   ]
  },
  {
   "cell_type": "code",
   "execution_count": 55,
   "metadata": {},
   "outputs": [
    {
     "data": {
      "text/plain": [
       "'NCESSCH'"
      ]
     },
     "execution_count": 55,
     "metadata": {},
     "output_type": "execute_result"
    }
   ],
   "source": [
    "list(charterdf.head(500))[np.arange(len(charterdf.head(500).columns))[0]]"
   ]
  },
  {
   "cell_type": "code",
   "execution_count": 8,
   "metadata": {},
   "outputs": [],
   "source": [
    "def filter_duplicates_table(table,column_name):\n",
    "    new_table = pd.DataFrame(columns = list(table)) #create an empty dataframe to store non-duplicate rows \n",
    "    for i in np.arange(table.shape[0]): #loop through all rows to find duplicates in each column \n",
    "        #column_name = list(table)[i]\n",
    "        duplicates = filter_duplicates(table[column_name]) #use function to find duplicates in each column\n",
    "        #duplicate_index = list()\n",
    "        #for k in row_index: #loop through all values in the column \n",
    "        if table[column_name][i] in duplicates: #check if each column value is a duplicate value\n",
    "            new_table = new_table.append(table.iloc[i]) #if so, add to new table \n",
    "                #duplicate_index = duplicate_index + [k]\n",
    "        #row_index = duplicate_index\n",
    "        #table = new_table\n",
    "    return new_table"
   ]
  },
  {
   "cell_type": "code",
   "execution_count": 20,
   "metadata": {},
   "outputs": [],
   "source": [
    "a = filter_duplicates_table(charterdf.head(500), 'NCESSCH')"
   ]
  },
  {
   "cell_type": "code",
   "execution_count": null,
   "metadata": {},
   "outputs": [],
   "source": [
    "a.columns"
   ]
  },
  {
   "cell_type": "code",
   "execution_count": 9,
   "metadata": {},
   "outputs": [],
   "source": [
    "def filter_exact_duplicates(table):\n",
    "    #filtered = filter_duplicates_table(table, column_name).reset_index(drop=True)\n",
    "    filtered= table.reset_index(drop=True)\n",
    "    for i in np.arange(len(table.columns)): #loop through all columns except first to find duplicates in each column\n",
    "        filtered = filter_duplicates_table(filtered, list(filtered)[i]).reset_index(drop=True)\n",
    "    return filtered"
   ]
  },
  {
   "cell_type": "code",
   "execution_count": 7,
   "metadata": {},
   "outputs": [
    {
     "ename": "SyntaxError",
     "evalue": "unexpected EOF while parsing (<ipython-input-7-56007ae05185>, line 1)",
     "output_type": "error",
     "traceback": [
      "\u001b[0;36m  File \u001b[0;32m\"<ipython-input-7-56007ae05185>\"\u001b[0;36m, line \u001b[0;32m1\u001b[0m\n\u001b[0;31m    def filter_exact_duplicates1(table, column_name):\u001b[0m\n\u001b[0m                                                     ^\u001b[0m\n\u001b[0;31mSyntaxError\u001b[0m\u001b[0;31m:\u001b[0m unexpected EOF while parsing\n"
     ]
    }
   ],
   "source": [
    "def filter_exact_duplicates1(table, column_name):\n",
    "    for i in np.arange()"
   ]
  },
  {
   "cell_type": "code",
   "execution_count": 39,
   "metadata": {},
   "outputs": [
    {
     "data": {
      "text/plain": [
       "'CMO_NAME'"
      ]
     },
     "execution_count": 39,
     "metadata": {},
     "output_type": "execute_result"
    }
   ],
   "source": [
    "list(charterdf)[1]"
   ]
  },
  {
   "cell_type": "code",
   "execution_count": 10,
   "metadata": {},
   "outputs": [
    {
     "data": {
      "text/html": [
       "<div>\n",
       "<style scoped>\n",
       "    .dataframe tbody tr th:only-of-type {\n",
       "        vertical-align: middle;\n",
       "    }\n",
       "\n",
       "    .dataframe tbody tr th {\n",
       "        vertical-align: top;\n",
       "    }\n",
       "\n",
       "    .dataframe thead th {\n",
       "        text-align: right;\n",
       "    }\n",
       "</style>\n",
       "<table border=\"1\" class=\"dataframe\">\n",
       "  <thead>\n",
       "    <tr style=\"text-align: right;\">\n",
       "      <th></th>\n",
       "      <th>NCESSCH</th>\n",
       "      <th>CMO_NAME</th>\n",
       "      <th>CMO_MEMSUM</th>\n",
       "      <th>SCH_NAME</th>\n",
       "      <th>CMO_STATE</th>\n",
       "      <th>CMO_SCHNUM</th>\n",
       "      <th>CMO_URL</th>\n",
       "      <th>CMO_NUMSTATES</th>\n",
       "      <th>CMO_ALLSTATES</th>\n",
       "      <th>CMO_SECTOR</th>\n",
       "      <th>...</th>\n",
       "      <th>SCH_FTESECURITY_GUA</th>\n",
       "      <th>SCH_FTESERVICES_NUR</th>\n",
       "      <th>SCH_FTESERVICES_PSY</th>\n",
       "      <th>SCH_FTESERVICES_SOC</th>\n",
       "      <th>DISCIPLINE_COUNT</th>\n",
       "      <th>INQUIRY_COUNT</th>\n",
       "      <th>DISC_STR</th>\n",
       "      <th>INQU_STR</th>\n",
       "      <th>NUMWORDS</th>\n",
       "      <th>NUMPAGES</th>\n",
       "    </tr>\n",
       "  </thead>\n",
       "  <tbody>\n",
       "  </tbody>\n",
       "</table>\n",
       "<p>0 rows × 680 columns</p>\n",
       "</div>"
      ],
      "text/plain": [
       "Empty DataFrame\n",
       "Columns: [NCESSCH, CMO_NAME, CMO_MEMSUM, SCH_NAME, CMO_STATE, CMO_SCHNUM, CMO_URL, CMO_NUMSTATES, CMO_ALLSTATES, CMO_SECTOR, CMO_NUMSTUDENTS_CREDO17, CMO_TYPE, CMO_WEBTEXT, SURVYEAR, FIPST, STABR, SEANAME, LEAID, ST_LEAID, SCHID, ST_SCHID, MSTREET1, MSTREET2, MSTREET3, MCITY, MSTATE, MZIP, MZIP4, PHONE, LSTREET1, LSTREET2, LSTREET3, LCITY, LSTATE, LZIP, LZIP4, UNION, OUT_OF_STATE_FLAG, SCH_TYPE_TEXT, SCH_TYPE, RECON_STATUS, GSLO, GSHI, LEVEL, VIRTUAL, BIES, SY_STATUS_TEXT, SY_STATUS, UPDATED_STATUS_TEXT, UPDATED_STATUS, EFFECTIVE_DATE, CHARTER_TEXT, G13OFFERED, AEOFFERED, UGOFFERED, NOGRADES, CHARTAUTH1, CHARTAUTHN1, CHARTAUTH2, CHARTAUTHN2, IGOFFERED, WEBSITE, FRELCH, REDLCH, AE, TOTAL, AM, AMALM, AMALF, AS, ASALM, ASALF, HI, HIALM, HIALF, BL, BLALM, BLALF, WH, WHALM, WHALF, HP, HPALM, HPALF, TR, TRALM, TRALF, TITLEI_TEXT, TITLEI_STATUS, STITLEI, SHARED_TIME, MAGNET_TEXT, NSLPSTATUS_TEXT, NSLPSTATUS_CODE, NAME, OPSTFIPS, LSTREE, STFIP15, CNTY15, NMCNTY15, ...]\n",
       "Index: []\n",
       "\n",
       "[0 rows x 680 columns]"
      ]
     },
     "execution_count": 10,
     "metadata": {},
     "output_type": "execute_result"
    }
   ],
   "source": [
    "filter_exact_duplicates(charterdf.head(500))"
   ]
  },
  {
   "cell_type": "code",
   "execution_count": null,
   "metadata": {},
   "outputs": [],
   "source": []
  }
 ],
 "metadata": {
  "kernelspec": {
   "display_name": "Python 3",
   "language": "python",
   "name": "python3"
  },
  "language_info": {
   "codemirror_mode": {
    "name": "ipython",
    "version": 3
   },
   "file_extension": ".py",
   "mimetype": "text/x-python",
   "name": "python",
   "nbconvert_exporter": "python",
   "pygments_lexer": "ipython3",
   "version": "3.6.3"
  }
 },
 "nbformat": 4,
 "nbformat_minor": 2
}
