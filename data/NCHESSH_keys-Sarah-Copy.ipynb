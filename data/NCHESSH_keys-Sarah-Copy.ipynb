{
 "cells": [
  {
   "cell_type": "code",
   "execution_count": null,
   "metadata": {},
   "outputs": [],
   "source": [
    "import pandas as pd\n",
    "import numpy as np\n"
   ]
  },
  {
   "cell_type": "code",
   "execution_count": null,
   "metadata": {},
   "outputs": [],
   "source": [
    "charterdf = pd.read_pickle('../../nowdata/charters_2015.pkl')"
   ]
  },
  {
   "cell_type": "code",
   "execution_count": null,
   "metadata": {},
   "outputs": [],
   "source": [
    "charterdf[['SCH_NAME','NCESSCH','YEAR_OPENED','TOTAL','ADDRESS16','WEBTEXT']].iloc[0:10]"
   ]
  },
  {
   "cell_type": "code",
   "execution_count": null,
   "metadata": {},
   "outputs": [],
   "source": [
    "len(charterdf[\"NCESSCH\"])-len(charterdf.drop_duplicates(subset=\"NCESSCH\"))"
   ]
  },
  {
   "cell_type": "code",
   "execution_count": null,
   "metadata": {},
   "outputs": [],
   "source": [
    "def filter_duplicates(column):\n",
    "\tseen = []\n",
    "\tduplicate = []\n",
    "\tfor i in np.arange(len(column)):\n",
    "\t\tif column[i] in seen: #check if value has been seen\n",
    "\t\t\tduplicate.append(column[i]) #if so, add to duplicates\n",
    "\t\tseen.append(column[i]) #store values that have already been seen\n",
    "\treturn duplicate #return all duplicate values"
   ]
  },
  {
   "cell_type": "code",
   "execution_count": null,
   "metadata": {},
   "outputs": [],
   "source": [
    "filter_duplicates(charterdf.iloc[0:10]['NCESSCH']) #function works "
   ]
  },
  {
   "cell_type": "code",
   "execution_count": null,
   "metadata": {},
   "outputs": [],
   "source": [
    "pd.DataFrame(columns = list(charterdf)).append(charterdf.iloc[0])"
   ]
  },
  {
   "cell_type": "code",
   "execution_count": null,
   "metadata": {},
   "outputs": [],
   "source": [
    "list(charterdf.iloc[:,0])\n"
   ]
  },
  {
   "cell_type": "code",
   "execution_count": null,
   "metadata": {},
   "outputs": [],
   "source": [
    "def filter_duplicates_table(table,column_name):\n",
    "\tnew_table = pd.DataFrame(columns = list(table)) #create an empty dataframe to store non-duplicate rows \n",
    "    #duplicated_rows = []\n",
    "\t#for i in np.arange(len(table.columns)): #loop through all columns to find duplicates in each column \n",
    "\tduplicates = filter_duplicates(table[column_name]) #use function to find duplicates in each column \n",
    "\tfor k in np.arange(len(table[column_name])): #loop through all values in the column \n",
    "\t\tif table[column_name][k] in duplicates: #check if each column value is a duplicate value\n",
    "\t\t\tnew_table.append(table.iloc[k]) #if so, add to new table \n",
    "\treturn duplicates"
   ]
  },
  {
   "cell_type": "code",
   "execution_count": null,
   "metadata": {},
   "outputs": [],
   "source": [
    "filter_duplicates_table(charterdf, 'NCESSCH') "
   ]
  },
  {
   "cell_type": "code",
   "execution_count": null,
   "metadata": {},
   "outputs": [],
   "source": []
  },
  {
   "cell_type": "code",
   "execution_count": null,
   "metadata": {},
   "outputs": [],
   "source": []
  }
 ],
 "metadata": {
  "kernelspec": {
   "display_name": "Python 3",
   "language": "python",
   "name": "python3"
  },
  "language_info": {
   "codemirror_mode": {
    "name": "ipython",
    "version": 3
   },
   "file_extension": ".py",
   "mimetype": "text/x-python",
   "name": "python",
   "nbconvert_exporter": "python",
   "pygments_lexer": "ipython3",
   "version": "3.6.3"
  }
 },
 "nbformat": 4,
 "nbformat_minor": 2
}
