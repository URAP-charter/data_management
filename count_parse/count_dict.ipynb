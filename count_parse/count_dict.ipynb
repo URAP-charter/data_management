{
 "cells": [
  {
   "cell_type": "markdown",
   "metadata": {},
   "source": [
    "# Dictionary Counting Script"
   ]
  },
  {
   "cell_type": "markdown",
   "metadata": {},
   "source": [
    "- Authors: Brian Lei, Jaren Haber\n",
    "- Institution: University of California, Berkeley\n",
    "- Date created: Spring 2018\n",
    "- Date last modified: September 24, 2019\n",
    "- Description: Finds the number of occurences of a dictionary phrase in the webtext of a school. Creates column for number of webtext words, ratio of hits, and hit strength(log of ratio). Has multiprocessing built in."
   ]
  },
  {
   "cell_type": "markdown",
   "metadata": {},
   "source": [
    "## Import packages"
   ]
  },
  {
   "cell_type": "code",
   "execution_count": 1,
   "metadata": {},
   "outputs": [],
   "source": [
    "import pandas as pd\n",
    "import re\n",
    "import numpy as np\n",
    "import time\n",
    "from nltk.stem.porter import PorterStemmer\n",
    "from nltk.tokenize import word_tokenize\n",
    "import multiprocessing as mp\n",
    "\n",
    "# For loading functions from files in data_tools directory:\n",
    "import sys; sys.path.insert(0, \"../../data_management/tools/\")"
   ]
  },
  {
   "cell_type": "code",
   "execution_count": 2,
   "metadata": {},
   "outputs": [],
   "source": [
    "# For displaying basic DF info, storing DFs for memory efficiency, and loading a filtered DF:\n",
    "from df_tools import check_df, convert_df, load_filtered_df, replace_df_nulls\n",
    "\n",
    "# For quickly loading & saving pickle files in Python:\n",
    "from quickpickle import quickpickle_dump, quickpickle_load \n",
    "\n",
    "# For saving and loading text lists to/from file:\n",
    "from textlist_file import write_list, load_list \n",
    "\n",
    "# For calculating densities, years opened and closed, and school closure rates:\n",
    "from df_calc import count_pdfs, density_calc, openclose_calc, closerate_calc"
   ]
  },
  {
   "cell_type": "markdown",
   "metadata": {},
   "source": [
    "## Load data"
   ]
  },
  {
   "cell_type": "code",
   "execution_count": 3,
   "metadata": {},
   "outputs": [
    {
     "name": "stdout",
     "output_type": "stream",
     "text": [
      "# rows and cols:  (10965, 2)\n",
      "# duplicates by NCESSCH: 0\n",
      "\n",
      "Columns and # missing cases (if any): \n",
      "NCESSCH\n",
      "WEBTEXT\n"
     ]
    }
   ],
   "source": [
    "charter_path = '../../misc_data/charters_2015.pkl'\n",
    "df_charter1 = load_filtered_df(charter_path, [\"WEBTEXT\", \"NCESSCH\"])\n",
    "df_charter1['WEBTEXT']=df_charter1['WEBTEXT'].fillna('') # turn nan to empty iterable for future convenience\n",
    "\n",
    "stemmer = PorterStemmer()\n",
    "stem = stemmer.stem # stemmer function"
   ]
  },
  {
   "cell_type": "code",
   "execution_count": 4,
   "metadata": {},
   "outputs": [
    {
     "data": {
      "text/html": [
       "<div>\n",
       "<style scoped>\n",
       "    .dataframe tbody tr th:only-of-type {\n",
       "        vertical-align: middle;\n",
       "    }\n",
       "\n",
       "    .dataframe tbody tr th {\n",
       "        vertical-align: top;\n",
       "    }\n",
       "\n",
       "    .dataframe thead th {\n",
       "        text-align: right;\n",
       "    }\n",
       "</style>\n",
       "<table border=\"1\" class=\"dataframe\">\n",
       "  <thead>\n",
       "    <tr style=\"text-align: right;\">\n",
       "      <th></th>\n",
       "      <th>NCESSCH</th>\n",
       "      <th>WEBTEXT</th>\n",
       "    </tr>\n",
       "  </thead>\n",
       "  <tbody>\n",
       "    <tr>\n",
       "      <td>0</td>\n",
       "      <td>1.001970e+10</td>\n",
       "      <td>[(http://www.maef.net/, False, 0, Evening Acad...</td>\n",
       "    </tr>\n",
       "    <tr>\n",
       "      <td>1</td>\n",
       "      <td>2.000010e+10</td>\n",
       "      <td></td>\n",
       "    </tr>\n",
       "    <tr>\n",
       "      <td>2</td>\n",
       "      <td>2.001500e+10</td>\n",
       "      <td>[(https://www.kgbsd.org/ketchikancharter, Fals...</td>\n",
       "    </tr>\n",
       "    <tr>\n",
       "      <td>3</td>\n",
       "      <td>2.001500e+10</td>\n",
       "      <td>[(http://tongassschool.org/classrooms/3rd-and-...</td>\n",
       "    </tr>\n",
       "    <tr>\n",
       "      <td>4</td>\n",
       "      <td>2.001800e+10</td>\n",
       "      <td>[(https://www.asdk12.org/aquarian, False, 0, S...</td>\n",
       "    </tr>\n",
       "    <tr>\n",
       "      <td>...</td>\n",
       "      <td>...</td>\n",
       "      <td>...</td>\n",
       "    </tr>\n",
       "    <tr>\n",
       "      <td>10960</td>\n",
       "      <td>7.200030e+11</td>\n",
       "      <td></td>\n",
       "    </tr>\n",
       "    <tr>\n",
       "      <td>10961</td>\n",
       "      <td>7.200030e+11</td>\n",
       "      <td></td>\n",
       "    </tr>\n",
       "    <tr>\n",
       "      <td>10962</td>\n",
       "      <td>7.200030e+11</td>\n",
       "      <td></td>\n",
       "    </tr>\n",
       "    <tr>\n",
       "      <td>10963</td>\n",
       "      <td>7.200030e+11</td>\n",
       "      <td></td>\n",
       "    </tr>\n",
       "    <tr>\n",
       "      <td>10964</td>\n",
       "      <td>7.200030e+11</td>\n",
       "      <td></td>\n",
       "    </tr>\n",
       "  </tbody>\n",
       "</table>\n",
       "<p>10965 rows × 2 columns</p>\n",
       "</div>"
      ],
      "text/plain": [
       "            NCESSCH                                            WEBTEXT\n",
       "0      1.001970e+10  [(http://www.maef.net/, False, 0, Evening Acad...\n",
       "1      2.000010e+10                                                   \n",
       "2      2.001500e+10  [(https://www.kgbsd.org/ketchikancharter, Fals...\n",
       "3      2.001500e+10  [(http://tongassschool.org/classrooms/3rd-and-...\n",
       "4      2.001800e+10  [(https://www.asdk12.org/aquarian, False, 0, S...\n",
       "...             ...                                                ...\n",
       "10960  7.200030e+11                                                   \n",
       "10961  7.200030e+11                                                   \n",
       "10962  7.200030e+11                                                   \n",
       "10963  7.200030e+11                                                   \n",
       "10964  7.200030e+11                                                   \n",
       "\n",
       "[10965 rows x 2 columns]"
      ]
     },
     "execution_count": 4,
     "metadata": {},
     "output_type": "execute_result"
    }
   ],
   "source": [
    "df_charter1"
   ]
  },
  {
   "cell_type": "markdown",
   "metadata": {},
   "source": [
    "## Define functions for counting dictionaries"
   ]
  },
  {
   "cell_type": "code",
   "execution_count": 5,
   "metadata": {},
   "outputs": [],
   "source": [
    "def load_dict(dictpath, dictnames, fileext):\n",
    "    \"\"\"Loads dictionaries into list.\n",
    "    Completes dictionary to include entries with slashes (\"/\"), dashes (\"-\"), and underscores (\"_\") taken out.\n",
    "    \n",
    "    Args: \n",
    "    dictpath: path to folder containing dictionaries\n",
    "    dictnames: dictionary filenames (without extensions)\n",
    "    fileext: file extension for all files (must all be the same)\n",
    "    \n",
    "    Returns:\n",
    "    dict_list: List of lists, where each list contains all terms for a dictionary with AND without punctuation\n",
    "    \"\"\"\n",
    "    \n",
    "    dict_list = []\n",
    "    for name in dictnames:\n",
    "        with open(dictpath+name+fileext) as f: \n",
    "            new_dict = f.read().splitlines()\n",
    "            new_words = []\n",
    "            for entry in new_dict:\n",
    "                new_words.append(re.sub(' +|/+|-+|_+', '', entry))\n",
    "            new_dict.extend(new_words)\n",
    "            new_dict = set(new_dict)\n",
    "            dict_list.append(list(new_dict))\n",
    "    return dict_list"
   ]
  },
  {
   "cell_type": "code",
   "execution_count": 6,
   "metadata": {
    "scrolled": true
   },
   "outputs": [
    {
     "data": {
      "text/plain": [
       "[['handsonmindson',\n",
       "  'experiential',\n",
       "  'experientially',\n",
       "  'constructivism',\n",
       "  'handsonandmindson',\n",
       "  'active_inquiry',\n",
       "  'socraticdialogue',\n",
       "  'learnercentered',\n",
       "  'project-based',\n",
       "  'hands-on',\n",
       "  'experiential_approach',\n",
       "  'hands-on_and_minds-on',\n",
       "  'socratic',\n",
       "  'socraticmethod',\n",
       "  'student-centered_inquiry-based',\n",
       "  'studentdrivenexploration',\n",
       "  'childcentered',\n",
       "  'hands-on/minds-on',\n",
       "  'explorationandexperimentation',\n",
       "  'inquirydriven',\n",
       "  'activeinquiry',\n",
       "  'child-centered',\n",
       "  'inquirybased',\n",
       "  'discovery-based',\n",
       "  'socratic_dialogue',\n",
       "  'studentcenteredinquirybased',\n",
       "  'exploration_and_experimentation',\n",
       "  'handsonlearning',\n",
       "  'learn-by-doing',\n",
       "  'laboratory-based',\n",
       "  'projectcentered',\n",
       "  'hands-on_learning',\n",
       "  'discoverybased',\n",
       "  'student-centered',\n",
       "  'handon',\n",
       "  'studentcentered',\n",
       "  'constructivist',\n",
       "  'learner-centered',\n",
       "  'laboratorybased',\n",
       "  'socratic_method',\n",
       "  'inquiry-driven',\n",
       "  'hand-on',\n",
       "  'handson',\n",
       "  'problembased',\n",
       "  'projectbased',\n",
       "  'learnbydoing',\n",
       "  'inquiry-based',\n",
       "  'prbl',\n",
       "  'experientialapproach',\n",
       "  'hands-on_minds-on',\n",
       "  'problem-based',\n",
       "  'project-centered',\n",
       "  'student-driven_exploration'],\n",
       " ['drugs',\n",
       "  'deter',\n",
       "  'expel',\n",
       "  'no-excuses',\n",
       "  'zerotolerancepolicy',\n",
       "  'discipline',\n",
       "  'drug-related',\n",
       "  'inappropriate',\n",
       "  'crime',\n",
       "  'zerotolerance',\n",
       "  'perpetrator',\n",
       "  'penalize',\n",
       "  'authority',\n",
       "  'misbehavior',\n",
       "  'drugrelated',\n",
       "  'criminal',\n",
       "  'behavioral_expectations',\n",
       "  'disobedience',\n",
       "  'violate',\n",
       "  'disciplinary',\n",
       "  'illegal',\n",
       "  'violation',\n",
       "  'zero_tolerance',\n",
       "  'deterrence',\n",
       "  'suspension',\n",
       "  'expulsion',\n",
       "  'zero-tolerance',\n",
       "  'expellable',\n",
       "  'penalty',\n",
       "  'punish',\n",
       "  'noexcuses',\n",
       "  'behavioralexpectations',\n",
       "  'absenteeism',\n",
       "  'zero-tolerance_policy',\n",
       "  'suspended']]"
      ]
     },
     "execution_count": 6,
     "metadata": {},
     "output_type": "execute_result"
    }
   ],
   "source": [
    "dict_path = '/home/jovyan/work/text_analysis/dictionary_methods/dicts/'\n",
    "dict_names = ['inquiry30', 'discipline30'] # enter list of names of txt files holding dict\n",
    "file_ext = '.txt'\n",
    "\n",
    "dict_list = load_dict(dict_path, dict_names, file_ext)\n",
    "dict_list"
   ]
  },
  {
   "cell_type": "code",
   "execution_count": 7,
   "metadata": {},
   "outputs": [],
   "source": [
    "class Page:\n",
    "    def __init__(self,p):\n",
    "        self.url = p[0]\n",
    "        self.boo = p[1]\n",
    "        self.depth = p[2]\n",
    "        self.text = p[3]\n",
    "    def __repr__(self):\n",
    "        return self.text\n",
    "    def __eq__(self, other):\n",
    "        if isinstance(other, Page):\n",
    "            return self.text == other.text\n",
    "        else:\n",
    "            return False\n",
    "    def __ne__(self, other):\n",
    "        return (not self.__eq__(other))\n",
    "    def __hash__(self):\n",
    "        return hash(self.__repr__())\n",
    "    \n",
    "def dict_precalc(dict_list, stemset):\n",
    "    \"\"\"Cleans dictionaries and returns a list of lists of lists. \n",
    "    Each list in the returned list corresponds to a dictionary and contains five lists: \n",
    "    key_words: each term, represented as a list, separated by punctuation;\n",
    "    large_words: a list of large words (>2 words long); \n",
    "    large_lengths: a list of their lengths; and\n",
    "    large_first_words: list of first words of any large words in dict\"\"\"\n",
    "    \n",
    "    precalc_list = []\n",
    "    for keywords in dict_list:  \n",
    "        large_words = []\n",
    "        large_lengths = []\n",
    "        large_first_words = []\n",
    "        key_words = []\n",
    "        for entry in keywords:\n",
    "            if stemset:\n",
    "                word = [stem(x) for x in re.split('\\W+|_+', entry.lower())]\n",
    "            else:\n",
    "                word = re.split('\\W+|_+', entry.lower())\n",
    "            key_words.append(word) # listified version of each keyword\n",
    "            if len(word) >= 3:\n",
    "                large_words.append(word) # contains only large entries(>2 word)\n",
    "                large_lengths.append(len(word))\n",
    "                large_first_words.append(word[0]) # first words of each large entry in dict\n",
    "        precalc_list.append([key_words, large_words, large_lengths, large_first_words])\n",
    "    return precalc_list\n",
    "\n",
    "def dict_count(key_words, large_words, large_lengths, large_first_words, pages, keycount):\n",
    "\n",
    "    \"\"\"Returns the hit count with given dictionary on page set.\n",
    "\n",
    "    pages: set of preprocessed page lists corresponding to an entry of the 'webtext' column\n",
    "    \n",
    "    Returns:\n",
    "    counts: number of matches between pages (text) and key_words (dictionary terms)\n",
    "    res_length: length of pages, adjusted to subtract extra words for long (>1 word) dictionary terms\n",
    "    \"\"\"\n",
    "    \n",
    "    counts = 0 # number of matches between text_list and custom_dict\n",
    "    res_length = 0\n",
    "    # Do dictionary analysis for word chunks of lengths max_entry_length down to 1\n",
    "    for splitted_phrase in pages:\n",
    "        for length in range(1, 3):\n",
    "            if len(splitted_phrase) < length:\n",
    "                continue # If text chunk is shorter than length of dict entries being matched, there are no matches.\n",
    "            for i in range(len(splitted_phrase) - length + 1):\n",
    "                entry = splitted_phrase[i:i+length]\n",
    "                if entry in key_words:\n",
    "                    counts += 1\n",
    "                    res_length += length - 1\n",
    "                    for i, term in enumerate(key_words):\n",
    "                        if term == entry:\n",
    "                            keycount[i] += 1\n",
    "        indices = np.transpose(np.nonzero([np.array(splitted_phrase) == first_word for first_word in large_first_words]))\n",
    "        for ind in indices:\n",
    "            if ind[1] <= (len(splitted_phrase) - large_lengths[ind[0]]) and large_words[ind[0]] == splitted_phrase[ind[1] : ind[1] + large_lengths[ind[0]]]:\n",
    "                counts += 1\n",
    "                res_length += large_lengths[ind[0]] - 1\n",
    "    return counts, res_length, keycount"
   ]
  },
  {
   "cell_type": "code",
   "execution_count": 8,
   "metadata": {},
   "outputs": [],
   "source": [
    "def create_cols(df_charter, stemset = 0, mp = True):\n",
    "    \n",
    "    \"\"\"Creates count, ratio, and strength columns for each dictionary file with [FILE_NAME]_COUNT/RATIO/STR as column name. \n",
    "    Runs in parallel. Each process errors out when finished with \"divide by zero\" and \"invalid value\". THIS IS NORMAL.\n",
    "    To calculate strengths in context with occasional zero-hit count, 1 is added to all counts. \n",
    "    Also, just in case, sets strengths with zero hit count to -6 (this shouldn't happen).\n",
    "    Optional: define local dictionaries (passed directly into function, rather than loaded from file) to count\n",
    "    \n",
    "    Args:\n",
    "    df_charter: DataFrame with WEBTEXT column, each of which is a list of full-text pages (not preprocessed)\n",
    "    stemset: 1 for stemming before matching, 0 for no stemming\n",
    "    mp: whether this function will be used in parallel via multiprocessing\n",
    "    \n",
    "    Returns:\n",
    "    df_charter: modified dataframe, now contains NUMWORDS, D_COUNT, D_RATIO, and D_STR (where D is taken from dict filenames)\n",
    "    \n",
    "    This function also requires one or both of these sets of global parameters to be defined:\n",
    "    local_dicts: list of local dictionaries formatted as last of lists of terms--or if singular, just a list of terms\n",
    "    local_names: names of local dictionaries (list or list of lists)\n",
    "    AND/OR\n",
    "    dict_path: file path to folder containing dictionaries\n",
    "    dict_names: names of dictionaries on file (list or list of lists)\n",
    "    file_ext: file extension for dictionary files (probably .txt)\n",
    "    \"\"\"\n",
    "    \n",
    "    global local_dicts, local_names # Access to local dictionaries to count (defined in notebook) and their names\n",
    "    global dict_path, dict_names, file_ext # Access to parameters for load_dict(): folder path, file names, file extension (must be consistent)\n",
    "\n",
    "    # Initialize dictionaries:\n",
    "    dict_list = load_dict(dict_path, dict_names, file_ext)\n",
    "    dict_list += local_dicts\n",
    "    dict_names += local_names\n",
    "    \n",
    "    # Initialize storing lists:\n",
    "    counts = [[] for _ in range(len(dict_list))] # list of lists, each list a dictionary count per page for entity \n",
    "    res_list = [[] for _ in range(len(dict_list))] # list of lists, each list for lengths of pages for entity (adjusted for long dict terms)\n",
    "    key_counts = [[] for _ in range(len(dict_list))] # list of lists, each list contains counts for terms for a dictionary\n",
    "    num_words = [] # WARNING: hitcount/numwords will not give accurate hit ratio in case of multiple word entries. Calculated strength variables do account for this however.\n",
    "    precalc_list = dict_precalc(dict_list, stemset) # clean and sort dictionaries by length\n",
    "    key_counts = [[0 for _ in precalc_list[i][0]] for i, d in enumerate(key_counts)] # initialize list of term counts as all zeroes\n",
    "    start = time.time()\n",
    "    \n",
    "    # Count occurrence of dictionary terms:\n",
    "    for i, row in enumerate(df_charter['WEBTEXT'].values):\n",
    "        pages = set([Page(p) for p in row])\n",
    "        if stemset:\n",
    "            pages = [[stem(x) for x in re.split('\\W+|_', p.text)] for p in pages] # preprocess pages in same way as dictionaries should have been in above precalc function\n",
    "        else:\n",
    "            pages = [re.split('\\W+|_', p.text) for p in pages]\n",
    "        num_words.append(sum([len(p) for p in pages]))\n",
    "        for j, d in enumerate(dict_list):\n",
    "            c, res, key_counts[j] = dict_count(precalc_list[j][0], precalc_list[j][1], precalc_list[j][2], precalc_list[j][3], pages, key_counts[j])\n",
    "            counts[j].append(c)\n",
    "            res_list[j].append(res)\n",
    "        if not mp and i%1000 == 0:\n",
    "            end = time.time()\n",
    "            print('Time Elapsed:{:f}, Percent Complete:{:f}'.format(end - start,i*100/len(df_charter)))\n",
    "            \n",
    "    # Store and return results:\n",
    "    df_charter['NUMWORDS'] = np.array(num_words)\n",
    "    for i, name in enumerate(dict_names):\n",
    "        df_charter['{}_COUNT'.format(name.upper())] = np.array(counts[i])\n",
    "        df_charter['{}_RATIO'.format(name.upper())] = np.array(counts[i])/(np.array(num_words) - np.array(res_list[i]))\n",
    "        df_charter['{}_STR'.format(name.upper())] = np.log10(np.array([(row + (1)) for row in counts[i]]))/np.log10(np.array(num_words) - np.array(res_list[i]))\n",
    "    df_charter.replace([np.inf, -np.inf], -6, inplace = True)\n",
    "    return df_charter"
   ]
  },
  {
   "cell_type": "code",
   "execution_count": 9,
   "metadata": {},
   "outputs": [],
   "source": [
    "def count_words(df, text_col = \"WEBTEXT\", cleantext = True, stemset = 0, mp = True):\n",
    "    # local_dicts = [], local_names = [], dict_path = \"\", dict_names = [], file_ext = \"\"\n",
    "    \n",
    "    \"\"\"Counts words in lists of terms (dictionaries) in a corpus.\n",
    "    Define dictionaries locally or by passing in dictionary file paths.\n",
    "    Runs in parallel. Each process errors out when finished with \"divide by zero\" and \"invalid value\". THIS IS NORMAL.\n",
    "\n",
    "    Args:\n",
    "    df_charter: DataFrame with text data, each of which is a list of full-text pages (not necessarily preprocessed)\n",
    "    text_col: name column in df_charter with text data\n",
    "    clean_text: whether to quickly clean (using regex) the web pages before searching by removing non-words and underscores\n",
    "    stemset: 1 for stemming before matching, 0 for no stemming\n",
    "    mp: whether this function will be used in parallel via multiprocessing\n",
    "    \n",
    "    Returns:\n",
    "    word_counts: list of lists, individual term count nested in dictionaries\n",
    "    \n",
    "    This function also requires one or both of these sets of global parameters to be defined:\n",
    "    local_dicts: list of local dictionaries formatted as last of lists of terms--or if singular, just a list of terms\n",
    "    local_names: names of local dictionaries (list or list of lists)\n",
    "    AND/OR\n",
    "    dict_path: file path to folder containing dictionaries\n",
    "    dict_names: names of dictionaries on file (list or list of lists)\n",
    "    file_ext: file extension for dictionary files (probably .txt)\n",
    "    \"\"\"\n",
    "    \n",
    "    global local_dicts, local_names # Access to local dictionaries to count (defined in notebook) and their names\n",
    "    global dict_path, dict_names, file_ext # Access to parameters for load_dict()\n",
    "    \n",
    "    # Initialize dictionaries:\n",
    "    if len(local_dicts) + len(dict_names)==0:\n",
    "        print(\"ERROR: No dictionaries detected. Stopping term counting script.\")\n",
    "        return\n",
    "    if len(dict_names)>0:\n",
    "        dict_list = load_dict(dict_path, dict_names, file_ext)\n",
    "        precalc_list = dict_precalc(dict_list, stemset) # clean and sort dictionaries by length\n",
    "    dict_list += local_dicts\n",
    "    dict_names += local_names\n",
    "    \n",
    "    # Initialize storing lists:\n",
    "    counts = [[] for _ in range(len(dict_list))] # list of lists, each list a dictionary count per page for entity \n",
    "    res_list = [[] for _ in range(len(dict_list))] # list of lists, each list for lengths of pages for entity (adjusted for long dict terms)\n",
    "    key_counts = [[] for _ in range(len(dict_list))] # list of lists, each list contains counts for terms for a dictionary\n",
    "    num_words = [] # WARNING: hitcount/numwords will not give accurate hit ratio in case of multiple word entries. Calculated strength variables do account for this however.\n",
    "    key_counts = [[0 for _ in precalc_list[i][0]] for i, d in enumerate(key_counts)] # initialize list of term counts as all zeroes\n",
    "    start = time.time()\n",
    "    \n",
    "    # Count occurrence of dictionary terms:\n",
    "    for i, row in enumerate(df[text_col].values):\n",
    "        pages = set([Page(p) for p in row])\n",
    "        if stemset and cleantext:\n",
    "            pages = [[stem(x) for x in re.split('\\W+|_', p.text)] for p in pages] # preprocess pages in same way as dictionaries should have been in above precalc function\n",
    "        elif cleantext:\n",
    "            pages = [re.split('\\W+|_', p.text) for p in pages]\n",
    "        else:\n",
    "            pages = [p.text.split() for p in pages]\n",
    "        num_words.append(sum([len(p) for p in pages]))\n",
    "        for j, d in enumerate(dict_list):\n",
    "            c, res, key_counts[j] = dict_count(precalc_list[j][0], precalc_list[j][1], precalc_list[j][2], precalc_list[j][3], pages, key_counts[j])\n",
    "            counts[j].append(c)\n",
    "            res_list[j].append(res)\n",
    "        if not mp and i%1000 == 0:\n",
    "            end = time.time()\n",
    "            print('Time Elapsed:{:f}, Percent Complete:{:f}'.format(end - start,i*100/len(df)))\n",
    "            \n",
    "    # Return results:\n",
    "    return key_counts"
   ]
  },
  {
   "cell_type": "code",
   "execution_count": 10,
   "metadata": {},
   "outputs": [],
   "source": [
    "def collect_counts(dictnames, dict_list, word_counts, mp=True):\n",
    "    \"\"\"Collects counts per term per dictionary--combining across entities--into DataFrames.\n",
    "    \n",
    "    Args:\n",
    "    dictnames: list of dictionary names\n",
    "    word_counts: individual term counts nested in dictionaries (list of lists)--possibly nested in chunks if mp was used\n",
    "    mp: whether multiprocessing was used to collect word_counts (affects nesting)\n",
    "    \n",
    "    Returns: \n",
    "    dfs: list of DataFrames, one each showing counts for each dictionary counted, sorted by frequency\n",
    "    \"\"\"\n",
    "    \n",
    "    #dict_list = load_dict(dict_path, dict_names, file_ext)\n",
    "    \n",
    "    # Convert format from chunks of dictionaries of terms -> dictionaries of chunks of terms\n",
    "    counts = [[] for _ in range(len(dictnames))]\n",
    "    for i, name in enumerate(dictnames):\n",
    "        [counts[i].append(chunk[i]) for chunk in word_counts]\n",
    "\n",
    "    i = 0 # first counter\n",
    "    zipper = zip(dict_list, counts) # object connecting dictionaries and word counts (must be indexed the same)\n",
    "    dfs = [pd.DataFrame() for _ in range(len(dictnames))] # list of DFs goes here for output\n",
    "\n",
    "    while i < len(names): # repeat as many times as there are dictionaries (using names to count)\n",
    "        print(\"TERM COUNTS FOR \" + str(dictnames[i].upper()) + \" DICTIONARY:\\n\")\n",
    "        wordlist, countlist = zipper.__next__() # grab pair of zipped lists\n",
    "        total = np.sum(np.array(countlist), 0) # add up all chunks of counts (from multiprocessing) to get overall counts\n",
    "\n",
    "        data = []; j = 0 # initialize list of word : counts and 2nd counter\n",
    "        while j < len(dict_list[i]):\n",
    "            data.append([wordlist[j], total[j]])\n",
    "            #print(str(wordlist[j]) + \": \" + str(total[j]))\n",
    "            j += 1\n",
    "\n",
    "        dfs[i] = pd.DataFrame(data, columns=[\"TERM\", \"FREQUENCY\"])\n",
    "        dfs[i].sort_values(by = \"FREQUENCY\", ascending = False, inplace = True)\n",
    "        print(dfs[i])\n",
    "        i += 1\n",
    "        print(\"\\n\")\n",
    "\n",
    "    return dfs"
   ]
  },
  {
   "cell_type": "code",
   "execution_count": 11,
   "metadata": {},
   "outputs": [],
   "source": [
    "def count_master(mp = True):\n",
    "    \"\"\"Performs dictionary counting at both entity and dictionary levels, and collects counts.\n",
    "    NOTE: This function by default uses these global variables as defined at top of count_dict.py. To override these defaults, define these manually:\n",
    "    dict_path, dict_names, file_ext, local_dicts, local_names\n",
    "\n",
    "    Args:\n",
    "    mp: whether or not function will be run in parallel\n",
    "\n",
    "    Returns:\n",
    "    df_new: dataframe containing NUMWORDS, D_COUNT, D_RATIO, and D_STR (where D is taken from dict filenames)\n",
    "    countsdfs: list of DataFrames, one each showing counts for each dictionary counted, sorted by frequency\n",
    "    \"\"\"\n",
    "\n",
    "    global local_dicts, local_names # Access to local dictionaries to count (defined in notebook) and their names\n",
    "    global dict_path, dict_names, file_ext # Access to parameters for load_dict(): folder path, file names, file extension (must be consistent)\n",
    "    names = dict_names + local_names # full list of dictionaries (might be either or both file-based or local)\n",
    "\n",
    "    # If specified, run without multiprocessing = MUCH SLOWER (no stemming by default):\n",
    "    if not mp:\n",
    "        df_new = create_cols(df_charter1, stemset = 0, mp=False)\n",
    "        wordcounts = count_words(df_charter1, mp=False)\n",
    "        countsdfs = collect_counts(wordcounts, mp = False)\n",
    "        return df_new, countsdfs\n",
    "\n",
    "    # Or, run in parallel using default settings (this means with multiprocessing and no stemming)\n",
    "    with mp.Pool(processes = mp.cpu_count() - 1) as pool:\n",
    "        # Count words per ENTITY (dictionary totals):\n",
    "        results = pool.map(create_cols, [df_charter1[300*i:i*300+300] for i in range(round(len(df_charter1)/300)+1)])\n",
    "        # Count words per DICTIONARY (entity totals):\n",
    "        wordcounts = pool.map(count_words, [df_charter1[300*i:i*300+300] for i in range(round(len(df_charter1)/300)+1)])\n",
    "\n",
    "    # Collect counts from  multiprocessing into DFs:\n",
    "    df_new = pd.concat(results[0])\n",
    "    countsdfs = collect_counts(wordcounts, mp = True)\n",
    "\n",
    "    return df_new, countsdfs"
   ]
  },
  {
   "cell_type": "markdown",
   "metadata": {},
   "source": [
    "## Count dictionaries across documents"
   ]
  },
  {
   "cell_type": "code",
   "execution_count": 127,
   "metadata": {},
   "outputs": [],
   "source": [
    "# Set dictionary count parameters\n",
    "dict_path = '/home/jovyan/work/text_analysis/dictionary_methods/dicts/'\n",
    "dict_names = ['inquiry30', 'discipline30'] # enter list of names of txt files holding dict\n",
    "file_ext = '.txt'\n",
    "\n",
    "dict_list = load_dict(dict_path, dict_names, file_ext) # Load dictionary\n",
    "\n",
    "local_dicts = [] # list of local dictionaries formatted as last of lists of terms--or if singular, just a list of terms\n",
    "local_names = [] # names of local dictionaries (list or list of lists)\n",
    "\n",
    "names = dict_names + local_names # full list of dictionaries (might be either or both file-based or local)"
   ]
  },
  {
   "cell_type": "markdown",
   "metadata": {},
   "source": [
    "### Count words per ENTITY (dictionary totals)"
   ]
  },
  {
   "cell_type": "code",
   "execution_count": 83,
   "metadata": {
    "scrolled": true
   },
   "outputs": [],
   "source": [
    "#SLOW VERSION - no multiprocessing, run with no stem:\n",
    "#df_new = create_cols(df_charter1, stemset = 0)"
   ]
  },
  {
   "cell_type": "code",
   "execution_count": 85,
   "metadata": {},
   "outputs": [
    {
     "name": "stdout",
     "output_type": "stream",
     "text": [
      "Time Elapsed:0.097462, Percent Complete:0.000000\n",
      "Time Elapsed:0.000744, Percent Complete:0.000000\n",
      "Time Elapsed:0.001084, Percent Complete:0.000000\n",
      "Time Elapsed:0.068236, Percent Complete:0.000000\n",
      "Time Elapsed:0.000774, Percent Complete:0.000000\n",
      "Time Elapsed:0.024343, Percent Complete:0.000000\n",
      "Time Elapsed:0.000799, Percent Complete:0.000000\n",
      "Time Elapsed:0.090196, Percent Complete:0.000000\n",
      "Time Elapsed:0.050340, Percent Complete:0.000000\n",
      "Time Elapsed:0.000821, Percent Complete:0.000000\n",
      "Time Elapsed:0.000774, Percent Complete:0.000000\n",
      "Time Elapsed:0.000813, Percent Complete:0.000000\n",
      "Time Elapsed:0.032565, Percent Complete:0.000000\n",
      "Time Elapsed:0.100686, Percent Complete:0.000000\n",
      "Time Elapsed:0.000775, Percent Complete:0.000000\n",
      "Time Elapsed:0.196737, Percent Complete:0.000000\n",
      "Time Elapsed:0.057583, Percent Complete:0.000000\n",
      "Time Elapsed:0.000868, Percent Complete:0.000000\n",
      "Time Elapsed:0.000770, Percent Complete:0.000000\n",
      "Time Elapsed:0.269154, Percent Complete:0.000000\n",
      "Time Elapsed:0.093573, Percent Complete:0.000000\n",
      "Time Elapsed:0.000804, Percent Complete:0.000000\n",
      "Time Elapsed:0.011078, Percent Complete:0.000000\n",
      "Time Elapsed:0.000808, Percent Complete:0.000000\n",
      "Time Elapsed:0.006824, Percent Complete:0.000000\n",
      "Time Elapsed:0.043666, Percent Complete:0.000000\n",
      "Time Elapsed:0.866898, Percent Complete:0.000000\n",
      "Time Elapsed:0.076638, Percent Complete:0.000000\n",
      "Time Elapsed:0.012862, Percent Complete:0.000000\n",
      "Time Elapsed:0.000771, Percent Complete:0.000000\n",
      "Time Elapsed:0.000756, Percent Complete:0.000000\n",
      "Time Elapsed:0.712590, Percent Complete:0.000000\n",
      "Time Elapsed:0.050764, Percent Complete:0.000000\n",
      "Time Elapsed:0.005232, Percent Complete:0.000000\n",
      "Time Elapsed:0.000739, Percent Complete:0.000000\n",
      "Time Elapsed:0.045986, Percent Complete:0.000000\n",
      "Time Elapsed:0.272470, Percent Complete:0.000000\n"
     ]
    },
    {
     "name": "stderr",
     "output_type": "stream",
     "text": [
      "/opt/conda/lib/python3.7/site-packages/ipykernel_launcher.py:53: RuntimeWarning: invalid value encountered in true_divide\n",
      "/opt/conda/lib/python3.7/site-packages/ipykernel_launcher.py:54: RuntimeWarning: divide by zero encountered in log10\n",
      "/opt/conda/lib/python3.7/site-packages/ipykernel_launcher.py:54: RuntimeWarning: invalid value encountered in true_divide\n",
      "/opt/conda/lib/python3.7/site-packages/ipykernel_launcher.py:53: RuntimeWarning: invalid value encountered in true_divide\n",
      "/opt/conda/lib/python3.7/site-packages/ipykernel_launcher.py:54: RuntimeWarning: divide by zero encountered in log10\n",
      "/opt/conda/lib/python3.7/site-packages/ipykernel_launcher.py:54: RuntimeWarning: invalid value encountered in true_divide\n",
      "/opt/conda/lib/python3.7/site-packages/ipykernel_launcher.py:53: RuntimeWarning: invalid value encountered in true_divide\n",
      "/opt/conda/lib/python3.7/site-packages/ipykernel_launcher.py:54: RuntimeWarning: divide by zero encountered in log10\n",
      "/opt/conda/lib/python3.7/site-packages/ipykernel_launcher.py:53: RuntimeWarning: invalid value encountered in true_divide\n",
      "/opt/conda/lib/python3.7/site-packages/ipykernel_launcher.py:54: RuntimeWarning: divide by zero encountered in log10\n",
      "/opt/conda/lib/python3.7/site-packages/ipykernel_launcher.py:54: RuntimeWarning: invalid value encountered in true_divide\n",
      "/opt/conda/lib/python3.7/site-packages/ipykernel_launcher.py:53: RuntimeWarning: invalid value encountered in true_divide\n",
      "/opt/conda/lib/python3.7/site-packages/ipykernel_launcher.py:54: RuntimeWarning: divide by zero encountered in log10\n",
      "/opt/conda/lib/python3.7/site-packages/ipykernel_launcher.py:53: RuntimeWarning: invalid value encountered in true_divide\n",
      "/opt/conda/lib/python3.7/site-packages/ipykernel_launcher.py:54: RuntimeWarning: divide by zero encountered in log10\n",
      "/opt/conda/lib/python3.7/site-packages/ipykernel_launcher.py:54: RuntimeWarning: invalid value encountered in true_divide\n",
      "/opt/conda/lib/python3.7/site-packages/ipykernel_launcher.py:53: RuntimeWarning: invalid value encountered in true_divide\n",
      "/opt/conda/lib/python3.7/site-packages/ipykernel_launcher.py:54: RuntimeWarning: divide by zero encountered in log10\n",
      "/opt/conda/lib/python3.7/site-packages/ipykernel_launcher.py:54: RuntimeWarning: invalid value encountered in true_divide\n",
      "/opt/conda/lib/python3.7/site-packages/ipykernel_launcher.py:53: RuntimeWarning: invalid value encountered in true_divide\n",
      "/opt/conda/lib/python3.7/site-packages/ipykernel_launcher.py:54: RuntimeWarning: divide by zero encountered in log10\n",
      "/opt/conda/lib/python3.7/site-packages/ipykernel_launcher.py:54: RuntimeWarning: invalid value encountered in true_divide\n",
      "/opt/conda/lib/python3.7/site-packages/ipykernel_launcher.py:53: RuntimeWarning: invalid value encountered in true_divide\n",
      "/opt/conda/lib/python3.7/site-packages/ipykernel_launcher.py:54: RuntimeWarning: divide by zero encountered in log10\n",
      "/opt/conda/lib/python3.7/site-packages/ipykernel_launcher.py:54: RuntimeWarning: invalid value encountered in true_divide\n",
      "/opt/conda/lib/python3.7/site-packages/ipykernel_launcher.py:53: RuntimeWarning: invalid value encountered in true_divide\n",
      "/opt/conda/lib/python3.7/site-packages/ipykernel_launcher.py:54: RuntimeWarning: divide by zero encountered in log10\n",
      "/opt/conda/lib/python3.7/site-packages/ipykernel_launcher.py:54: RuntimeWarning: invalid value encountered in true_divide\n",
      "/opt/conda/lib/python3.7/site-packages/ipykernel_launcher.py:53: RuntimeWarning: invalid value encountered in true_divide\n",
      "/opt/conda/lib/python3.7/site-packages/ipykernel_launcher.py:54: RuntimeWarning: divide by zero encountered in log10\n",
      "/opt/conda/lib/python3.7/site-packages/ipykernel_launcher.py:54: RuntimeWarning: invalid value encountered in true_divide\n",
      "/opt/conda/lib/python3.7/site-packages/ipykernel_launcher.py:53: RuntimeWarning: invalid value encountered in true_divide\n",
      "/opt/conda/lib/python3.7/site-packages/ipykernel_launcher.py:54: RuntimeWarning: divide by zero encountered in log10\n",
      "/opt/conda/lib/python3.7/site-packages/ipykernel_launcher.py:54: RuntimeWarning: invalid value encountered in true_divide\n",
      "/opt/conda/lib/python3.7/site-packages/ipykernel_launcher.py:53: RuntimeWarning: invalid value encountered in true_divide\n",
      "/opt/conda/lib/python3.7/site-packages/ipykernel_launcher.py:54: RuntimeWarning: divide by zero encountered in log10\n",
      "/opt/conda/lib/python3.7/site-packages/ipykernel_launcher.py:54: RuntimeWarning: invalid value encountered in true_divide\n",
      "/opt/conda/lib/python3.7/site-packages/ipykernel_launcher.py:53: RuntimeWarning: invalid value encountered in true_divide\n",
      "/opt/conda/lib/python3.7/site-packages/ipykernel_launcher.py:54: RuntimeWarning: divide by zero encountered in log10\n",
      "/opt/conda/lib/python3.7/site-packages/ipykernel_launcher.py:54: RuntimeWarning: invalid value encountered in true_divide\n",
      "/opt/conda/lib/python3.7/site-packages/ipykernel_launcher.py:53: RuntimeWarning: invalid value encountered in true_divide\n",
      "/opt/conda/lib/python3.7/site-packages/ipykernel_launcher.py:54: RuntimeWarning: divide by zero encountered in log10\n",
      "/opt/conda/lib/python3.7/site-packages/ipykernel_launcher.py:54: RuntimeWarning: invalid value encountered in true_divide\n",
      "/opt/conda/lib/python3.7/site-packages/ipykernel_launcher.py:53: RuntimeWarning: invalid value encountered in true_divide\n",
      "/opt/conda/lib/python3.7/site-packages/ipykernel_launcher.py:54: RuntimeWarning: divide by zero encountered in log10\n",
      "/opt/conda/lib/python3.7/site-packages/ipykernel_launcher.py:54: RuntimeWarning: invalid value encountered in true_divide\n",
      "/opt/conda/lib/python3.7/site-packages/ipykernel_launcher.py:53: RuntimeWarning: invalid value encountered in true_divide\n",
      "/opt/conda/lib/python3.7/site-packages/ipykernel_launcher.py:54: RuntimeWarning: divide by zero encountered in log10\n",
      "/opt/conda/lib/python3.7/site-packages/ipykernel_launcher.py:54: RuntimeWarning: invalid value encountered in true_divide\n",
      "/opt/conda/lib/python3.7/site-packages/ipykernel_launcher.py:53: RuntimeWarning: invalid value encountered in true_divide\n",
      "/opt/conda/lib/python3.7/site-packages/ipykernel_launcher.py:54: RuntimeWarning: divide by zero encountered in log10\n",
      "/opt/conda/lib/python3.7/site-packages/ipykernel_launcher.py:54: RuntimeWarning: invalid value encountered in true_divide\n",
      "/opt/conda/lib/python3.7/site-packages/ipykernel_launcher.py:53: RuntimeWarning: invalid value encountered in true_divide\n",
      "/opt/conda/lib/python3.7/site-packages/ipykernel_launcher.py:54: RuntimeWarning: divide by zero encountered in log10\n",
      "/opt/conda/lib/python3.7/site-packages/ipykernel_launcher.py:54: RuntimeWarning: invalid value encountered in true_divide\n",
      "/opt/conda/lib/python3.7/site-packages/ipykernel_launcher.py:53: RuntimeWarning: invalid value encountered in true_divide\n",
      "/opt/conda/lib/python3.7/site-packages/ipykernel_launcher.py:54: RuntimeWarning: divide by zero encountered in log10\n",
      "/opt/conda/lib/python3.7/site-packages/ipykernel_launcher.py:54: RuntimeWarning: invalid value encountered in true_divide\n",
      "/opt/conda/lib/python3.7/site-packages/ipykernel_launcher.py:53: RuntimeWarning: invalid value encountered in true_divide\n",
      "/opt/conda/lib/python3.7/site-packages/ipykernel_launcher.py:54: RuntimeWarning: divide by zero encountered in log10\n",
      "/opt/conda/lib/python3.7/site-packages/ipykernel_launcher.py:54: RuntimeWarning: invalid value encountered in true_divide\n",
      "/opt/conda/lib/python3.7/site-packages/ipykernel_launcher.py:53: RuntimeWarning: invalid value encountered in true_divide\n",
      "/opt/conda/lib/python3.7/site-packages/ipykernel_launcher.py:54: RuntimeWarning: divide by zero encountered in log10\n",
      "/opt/conda/lib/python3.7/site-packages/ipykernel_launcher.py:54: RuntimeWarning: invalid value encountered in true_divide\n",
      "/opt/conda/lib/python3.7/site-packages/ipykernel_launcher.py:53: RuntimeWarning: invalid value encountered in true_divide\n",
      "/opt/conda/lib/python3.7/site-packages/ipykernel_launcher.py:54: RuntimeWarning: divide by zero encountered in log10\n",
      "/opt/conda/lib/python3.7/site-packages/ipykernel_launcher.py:54: RuntimeWarning: invalid value encountered in true_divide\n",
      "/opt/conda/lib/python3.7/site-packages/ipykernel_launcher.py:53: RuntimeWarning: invalid value encountered in true_divide\n",
      "/opt/conda/lib/python3.7/site-packages/ipykernel_launcher.py:54: RuntimeWarning: divide by zero encountered in log10\n"
     ]
    },
    {
     "name": "stderr",
     "output_type": "stream",
     "text": [
      "/opt/conda/lib/python3.7/site-packages/ipykernel_launcher.py:54: RuntimeWarning: invalid value encountered in true_divide\n",
      "/opt/conda/lib/python3.7/site-packages/ipykernel_launcher.py:53: RuntimeWarning: invalid value encountered in true_divide\n",
      "/opt/conda/lib/python3.7/site-packages/ipykernel_launcher.py:54: RuntimeWarning: divide by zero encountered in log10\n",
      "/opt/conda/lib/python3.7/site-packages/ipykernel_launcher.py:54: RuntimeWarning: invalid value encountered in true_divide\n",
      "/opt/conda/lib/python3.7/site-packages/ipykernel_launcher.py:53: RuntimeWarning: invalid value encountered in true_divide\n",
      "/opt/conda/lib/python3.7/site-packages/ipykernel_launcher.py:54: RuntimeWarning: divide by zero encountered in log10\n",
      "/opt/conda/lib/python3.7/site-packages/ipykernel_launcher.py:54: RuntimeWarning: invalid value encountered in true_divide\n",
      "/opt/conda/lib/python3.7/site-packages/ipykernel_launcher.py:53: RuntimeWarning: invalid value encountered in true_divide\n",
      "/opt/conda/lib/python3.7/site-packages/ipykernel_launcher.py:54: RuntimeWarning: divide by zero encountered in log10\n",
      "/opt/conda/lib/python3.7/site-packages/ipykernel_launcher.py:54: RuntimeWarning: invalid value encountered in true_divide\n",
      "/opt/conda/lib/python3.7/site-packages/ipykernel_launcher.py:53: RuntimeWarning: invalid value encountered in true_divide\n",
      "/opt/conda/lib/python3.7/site-packages/ipykernel_launcher.py:54: RuntimeWarning: divide by zero encountered in log10\n",
      "/opt/conda/lib/python3.7/site-packages/ipykernel_launcher.py:54: RuntimeWarning: invalid value encountered in true_divide\n",
      "/opt/conda/lib/python3.7/site-packages/ipykernel_launcher.py:53: RuntimeWarning: invalid value encountered in true_divide\n",
      "/opt/conda/lib/python3.7/site-packages/ipykernel_launcher.py:54: RuntimeWarning: divide by zero encountered in log10\n",
      "/opt/conda/lib/python3.7/site-packages/ipykernel_launcher.py:54: RuntimeWarning: invalid value encountered in true_divide\n",
      "/opt/conda/lib/python3.7/site-packages/ipykernel_launcher.py:53: RuntimeWarning: invalid value encountered in true_divide\n",
      "/opt/conda/lib/python3.7/site-packages/ipykernel_launcher.py:54: RuntimeWarning: divide by zero encountered in log10\n",
      "/opt/conda/lib/python3.7/site-packages/ipykernel_launcher.py:54: RuntimeWarning: invalid value encountered in true_divide\n",
      "/opt/conda/lib/python3.7/site-packages/ipykernel_launcher.py:53: RuntimeWarning: invalid value encountered in true_divide\n",
      "/opt/conda/lib/python3.7/site-packages/ipykernel_launcher.py:54: RuntimeWarning: divide by zero encountered in log10\n",
      "/opt/conda/lib/python3.7/site-packages/ipykernel_launcher.py:54: RuntimeWarning: invalid value encountered in true_divide\n",
      "/opt/conda/lib/python3.7/site-packages/ipykernel_launcher.py:53: RuntimeWarning: invalid value encountered in true_divide\n",
      "/opt/conda/lib/python3.7/site-packages/ipykernel_launcher.py:54: RuntimeWarning: divide by zero encountered in log10\n",
      "/opt/conda/lib/python3.7/site-packages/ipykernel_launcher.py:54: RuntimeWarning: invalid value encountered in true_divide\n",
      "/opt/conda/lib/python3.7/site-packages/ipykernel_launcher.py:53: RuntimeWarning: invalid value encountered in true_divide\n",
      "/opt/conda/lib/python3.7/site-packages/ipykernel_launcher.py:54: RuntimeWarning: divide by zero encountered in log10\n",
      "/opt/conda/lib/python3.7/site-packages/ipykernel_launcher.py:54: RuntimeWarning: invalid value encountered in true_divide\n",
      "/opt/conda/lib/python3.7/site-packages/ipykernel_launcher.py:53: RuntimeWarning: invalid value encountered in true_divide\n",
      "/opt/conda/lib/python3.7/site-packages/ipykernel_launcher.py:54: RuntimeWarning: divide by zero encountered in log10\n",
      "/opt/conda/lib/python3.7/site-packages/ipykernel_launcher.py:54: RuntimeWarning: invalid value encountered in true_divide\n",
      "/opt/conda/lib/python3.7/site-packages/ipykernel_launcher.py:53: RuntimeWarning: invalid value encountered in true_divide\n",
      "/opt/conda/lib/python3.7/site-packages/ipykernel_launcher.py:54: RuntimeWarning: divide by zero encountered in log10\n",
      "/opt/conda/lib/python3.7/site-packages/ipykernel_launcher.py:54: RuntimeWarning: invalid value encountered in true_divide\n",
      "/opt/conda/lib/python3.7/site-packages/ipykernel_launcher.py:53: RuntimeWarning: invalid value encountered in true_divide\n",
      "/opt/conda/lib/python3.7/site-packages/ipykernel_launcher.py:54: RuntimeWarning: divide by zero encountered in log10\n",
      "/opt/conda/lib/python3.7/site-packages/ipykernel_launcher.py:54: RuntimeWarning: invalid value encountered in true_divide\n",
      "/opt/conda/lib/python3.7/site-packages/ipykernel_launcher.py:53: RuntimeWarning: invalid value encountered in true_divide\n",
      "/opt/conda/lib/python3.7/site-packages/ipykernel_launcher.py:54: RuntimeWarning: divide by zero encountered in log10\n",
      "/opt/conda/lib/python3.7/site-packages/ipykernel_launcher.py:54: RuntimeWarning: invalid value encountered in true_divide\n"
     ]
    }
   ],
   "source": [
    "# run in parallel using default settings (no stemming)\n",
    "with mp.Pool(processes = mp.cpu_count() - 1) as pool:\n",
    "    results = pool.map(create_cols, [df_charter1[300*i:i*300+300] for i in range(round(len(df_charter1)/300)+1)])"
   ]
  },
  {
   "cell_type": "code",
   "execution_count": null,
   "metadata": {
    "scrolled": false
   },
   "outputs": [],
   "source": [
    "df_new = pd.concat(results[0]) # Combine into DF\n",
    "df_new"
   ]
  },
  {
   "cell_type": "markdown",
   "metadata": {},
   "source": [
    "### Count words per DICTIONARY (entity totals)"
   ]
  },
  {
   "cell_type": "code",
   "execution_count": 125,
   "metadata": {},
   "outputs": [],
   "source": [
    "# Run in parallel using default settings (no stemming)\n",
    "# output is chunks of dictionaries of terms\n",
    "with mp.Pool(processes = mp.cpu_count() - 1) as pool:\n",
    "    wordcounts = pool.map(count_words, [df_charter1[300*i:i*300+300] for i in range(round(len(df_charter1)/300)+1)])"
   ]
  },
  {
   "cell_type": "code",
   "execution_count": 368,
   "metadata": {},
   "outputs": [
    {
     "name": "stdout",
     "output_type": "stream",
     "text": [
      "TERM COUNTS FOR INQUIRY30 DICTIONARY:\n",
      "\n",
      "                               TERM  FREQUENCY\n",
      "36                         hands-on      48419\n",
      "44                    project-based       4125\n",
      "4                      experiential       1916\n",
      "42                 student-centered       1468\n",
      "50                    inquiry-based       1257\n",
      "24                   child-centered        654\n",
      "49                   constructivist        251\n",
      "51                    problem-based        198\n",
      "52                          hand-on        127\n",
      "33                 learner-centered        125\n",
      "47            experiential_approach         97\n",
      "27                   constructivism         97\n",
      "32                 laboratory-based         31\n",
      "37                  discovery-based         29\n",
      "40                   active_inquiry         26\n",
      "0                   handsonlearning         26\n",
      "9                    inquiry-driven         25\n",
      "6                    experientially         20\n",
      "31                         socratic         14\n",
      "14                 project-centered         10\n",
      "39                     projectbased          4\n",
      "5                           handson          4\n",
      "22                           handon          1\n",
      "41                     inquirybased          1\n",
      "11                  socratic_method          1\n",
      "16                    activeinquiry          0\n",
      "8                 hands-on/minds-on          0\n",
      "38       student-driven_exploration          0\n",
      "7   exploration_and_experimentation          0\n",
      "43    explorationandexperimentation          0\n",
      "45                   discoverybased          0\n",
      "46                  learnercentered          0\n",
      "48                  projectcentered          0\n",
      "3                   studentcentered          0\n",
      "2                      problembased          0\n",
      "10                   learn-by-doing          0\n",
      "34      studentcenteredinquirybased          0\n",
      "35                 socraticdialogue          0\n",
      "17                  laboratorybased          0\n",
      "12                     learnbydoing          0\n",
      "13                hands-on_learning          0\n",
      "30                             prbl          0\n",
      "29                    inquirydriven          0\n",
      "28                hands-on_minds-on          0\n",
      "1    student-centered_inquiry-based          0\n",
      "25         studentdrivenexploration          0\n",
      "15                socratic_dialogue          0\n",
      "23            hands-on_and_minds-on          0\n",
      "21                   socraticmethod          0\n",
      "20                   handsonmindson          0\n",
      "19                handsonandmindson          0\n",
      "18                    childcentered          0\n",
      "26             experientialapproach          0\n",
      "\n",
      "\n",
      "TERM COUNTS FOR DISCIPLINE30 DICTIONARY:\n",
      "\n",
      "                       TERM  FREQUENCY\n",
      "10               discipline      10409\n",
      "28             disciplinary       4947\n",
      "8                suspension       4629\n",
      "14                violation       3541\n",
      "33                 criminal       3169\n",
      "2                 authority       3108\n",
      "5                 expulsion       3019\n",
      "4             inappropriate       2667\n",
      "20                    drugs       2552\n",
      "26                  illegal       1513\n",
      "27                suspended       1394\n",
      "11                    crime       1379\n",
      "32                  violate        869\n",
      "30                  penalty        490\n",
      "19  behavioral_expectations        390\n",
      "16              absenteeism        338\n",
      "29               no-excuses        335\n",
      "22              misbehavior        307\n",
      "23                    expel        274\n",
      "25              perpetrator        217\n",
      "12           zero-tolerance        185\n",
      "24           zero_tolerance        185\n",
      "7                     deter        136\n",
      "31             disobedience        107\n",
      "18                   punish        101\n",
      "13                 penalize         48\n",
      "34               expellable         30\n",
      "3              drug-related         21\n",
      "1                deterrence          7\n",
      "9    behavioralexpectations          3\n",
      "0             zerotolerance          0\n",
      "21              drugrelated          0\n",
      "15    zero-tolerance_policy          0\n",
      "6                 noexcuses          0\n",
      "17      zerotolerancepolicy          0\n",
      "\n",
      "\n"
     ]
    }
   ],
   "source": [
    "countsdfs = collect_counts(names, dict_list, wordcounts)"
   ]
  },
  {
   "cell_type": "markdown",
   "metadata": {},
   "source": [
    "## Inspect results"
   ]
  },
  {
   "cell_type": "code",
   "execution_count": null,
   "metadata": {},
   "outputs": [],
   "source": [
    "# Show the distribution for strength. Notice there are many -6, which is due to many zeroes in hit count:\n",
    "%matplotlib inline\n",
    "import matplotlib.pyplot as plt\n",
    "count = df_new[\"INQUIRY30_COUNT\"]\n",
    "emphasis = df_new[\"INQUIRY30_STR\"]"
   ]
  },
  {
   "cell_type": "code",
   "execution_count": 76,
   "metadata": {},
   "outputs": [
    {
     "data": {
      "image/png": "[encoded data removed]",
      "text/plain": [
       "<Figure size 432x288 with 1 Axes>"
      ]
     },
     "metadata": {
      "needs_background": "light"
     },
     "output_type": "display_data"
    }
   ],
   "source": [
    "n, bins, patches = plt.hist(count, 50, facecolor='b', alpha=0.75) # build histogram\n",
    "plt.ylabel('Frequency')\n",
    "plt.xlabel('# IBL terms')\n",
    "plt.grid(False)\n",
    "plt.title('IBL counts: big picture')\n",
    "plt.xlim(0, 20000)\n",
    "plt.ylim(0, 10000)\n",
    "plt.show()"
   ]
  },
  {
   "cell_type": "code",
   "execution_count": 77,
   "metadata": {},
   "outputs": [
    {
     "data": {
      "image/png": "[encoded data removed]",
      "text/plain": [
       "<Figure size 432x288 with 1 Axes>"
      ]
     },
     "metadata": {
      "needs_background": "light"
     },
     "output_type": "display_data"
    }
   ],
   "source": [
    "n, bins, patches = plt.hist(count, 1000, facecolor='b', alpha=0.75) # build histogram\n",
    "plt.ylabel('Frequency')\n",
    "plt.xlabel('# IBL terms')\n",
    "plt.grid(False)\n",
    "plt.title('IBL counts: detail')\n",
    "plt.xlim(0, 500)\n",
    "plt.ylim(0, 100)\n",
    "plt.show()"
   ]
  },
  {
   "cell_type": "code",
   "execution_count": 91,
   "metadata": {},
   "outputs": [
    {
     "data": {
      "image/png": "[encoded data removed]",
      "text/plain": [
       "<Figure size 432x288 with 1 Axes>"
      ]
     },
     "metadata": {
      "needs_background": "light"
     },
     "output_type": "display_data"
    }
   ],
   "source": [
    "n, bins, patches = plt.hist(emphasis, 30, facecolor='g', alpha=0.75) # build histogram\n",
    "plt.ylabel('Frequency')\n",
    "plt.xlabel('Emphasis on IBL')\n",
    "plt.grid(False)\n",
    "plt.title('IBL emphasis: big picture')\n",
    "plt.xlim(0, 1)\n",
    "plt.ylim(0, 7500)\n",
    "plt.show()"
   ]
  },
  {
   "cell_type": "code",
   "execution_count": 103,
   "metadata": {},
   "outputs": [
    {
     "data": {
      "image/png": "[encoded data removed]",
      "text/plain": [
       "<Figure size 432x288 with 1 Axes>"
      ]
     },
     "metadata": {
      "needs_background": "light"
     },
     "output_type": "display_data"
    }
   ],
   "source": [
    "n, bins, patches = plt.hist(emphasis, 100, facecolor='g', alpha=0.75) # build histogram\n",
    "plt.title('IBL emphasis: detail')\n",
    "plt.ylabel('Frequency')\n",
    "plt.xlabel('Emphasis on IBL')\n",
    "plt.grid(False)\n",
    "plt.xlim(0, 0.4)\n",
    "plt.ylim(0, 500)\n",
    "plt.show()"
   ]
  },
  {
   "cell_type": "code",
   "execution_count": 117,
   "metadata": {},
   "outputs": [
    {
     "data": {
      "image/png": "[encoded data removed]",
      "text/plain": [
       "<Figure size 432x288 with 1 Axes>"
      ]
     },
     "metadata": {
      "needs_background": "light"
     },
     "output_type": "display_data"
    }
   ],
   "source": [
    "n, bins, patches = plt.hist(emphasis, 800, facecolor='g', alpha=0.75) # build histogram\n",
    "plt.title('IBL emphasis: zoomed low')\n",
    "plt.ylabel('Frequency')\n",
    "plt.xlabel('Emphasis on IBL')\n",
    "plt.grid(False)\n",
    "plt.xlim(0.055, 0.09)\n",
    "plt.ylim(0, 50)\n",
    "plt.show()"
   ]
  },
  {
   "cell_type": "markdown",
   "metadata": {},
   "source": [
    "## Save results"
   ]
  },
  {
   "cell_type": "code",
   "execution_count": 118,
   "metadata": {},
   "outputs": [
    {
     "data": {
      "text/plain": [
       "['NCESSCH',\n",
       " 'NUMWORDS',\n",
       " 'INQUIRY30_COUNT',\n",
       " 'INQUIRY30_RATIO',\n",
       " 'INQUIRY30_STR',\n",
       " 'DISCIPLINE30_COUNT',\n",
       " 'DISCIPLINE30_RATIO',\n",
       " 'DISCIPLINE30_STR']"
      ]
     },
     "execution_count": 118,
     "metadata": {},
     "output_type": "execute_result"
    }
   ],
   "source": [
    "# Drop WEBTEXT to keep file size small:\n",
    "df_new.drop(columns = \"WEBTEXT\", inplace=True)\n",
    "list(df_new)"
   ]
  },
  {
   "cell_type": "code",
   "execution_count": 119,
   "metadata": {},
   "outputs": [],
   "source": [
    "df_new.to_csv('../../charter_data/dict_counts/30counts_2015_250_v2a.csv')"
   ]
  }
 ],
 "metadata": {
  "kernelspec": {
   "display_name": "Python 3",
   "language": "python",
   "name": "python3"
  },
  "language_info": {
   "codemirror_mode": {
    "name": "ipython",
    "version": 3
   },
   "file_extension": ".py",
   "mimetype": "text/x-python",
   "name": "python",
   "nbconvert_exporter": "python",
   "pygments_lexer": "ipython3",
   "version": "3.7.3"
  }
 },
 "nbformat": 4,
 "nbformat_minor": 2
}
