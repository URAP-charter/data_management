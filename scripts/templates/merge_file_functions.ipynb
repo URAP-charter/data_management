{
 "cells": [
  {
   "cell_type": "code",
   "execution_count": 10,
   "metadata": {},
   "outputs": [],
   "source": [
    "import pandas as pd"
   ]
  },
  {
   "cell_type": "code",
   "execution_count": 17,
   "metadata": {},
   "outputs": [],
   "source": [
    "def merge_dfs(file_tuples, cols, method = 'outer'):\n",
    "    \"\"\"\n",
    "    Given a list of tuples of files, merge the two files in the tuple.\n",
    "    \n",
    "    For example: \n",
    "        Given ((A, B), (C, D), (E, F))\n",
    "        Should return (A + B, C + D, E + F) where \"+\" means merge.\n",
    "        \n",
    "    Args: \n",
    "        file_tuples(list of tuples of strs): a list of tuples of files.\n",
    "        cols(list of strs): a list of the keys that used as the identifiers for each tuples to merge.\n",
    "        method(str): default is \"outer\", can be \"left\", \"right\" or \"inner\" depends on which sides you want to preserve.\n",
    "    \n",
    "    Returns:\n",
    "        mergedDFs(list of dfs): a list of merged pandas DataFrames.\n",
    "    \"\"\"\n",
    "    mergedDFs = []\n",
    "    \n",
    "    for i in range(0, len(file_tuples)):\n",
    "        left = pd.read_csv(file_tuples[i][0], encoding = 'latin-1')  # the params of read_csv can change depend on your purpose.\n",
    "        right = pd.read_csv(file_tuples[i][1], encoding = 'latin-1')\n",
    "        df = pd.merge(left, right, how = method, on = cols[i])\n",
    "        mergedDFs.append(df)\n",
    "\n",
    "    return mergedDFs"
   ]
  },
  {
   "cell_type": "code",
   "execution_count": 18,
   "metadata": {},
   "outputs": [],
   "source": [
    "def merge_to_one(source, files, col, method = 'left'):\n",
    "    \"\"\"\n",
    "    Given a list of files and a main file, merge all the files in the list to the main file.\n",
    "    \n",
    "    For example:\n",
    "       Given A and (B, C, D, E)\n",
    "       Should return mergedDF = (((A + B) + C) + D) + E where \"+\" means merge.\n",
    "       \n",
    "    Args:\n",
    "       source(str): the main file which you want to keep all its rows\n",
    "       files(list of strs): a list of files that you want to merge to source\n",
    "       col(str): the key that used as the identifier to merge.\n",
    "       method(str): in this case \"left\" is recommanded because all other files are merged to source which is the left file.\n",
    "       \n",
    "    Returns:\n",
    "       mergedDF(df): the merged pandas DataFrame.\n",
    "    \"\"\"\n",
    "    \n",
    "    mergedDF = pd.read_csv(source, encoding = 'latin-1')\n",
    "    for f in files:\n",
    "        this_file = pd.read_csv(f, encoding = 'latin-1') # the params of read_csv can change depend on your purpose.\n",
    "        mergedDF = pd.merge(mergedDF, this_file, how = method, on = col)\n",
    "        \n",
    "    return mergedDF\n",
    "    "
   ]
  }
 ],
 "metadata": {
  "kernelspec": {
   "display_name": "Python 3",
   "language": "python",
   "name": "python3"
  },
  "language_info": {
   "codemirror_mode": {
    "name": "ipython",
    "version": 3
   },
   "file_extension": ".py",
   "mimetype": "text/x-python",
   "name": "python",
   "nbconvert_exporter": "python",
   "pygments_lexer": "ipython3",
   "version": "3.6.3"
  }
 },
 "nbformat": 4,
 "nbformat_minor": 2
}
