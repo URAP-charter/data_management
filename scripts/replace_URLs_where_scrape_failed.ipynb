{
 "cells": [
  {
   "cell_type": "code",
   "execution_count": 1,
   "metadata": {},
   "outputs": [
    {
     "ename": "ImportError",
     "evalue": "No module named 'datascience'",
     "output_type": "error",
     "traceback": [
      "\u001b[0;31m---------------------------------------------------------------------------\u001b[0m",
      "\u001b[0;31mImportError\u001b[0m                               Traceback (most recent call last)",
      "\u001b[0;32m<ipython-input-1-260dca07e618>\u001b[0m in \u001b[0;36m<module>\u001b[0;34m()\u001b[0m\n\u001b[0;32m----> 1\u001b[0;31m \u001b[0;32mfrom\u001b[0m \u001b[0mdatascience\u001b[0m \u001b[0;32mimport\u001b[0m \u001b[0;34m*\u001b[0m\u001b[0;34m\u001b[0m\u001b[0m\n\u001b[0m\u001b[1;32m      2\u001b[0m \u001b[0;32mimport\u001b[0m \u001b[0mpandas\u001b[0m \u001b[0;32mas\u001b[0m \u001b[0mpd\u001b[0m\u001b[0;34m\u001b[0m\u001b[0m\n\u001b[1;32m      3\u001b[0m \u001b[0;32mimport\u001b[0m \u001b[0mmath\u001b[0m\u001b[0;34m\u001b[0m\u001b[0m\n\u001b[1;32m      4\u001b[0m \u001b[0;32mimport\u001b[0m \u001b[0mmatplotlib\u001b[0m\u001b[0;34m\u001b[0m\u001b[0m\n\u001b[1;32m      5\u001b[0m \u001b[0mmatplotlib\u001b[0m\u001b[0;34m.\u001b[0m\u001b[0muse\u001b[0m\u001b[0;34m(\u001b[0m\u001b[0;34m'Agg'\u001b[0m\u001b[0;34m)\u001b[0m\u001b[0;34m\u001b[0m\u001b[0m\n",
      "\u001b[0;31mImportError\u001b[0m: No module named 'datascience'"
     ]
    }
   ],
   "source": [
    "from datascience import *\n",
    "import pandas as pd\n",
    "import math\n",
    "import matplotlib\n",
    "matplotlib.use('Agg')\n",
    "from datascience import Table\n",
    "%matplotlib inline\n",
    "import matplotlib.pyplot as plt\n",
    "import numpy as np\n",
    "plt.style.use('fivethirtyeight')\n"
   ]
  },
  {
   "cell_type": "code",
   "execution_count": 4,
   "metadata": {
    "collapsed": true
   },
   "outputs": [],
   "source": [
    "##initialize tables, full is a table of all values \n",
    "##short is a table of the initially failed url scrapes\n",
    "\n",
    "full = Table.read_table('7000.csv')\n",
    "short = Table.read_table('700.csv')"
   ]
  },
  {
   "cell_type": "code",
   "execution_count": 5,
   "metadata": {
    "collapsed": true
   },
   "outputs": [],
   "source": [
    "##arrays of URLs\n",
    "full_url = full.column(\"URL\")\n",
    "short_url = short.column(\"URL\")\n",
    "\n",
    "##arrays of NCESSCH ids\n",
    "full_id = full.column(\"NCESSCH\")\n",
    "short_id = short.column(\"NCESSCH\")\n",
    "\n",
    "##arrays of NUM_BAD_URLS\n",
    "full_bad_url = full.column(\"NUM_BAD_URLS\")\n",
    "short_bad_url = short.column(\"NUM_BAD_URLS\")\n",
    "\n",
    "##array of FAILED_SCRAPE_AUTO\n",
    "full_scrape_auto = full.column(\"FAILED_SCRAPE_AUTO\")\n",
    "\n",
    "##array of full note column\n",
    "full_notes = full.column(\"NOTES\")"
   ]
  },
  {
   "cell_type": "code",
   "execution_count": 6,
   "metadata": {
    "collapsed": true
   },
   "outputs": [],
   "source": [
    "##amending the url list\n",
    "\n",
    "for i in range(len(full_id)):\n",
    "    for x in range(len(short_id)):\n",
    "        if full_id[i] == short_id[x]:\n",
    "            full_url[i] = short_url[x]"
   ]
  },
  {
   "cell_type": "code",
   "execution_count": 7,
   "metadata": {
    "collapsed": true
   },
   "outputs": [],
   "source": [
    "##amending the num_bad_urls\n",
    "\n",
    "for i in range(len(full_id)):\n",
    "    for x in range(len(short_id)):\n",
    "        if full_id[i] == short_id[x]:\n",
    "            full_bad_url[i] = short_bad_url[x]"
   ]
  },
  {
   "cell_type": "code",
   "execution_count": 8,
   "metadata": {
    "collapsed": true
   },
   "outputs": [],
   "source": [
    "##amending the FAILED_SCRAPE_AUTO\n",
    "\n",
    "for i in range(len(full_id)):\n",
    "    for x in range(len(short_id)):\n",
    "        if full_id[i] == short_id[x]:\n",
    "            if full_scrape_auto[i] == 1:\n",
    "                full_scrape_auto[i] = 0\n",
    "                "
   ]
  },
  {
   "cell_type": "code",
   "execution_count": 9,
   "metadata": {
    "collapsed": true
   },
   "outputs": [],
   "source": [
    "##ammending the Notes column\n",
    "\n",
    "for i in range(len(full_id)):\n",
    "    for x in range(len(short_id)):\n",
    "        if full_id[i] == short_id[x]:\n",
    "            full_notes[i] = \"new scraped URL 11-08-18\""
   ]
  },
  {
   "cell_type": "code",
   "execution_count": 10,
   "metadata": {
    "collapsed": true
   },
   "outputs": [],
   "source": [
    "##adding new url column\n",
    "\n",
    "full_fixed_url = full.with_column(\"URL_2\", full_url).move_to_end(\"URL\").select(range(24)).select('SEARCH16','URL_2','FAILED_SCRAPE_MANUAL','FAILED_SCRAPE_AUTO','URL_DIRTY','NUM_BAD_URLS','SHARED_URL_ONLY','NCESSCH','CONFIRMED_CLOSED17','URL_CHECKED_BY','NOTES','SCHNAM','ADDRESS16','URL16-DIRTY','URL14','SY_STATUS16','SY_STATUS15','LEVEL15','STABR','WEBSITE_OFFICIAL','YEAR_CLOSED','SEARCH14','SCHNAM14','YEAR_OPENED')\n",
    "full_fixed_url = full_fixed_url.relabeled('URL_2', 'URL')"
   ]
  },
  {
   "cell_type": "code",
   "execution_count": 11,
   "metadata": {
    "collapsed": true
   },
   "outputs": [],
   "source": [
    "##adding new num_bad_urls\n",
    "\n",
    "full_fixed_bad_urls = full_fixed_url.with_columns('NUM_BAD_URLS_2', full_bad_url).select('SEARCH16','URL','FAILED_SCRAPE_MANUAL','FAILED_SCRAPE_AUTO','URL_DIRTY','NUM_BAD_URLS_2','SHARED_URL_ONLY','NCESSCH','CONFIRMED_CLOSED17','URL_CHECKED_BY','NOTES','SCHNAM','ADDRESS16','URL16-DIRTY','URL14','SY_STATUS16','SY_STATUS15','LEVEL15','STABR','WEBSITE_OFFICIAL','YEAR_CLOSED','SEARCH14','SCHNAM14','YEAR_OPENED').relabeled(\"NUM_BAD_URLS_2\", \"NUM_BAD_URLS\")"
   ]
  },
  {
   "cell_type": "code",
   "execution_count": 12,
   "metadata": {
    "collapsed": true
   },
   "outputs": [],
   "source": [
    "##adding new failed scrape and notes columns\n",
    "\n",
    "full_fixed_fail_scrape = full_fixed_bad_urls.with_columns('FAILED_SCRAPE_AUTO_2', full_scrape_auto, \"NOTES_2\", full_notes).select('SEARCH16','URL','FAILED_SCRAPE_MANUAL','FAILED_SCRAPE_AUTO_2','URL_DIRTY','NUM_BAD_URLS','SHARED_URL_ONLY','NCESSCH','CONFIRMED_CLOSED17','URL_CHECKED_BY','NOTES_2','SCHNAM','ADDRESS16','URL16-DIRTY','URL14','SY_STATUS16','SY_STATUS15','LEVEL15','STABR','WEBSITE_OFFICIAL','YEAR_CLOSED','SEARCH14','SCHNAM14','YEAR_OPENED')\n",
    "full_fixed_fail_scrape = full_fixed_fail_scrape.relabeled(\"FAILED_SCRAPE_AUTO_2\", \"FAILED_SCRAPE_AUTO\").relabeled(\"NOTES_2\",\"NOTES\")"
   ]
  },
  {
   "cell_type": "code",
   "execution_count": 14,
   "metadata": {},
   "outputs": [
    {
     "data": {
      "text/html": [
       "<table border=\"1\" class=\"dataframe\">\n",
       "    <thead>\n",
       "        <tr>\n",
       "            <th>SEARCH16</th> <th>URL</th> <th>FAILED_SCRAPE_MANUAL</th> <th>FAILED_SCRAPE_AUTO</th> <th>URL_DIRTY</th> <th>NUM_BAD_URLS</th> <th>SHARED_URL_ONLY</th> <th>NCESSCH</th> <th>CONFIRMED_CLOSED17</th> <th>URL_CHECKED_BY</th> <th>NOTES</th> <th>SCHNAM</th> <th>ADDRESS16</th> <th>URL16-DIRTY</th> <th>URL14</th> <th>SY_STATUS16</th> <th>SY_STATUS15</th> <th>LEVEL15</th> <th>STABR</th> <th>WEBSITE_OFFICIAL</th> <th>YEAR_CLOSED</th> <th>SEARCH14</th> <th>SCHNAM14</th> <th>YEAR_OPENED</th>\n",
       "        </tr>\n",
       "    </thead>\n",
       "    <tbody>\n",
       "        <tr>\n",
       "            <td>Knowledge Academies High School 5320 Hickory Hollow PW , ...</td> <td>http://www.kayouth.net/       </td> <td>nan                 </td> <td>0                 </td> <td>nan      </td> <td>0           </td> <td>1              </td> <td>470318002442</td> <td>0                 </td> <td>KA            </td> <td>new scraped URL 11-08-18</td> <td>Knowledge Academies High School                        </td> <td> 5320 Hickory Hollow PW , Antioch TN 37013.0        </td> <td>https://www.knowledgeacademies.org/</td> <td>nan                            </td> <td>1          </td> <td>3          </td> <td>3      </td> <td>TN   </td> <td>www.knowle                                   </td> <td>nan        </td> <td>nan                                                         </td> <td>Knowledge Academies High School </td> <td>2015       </td>\n",
       "        </tr>\n",
       "        <tr>\n",
       "            <td>McDonogh 42 Charter School 3019 Higgins Blvd. , New Orle ...</td> <td>http://42charterschool.org/   </td> <td>nan                 </td> <td>0                 </td> <td>nan      </td> <td>0           </td> <td>0              </td> <td>220019300944</td> <td>0                 </td> <td>nan           </td> <td>new scraped URL 11-08-18</td> <td>McDonogh 42 Charter School                             </td> <td> 3019 Higgins Blvd. , New Orleans LA 70126.0        </td> <td>http://42charterschool.org/        </td> <td>nan                            </td> <td>1          </td> <td>5          </td> <td>1      </td> <td>LA   </td> <td>nan                                          </td> <td>nan        </td> <td>nan                                                         </td> <td>McDonogh 42 Charter School      </td> <td>2016       </td>\n",
       "        </tr>\n",
       "        <tr>\n",
       "            <td>Humphreys College Academy of Business Law and Education  ...</td> <td>http://ablecharter.net/       </td> <td>nan                 </td> <td>0                 </td> <td>nan      </td> <td>0           </td> <td>0              </td> <td>62703013064 </td> <td>0                 </td> <td>nan           </td> <td>new scraped URL 11-08-18</td> <td>Humphreys College Academy of Business Law and Education</td> <td> 6515 Inglewood Ave. , Stockton CA 95207.0          </td> <td>http://ablecharter.net/            </td> <td>http://ablecharter.net/        </td> <td>1          </td> <td>1          </td> <td>4      </td> <td>CA   </td> <td>www.ablecharter.net                          </td> <td>nan        </td> <td>Humphreys College Academy of Business, Law and Education ...</td> <td>Humphreys College Academy of Bus</td> <td>2012       </td>\n",
       "        </tr>\n",
       "        <tr>\n",
       "            <td>AVANT GARDE ACADEMY OF BROWARD 2025 MCKINLEY ST , HOLLYW ...</td> <td>https://agabroward.org/       </td> <td>nan                 </td> <td>0                 </td> <td>nan      </td> <td>0           </td> <td>1              </td> <td>120018008361</td> <td>0                 </td> <td>nan           </td> <td>new scraped URL 11-08-18</td> <td>AVANT GARDE ACADEMY OF BROWARD                         </td> <td> 2025 MCKINLEY ST , HOLLYWOOD FL 33020.0            </td> <td>http://agabroward.org/             </td> <td>http://agabroward.org/         </td> <td>1          </td> <td>1          </td> <td>4      </td> <td>FL   </td> <td>www.championshipacademy.org/avantgardeacademy</td> <td>nan        </td> <td>AVANT GARDE ACADEMY OF BROWARD 11020 HILLCREST DR, HOLLY ...</td> <td>AVANT GARDE ACADEMY OF BROWARD  </td> <td>2014       </td>\n",
       "        </tr>\n",
       "        <tr>\n",
       "            <td>AVANT GARDE ACADEMY K-8 BROWARD 2025 MCKINLEY ST , HOLLY ...</td> <td>https://agabroward.org/       </td> <td>nan                 </td> <td>0                 </td> <td>nan      </td> <td>0           </td> <td>1              </td> <td>120018008405</td> <td>0                 </td> <td>nan           </td> <td>new scraped URL 11-08-18</td> <td>AVANT GARDE ACADEMY K-8 BROWARD                        </td> <td> 2025 MCKINLEY ST , HOLLYWOOD FL 33020.0            </td> <td>http://agabroward.org/             </td> <td>nan                            </td> <td>1          </td> <td>3          </td> <td>1      </td> <td>FL   </td> <td>http://www.browardschools.com                </td> <td>nan        </td> <td>nan                                                         </td> <td>AVANT GARDE ACADEMY K-8 BROWARD </td> <td>2015       </td>\n",
       "        </tr>\n",
       "        <tr>\n",
       "            <td>AVANT GARDE ACADEMY K8 OSCEOLA 3540 PLEASANT HILL RD , K ...</td> <td>http://agapleasanthill.org/   </td> <td>nan                 </td> <td>0                 </td> <td>nan      </td> <td>0           </td> <td>0              </td> <td>120147008377</td> <td>0                 </td> <td>nan           </td> <td>new scraped URL 11-08-18</td> <td>AVANT GARDE ACADEMY K8 OSCEOLA                         </td> <td> 3540 PLEASANT HILL RD , KISSIMMEE FL 34746.0       </td> <td>http://agapleasanthill.org/        </td> <td>nan                            </td> <td>1          </td> <td>3          </td> <td>1      </td> <td>FL   </td> <td>www.avantgardeacademy.org                    </td> <td>nan        </td> <td>nan                                                         </td> <td>AVANT GARDE ACADEMY K8 OSCEOLA  </td> <td>2015       </td>\n",
       "        </tr>\n",
       "        <tr>\n",
       "            <td>ACADEMY FOR INTERNATIONAL EDUCATION CHARTER SCHOOL 1080  ...</td> <td>http://aiecharterschool.org/  </td> <td>nan                 </td> <td>0                 </td> <td>nan      </td> <td>0           </td> <td>0              </td> <td>120039007841</td> <td>0                 </td> <td>nan           </td> <td>new scraped URL 11-08-18</td> <td>ACADEMY FOR INTERNATIONAL EDUCATION CHARTER SCHOOL     </td> <td> 1080 LABARON DR , MIAMI SPRINGS FL 33166.0         </td> <td>http://aiecharterschool.org/       </td> <td>http://aiecharterschool.org/   </td> <td>1          </td> <td>1          </td> <td>1      </td> <td>FL   </td> <td>http://www.aiecharter.net                    </td> <td>nan        </td> <td>ACADEMY FOR INTERNATIONAL EDUCATION CHARTER SCHOOL 1080  ...</td> <td>ACADEMY FOR INTERNATIONAL EDUCAT</td> <td>2011       </td>\n",
       "        </tr>\n",
       "        <tr>\n",
       "            <td>Alice M. Harte Elementary Charter School 4422 General Me ...</td> <td>http://alicemhartecharter.org/</td> <td>nan                 </td> <td>0                 </td> <td>nan      </td> <td>0           </td> <td>0              </td> <td>220117000903</td> <td>0                 </td> <td>nan           </td> <td>new scraped URL 11-08-18</td> <td>Alice M. Harte Elementary Charter School               </td> <td> 4422 General Meyer Avenue , New Orleans LA 70131.0 </td> <td>http://alicemhartecharter.org/     </td> <td>http://alicemhartecharter.org/ </td> <td>1          </td> <td>1          </td> <td>1      </td> <td>LA   </td> <td>nan                                          </td> <td>nan        </td> <td>Alice M. Harte Elementary Charter School 4422 General Me ...</td> <td>Alice M. Harte Elementary Charte</td> <td>1998       </td>\n",
       "        </tr>\n",
       "        <tr>\n",
       "            <td>Innocademy Allegan Campus 2611 56th St , Fennville MI 49 ...</td> <td>http://allegan.innocademy.com/</td> <td>nan                 </td> <td>0                 </td> <td>nan      </td> <td>0           </td> <td>0              </td> <td>260107108603</td> <td>0                 </td> <td>nan           </td> <td>new scraped URL 11-08-18</td> <td>Innocademy Allegan Campus                              </td> <td> 2611 56th St , Fennville MI 49408.0                </td> <td>http://allegan.innocademy.com/     </td> <td>http://allegan.innoacademy.com/</td> <td>1          </td> <td>1          </td> <td>1      </td> <td>MI   </td> <td>nan                                          </td> <td>nan        </td> <td>Innocademy Allegan Campus 2611 56th St, Fennville, MI 49408 </td> <td>Innocademy Allegan Campus       </td> <td>2014       </td>\n",
       "        </tr>\n",
       "        <tr>\n",
       "            <td>Avoyelles Public Charter School 201 Longfellow Rd , Mans ...</td> <td>http://apcs.us/               </td> <td>nan                 </td> <td>0                 </td> <td>nan      </td> <td>0           </td> <td>0              </td> <td>220003501494</td> <td>0                 </td> <td>nan           </td> <td>new scraped URL 11-08-18</td> <td>Avoyelles Public Charter School                        </td> <td> 201 Longfellow Rd , Mansura LA 71350.0             </td> <td>http://apcs.us/                    </td> <td>http://apcs.us/                </td> <td>1          </td> <td>1          </td> <td>4      </td> <td>LA   </td> <td>nan                                          </td> <td>nan        </td> <td>Avoyelles Public Charter School 201 Longfellow Rd, Mansu ...</td> <td>Avoyelles Public Charter School </td> <td>2000       </td>\n",
       "        </tr>\n",
       "    </tbody>\n",
       "</table>\n",
       "<p>... (7686 rows omitted)</p>"
      ],
      "text/plain": [
       "SEARCH16                                                     | URL                            | FAILED_SCRAPE_MANUAL | FAILED_SCRAPE_AUTO | URL_DIRTY | NUM_BAD_URLS | SHARED_URL_ONLY | NCESSCH      | CONFIRMED_CLOSED17 | URL_CHECKED_BY | NOTES                    | SCHNAM                                                  | ADDRESS16                                            | URL16-DIRTY                         | URL14                           | SY_STATUS16 | SY_STATUS15 | LEVEL15 | STABR | WEBSITE_OFFICIAL                              | YEAR_CLOSED | SEARCH14                                                     | SCHNAM14                         | YEAR_OPENED\n",
       "Knowledge Academies High School 5320 Hickory Hollow PW , ... | http://www.kayouth.net/        | nan                  | 0                  | nan       | 0            | 1               | 470318002442 | 0                  | KA             | new scraped URL 11-08-18 | Knowledge Academies High School                         |  5320 Hickory Hollow PW , Antioch TN 37013.0         | https://www.knowledgeacademies.org/ | nan                             | 1           | 3           | 3       | TN    | www.knowle                                    | nan         | nan                                                          | Knowledge Academies High School  | 2015\n",
       "McDonogh 42 Charter School 3019 Higgins Blvd. , New Orle ... | http://42charterschool.org/    | nan                  | 0                  | nan       | 0            | 0               | 220019300944 | 0                  | nan            | new scraped URL 11-08-18 | McDonogh 42 Charter School                              |  3019 Higgins Blvd. , New Orleans LA 70126.0         | http://42charterschool.org/         | nan                             | 1           | 5           | 1       | LA    | nan                                           | nan         | nan                                                          | McDonogh 42 Charter School       | 2016\n",
       "Humphreys College Academy of Business Law and Education  ... | http://ablecharter.net/        | nan                  | 0                  | nan       | 0            | 0               | 62703013064  | 0                  | nan            | new scraped URL 11-08-18 | Humphreys College Academy of Business Law and Education |  6515 Inglewood Ave. , Stockton CA 95207.0           | http://ablecharter.net/             | http://ablecharter.net/         | 1           | 1           | 4       | CA    | www.ablecharter.net                           | nan         | Humphreys College Academy of Business, Law and Education ... | Humphreys College Academy of Bus | 2012\n",
       "AVANT GARDE ACADEMY OF BROWARD 2025 MCKINLEY ST , HOLLYW ... | https://agabroward.org/        | nan                  | 0                  | nan       | 0            | 1               | 120018008361 | 0                  | nan            | new scraped URL 11-08-18 | AVANT GARDE ACADEMY OF BROWARD                          |  2025 MCKINLEY ST , HOLLYWOOD FL 33020.0             | http://agabroward.org/              | http://agabroward.org/          | 1           | 1           | 4       | FL    | www.championshipacademy.org/avantgardeacademy | nan         | AVANT GARDE ACADEMY OF BROWARD 11020 HILLCREST DR, HOLLY ... | AVANT GARDE ACADEMY OF BROWARD   | 2014\n",
       "AVANT GARDE ACADEMY K-8 BROWARD 2025 MCKINLEY ST , HOLLY ... | https://agabroward.org/        | nan                  | 0                  | nan       | 0            | 1               | 120018008405 | 0                  | nan            | new scraped URL 11-08-18 | AVANT GARDE ACADEMY K-8 BROWARD                         |  2025 MCKINLEY ST , HOLLYWOOD FL 33020.0             | http://agabroward.org/              | nan                             | 1           | 3           | 1       | FL    | http://www.browardschools.com                 | nan         | nan                                                          | AVANT GARDE ACADEMY K-8 BROWARD  | 2015\n",
       "AVANT GARDE ACADEMY K8 OSCEOLA 3540 PLEASANT HILL RD , K ... | http://agapleasanthill.org/    | nan                  | 0                  | nan       | 0            | 0               | 120147008377 | 0                  | nan            | new scraped URL 11-08-18 | AVANT GARDE ACADEMY K8 OSCEOLA                          |  3540 PLEASANT HILL RD , KISSIMMEE FL 34746.0        | http://agapleasanthill.org/         | nan                             | 1           | 3           | 1       | FL    | www.avantgardeacademy.org                     | nan         | nan                                                          | AVANT GARDE ACADEMY K8 OSCEOLA   | 2015\n",
       "ACADEMY FOR INTERNATIONAL EDUCATION CHARTER SCHOOL 1080  ... | http://aiecharterschool.org/   | nan                  | 0                  | nan       | 0            | 0               | 120039007841 | 0                  | nan            | new scraped URL 11-08-18 | ACADEMY FOR INTERNATIONAL EDUCATION CHARTER SCHOOL      |  1080 LABARON DR , MIAMI SPRINGS FL 33166.0          | http://aiecharterschool.org/        | http://aiecharterschool.org/    | 1           | 1           | 1       | FL    | http://www.aiecharter.net                     | nan         | ACADEMY FOR INTERNATIONAL EDUCATION CHARTER SCHOOL 1080  ... | ACADEMY FOR INTERNATIONAL EDUCAT | 2011\n",
       "Alice M. Harte Elementary Charter School 4422 General Me ... | http://alicemhartecharter.org/ | nan                  | 0                  | nan       | 0            | 0               | 220117000903 | 0                  | nan            | new scraped URL 11-08-18 | Alice M. Harte Elementary Charter School                |  4422 General Meyer Avenue , New Orleans LA 70131.0  | http://alicemhartecharter.org/      | http://alicemhartecharter.org/  | 1           | 1           | 1       | LA    | nan                                           | nan         | Alice M. Harte Elementary Charter School 4422 General Me ... | Alice M. Harte Elementary Charte | 1998\n",
       "Innocademy Allegan Campus 2611 56th St , Fennville MI 49 ... | http://allegan.innocademy.com/ | nan                  | 0                  | nan       | 0            | 0               | 260107108603 | 0                  | nan            | new scraped URL 11-08-18 | Innocademy Allegan Campus                               |  2611 56th St , Fennville MI 49408.0                 | http://allegan.innocademy.com/      | http://allegan.innoacademy.com/ | 1           | 1           | 1       | MI    | nan                                           | nan         | Innocademy Allegan Campus 2611 56th St, Fennville, MI 49408  | Innocademy Allegan Campus        | 2014\n",
       "Avoyelles Public Charter School 201 Longfellow Rd , Mans ... | http://apcs.us/                | nan                  | 0                  | nan       | 0            | 0               | 220003501494 | 0                  | nan            | new scraped URL 11-08-18 | Avoyelles Public Charter School                         |  201 Longfellow Rd , Mansura LA 71350.0              | http://apcs.us/                     | http://apcs.us/                 | 1           | 1           | 4       | LA    | nan                                           | nan         | Avoyelles Public Charter School 201 Longfellow Rd, Mansu ... | Avoyelles Public Charter School  | 2000\n",
       "... (7686 rows omitted)"
      ]
     },
     "execution_count": 14,
     "metadata": {},
     "output_type": "execute_result"
    }
   ],
   "source": [
    "full_fixed_fail_scrape"
   ]
  },
  {
   "cell_type": "code",
   "execution_count": 15,
   "metadata": {
    "collapsed": true
   },
   "outputs": [],
   "source": [
    "##convert to dataframe\n",
    "\n",
    "final_data_frame = Table.to_df(full_fixed_fail_scrape)"
   ]
  },
  {
   "cell_type": "code",
   "execution_count": 165,
   "metadata": {
    "collapsed": true
   },
   "outputs": [],
   "source": [
    "##export dataframe to csv\n",
    "\n",
    "final_data_frame.to_csv(\"out.csv\")"
   ]
  },
  {
   "cell_type": "code",
   "execution_count": null,
   "metadata": {
    "collapsed": true
   },
   "outputs": [],
   "source": []
  }
 ],
 "metadata": {
  "kernelspec": {
   "display_name": "Python 3",
   "language": "python",
   "name": "python3"
  },
  "language_info": {
   "codemirror_mode": {
    "name": "ipython",
    "version": 3
   },
   "file_extension": ".py",
   "mimetype": "text/x-python",
   "name": "python",
   "nbconvert_exporter": "python",
   "pygments_lexer": "ipython3",
   "version": "3.5.4"
  }
 },
 "nbformat": 4,
 "nbformat_minor": 2
}
