{
 "cells": [
  {
   "cell_type": "code",
   "execution_count": 1,
   "metadata": {},
   "outputs": [
    {
     "data": {
      "text/plain": [
       "'0.23.3'"
      ]
     },
     "execution_count": 1,
     "metadata": {},
     "output_type": "execute_result"
    }
   ],
   "source": [
    "import pandas as pd\n",
    "pd.__version__ "
   ]
  },
  {
   "cell_type": "markdown",
   "metadata": {},
   "source": [
    "Perform simple check on filtered charter page file. Confirms that the only schools with no school pages post filter are those with 'WEBTEXT' == '' or nan originally(in the 'charters_full_2015.pkl' file)"
   ]
  },
  {
   "cell_type": "code",
   "execution_count": 136,
   "metadata": {},
   "outputs": [],
   "source": [
    "df_charter = pd.read_pickle('charters_full_201515.pkl') # load filtered charter page file"
   ]
  },
  {
   "cell_type": "code",
   "execution_count": 138,
   "metadata": {},
   "outputs": [],
   "source": [
    "og = pd.read_pickle('../../charters_full_2015.pkl') # original charter data file"
   ]
  },
  {
   "cell_type": "code",
   "execution_count": 139,
   "metadata": {},
   "outputs": [],
   "source": [
    "og = og.reset_index(drop=True) # cleans index to now enumerate from 0 to num_rows-1 which is compatible with df_charter indexing"
   ]
  },
  {
   "cell_type": "code",
   "execution_count": 140,
   "metadata": {},
   "outputs": [
    {
     "data": {
      "text/plain": [
       "195552"
      ]
     },
     "execution_count": 140,
     "metadata": {},
     "output_type": "execute_result"
    }
   ],
   "source": [
    "df_charter['WEBTEXT'].apply(len).sum() # how many pages are left out of the original 700k+"
   ]
  },
  {
   "cell_type": "code",
   "execution_count": 129,
   "metadata": {},
   "outputs": [],
   "source": [
    "empty_schools = og[df_charter['WEBTEXT'].astype(str) == '[]'] # schools with empty filtered text"
   ]
  },
  {
   "cell_type": "code",
   "execution_count": 130,
   "metadata": {},
   "outputs": [
    {
     "data": {
      "text/plain": [
       "4009"
      ]
     },
     "execution_count": 130,
     "metadata": {},
     "output_type": "execute_result"
    }
   ],
   "source": [
    "len(empty_schools) # 4009 of them"
   ]
  },
  {
   "cell_type": "code",
   "execution_count": 131,
   "metadata": {},
   "outputs": [
    {
     "data": {
      "text/plain": [
       "231"
      ]
     },
     "execution_count": 131,
     "metadata": {},
     "output_type": "execute_result"
    }
   ],
   "source": [
    "empty_schools = empty_schools[empty_schools['WEBTEXT'].notnull()] # take out schools with webtext not nan\n",
    "len(empty_schools) # number remaining"
   ]
  },
  {
   "cell_type": "code",
   "execution_count": 132,
   "metadata": {
    "collapsed": true
   },
   "outputs": [
    {
     "data": {
      "text/plain": [
       "1047      \n",
       "1048      \n",
       "1049      \n",
       "2618      \n",
       "2675      \n",
       "3161      \n",
       "3171      \n",
       "3194      \n",
       "3196      \n",
       "3198      \n",
       "3233      \n",
       "3249      \n",
       "3262      \n",
       "3272      \n",
       "3283      \n",
       "6636      \n",
       "6641      \n",
       "6645      \n",
       "6652      \n",
       "6661      \n",
       "6663      \n",
       "6779      \n",
       "6795      \n",
       "6796      \n",
       "6840      \n",
       "6841      \n",
       "6886      \n",
       "6894      \n",
       "6905      \n",
       "6965      \n",
       "        ..\n",
       "10549     \n",
       "10560     \n",
       "10562     \n",
       "10564     \n",
       "10574     \n",
       "10614     \n",
       "10625     \n",
       "10638     \n",
       "10643     \n",
       "10711     \n",
       "10746     \n",
       "10803     \n",
       "10804     \n",
       "10865     \n",
       "10880     \n",
       "10889     \n",
       "10931     \n",
       "10982     \n",
       "11073     \n",
       "11074     \n",
       "11083     \n",
       "11097     \n",
       "11166     \n",
       "11184     \n",
       "11187     \n",
       "11334     \n",
       "11346     \n",
       "11419     \n",
       "11449     \n",
       "11482     \n",
       "Name: WEBTEXT, Length: 231, dtype: object"
      ]
     },
     "execution_count": 132,
     "metadata": {},
     "output_type": "execute_result"
    }
   ],
   "source": [
    "empty_schools['WEBTEXT'] # what their webtext looked like pre filter"
   ]
  },
  {
   "cell_type": "code",
   "execution_count": 133,
   "metadata": {},
   "outputs": [],
   "source": [
    "empty_schools = empty_schools[empty_schools['WEBTEXT'] != ''] # take out schools with webtext == ''"
   ]
  },
  {
   "cell_type": "code",
   "execution_count": 134,
   "metadata": {},
   "outputs": [
    {
     "data": {
      "text/plain": [
       "0"
      ]
     },
     "execution_count": 134,
     "metadata": {},
     "output_type": "execute_result"
    }
   ],
   "source": [
    "len(empty_schools) # schools with empty filtered list had 'WEBTEXT' == '' or nan"
   ]
  }
 ],
 "metadata": {
  "kernelspec": {
   "display_name": "Python 3",
   "language": "python",
   "name": "python3"
  },
  "language_info": {
   "codemirror_mode": {
    "name": "ipython",
    "version": 3
   },
   "file_extension": ".py",
   "mimetype": "text/x-python",
   "name": "python",
   "nbconvert_exporter": "python",
   "pygments_lexer": "ipython3",
   "version": "3.6.5"
  }
 },
 "nbformat": 4,
 "nbformat_minor": 2
}
