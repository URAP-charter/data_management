{
 "cells": [
  {
   "cell_type": "markdown",
   "metadata": {},
   "source": [
    "# Inspect charter school data\n",
    "\n",
    "- Author: Jaren Haber\n",
    "- Institution: UC Berkeley\n",
    "- Date created: August, 2018\n",
    "- Date last edited: May 17, 2019\n",
    "\n",
    "Description: This simple notebook reads the latest charter data into memory and offers some simple statistics. Versatile and useful basis for other tasks."
   ]
  },
  {
   "cell_type": "markdown",
   "metadata": {},
   "source": [
    "## Initialize"
   ]
  },
  {
   "cell_type": "code",
   "execution_count": 23,
   "metadata": {},
   "outputs": [],
   "source": [
    "import pandas as pd # For working with DataFrames\n",
    "import gc # To accelerate loading pickle files\n",
    "\n",
    "%matplotlib inline # Show visualizations within notebook\n",
    "\n",
    "# For loading functions from files in data_tools directory:\n",
    "import sys; sys.path.insert(0, \"../../data_tools\")"
   ]
  },
  {
   "cell_type": "code",
   "execution_count": 7,
   "metadata": {},
   "outputs": [],
   "source": [
    "# Set file paths\n",
    "charters_path = \"../../nowdata/charters_2015.pkl\""
   ]
  },
  {
   "cell_type": "code",
   "execution_count": 8,
   "metadata": {},
   "outputs": [],
   "source": [
    "# For displaying basic DF info, storing DFs for memory efficiency, and loading a filtered DF:\n",
    "from df_tools import check_df, convert_df, load_filtered_df, replace_df_nulls\n",
    "\n",
    "# For quickly loading & saving pickle files in Python:\n",
    "from quickpickle import quickpickle_dump, quickpickle_load \n",
    "\n",
    "# For saving and loading text lists to/from file:\n",
    "from textlist_file import write_list, load_list "
   ]
  },
  {
   "cell_type": "markdown",
   "metadata": {},
   "source": [
    "## Import data"
   ]
  },
  {
   "cell_type": "code",
   "execution_count": 30,
   "metadata": {},
   "outputs": [
    {
     "name": "stdout",
     "output_type": "stream",
     "text": [
      "# rows and cols:  (10965, 10)\n",
      "# duplicates by NCESSCH: 0\n",
      "\n",
      "Columns and # missing cases (if any): \n",
      "URL: 3828 missing\n",
      "SCH_NAME: 8421 missing\n",
      "INQUIRY_COUNT\n",
      "INQUIRY_RATIO: 4103 missing\n",
      "NUMWORDS\n",
      "NUMPAGES\n",
      "NCESSCH\n",
      "SY_STATUS15: 3619 missing\n",
      "WEBTEXT\n",
      "CMO_WEBTEXT\n"
     ]
    }
   ],
   "source": [
    "# Load data, keeping only relevant columns\n",
    "df = load_filtered_df(\n",
    "    charters_path, \n",
    "    [\"WEBTEXT\", \"CMO_WEBTEXT\", \"URL\", \"SCH_NAME\", \"INQUIRY_COUNT\", \"INQUIRY_RATIO\", \n",
    "     \"NUMWORDS\", \"NUMPAGES\", \"NCESSCH\", \"SY_STATUS15\"])"
   ]
  },
  {
   "cell_type": "code",
   "execution_count": 31,
   "metadata": {},
   "outputs": [
    {
     "name": "stdout",
     "output_type": "stream",
     "text": [
      "# rows and cols:  (5819, 10)\n",
      "# duplicates by NCESSCH: 0\n",
      "\n",
      "Columns and # missing cases (if any): \n",
      "URL\n",
      "SCH_NAME: 3767 missing\n",
      "INQUIRY_COUNT\n",
      "INQUIRY_RATIO\n",
      "NUMWORDS\n",
      "NUMPAGES\n",
      "NCESSCH\n",
      "SY_STATUS15\n",
      "WEBTEXT\n",
      "CMO_WEBTEXT\n"
     ]
    }
   ],
   "source": [
    "# Filter to only open schools\n",
    "filtered_STATUS = (df['SY_STATUS15'] == 1) | (df['SY_STATUS15'] == 3) | (df['SY_STATUS15'] == 4) | (df['SY_STATUS15'] == 5) | (df['SY_STATUS15'] == 8)\n",
    "df = df.loc[filtered_STATUS].reset_index(drop=True)\n",
    "\n",
    "# Filter to only schools with at least 10 words\n",
    "df = df[df[\"NUMWORDS\"] > 10]\n",
    "\n",
    "check_df(df, \"NCESSCH\")"
   ]
  },
  {
   "cell_type": "code",
   "execution_count": 35,
   "metadata": {},
   "outputs": [
    {
     "name": "stdout",
     "output_type": "stream",
     "text": [
      "5819\n",
      "0\n",
      "0\n"
     ]
    }
   ],
   "source": [
    "# Sanity check: Detect duplicates\n",
    "print(len(df[\"NCESSCH\"])) # Number of values in NCESSCH column\n",
    "print(len(df[\"NCESSCH\"])-len(df.drop_duplicates(subset=\"NCESSCH\"))) # Method 1 to detect number of duplicates\n",
    "print(len(list(df[\"NCESSCH\"]))-len(list(set(df[\"NCESSCH\"])))) # Method 2 to detect number of duplicates"
   ]
  },
  {
   "cell_type": "markdown",
   "metadata": {},
   "source": [
    "## Inspect web text"
   ]
  },
  {
   "cell_type": "code",
   "execution_count": 36,
   "metadata": {},
   "outputs": [
    {
     "data": {
      "text/plain": [
       "<matplotlib.axes._subplots.AxesSubplot at 0x7f70fdf255c0>"
      ]
     },
     "execution_count": 36,
     "metadata": {},
     "output_type": "execute_result"
    },
    {
     "data": {
      "image/png": "[encoded data removed]",
      "text/plain": [
       "<Figure size 432x288 with 1 Axes>"
      ]
     },
     "metadata": {
      "needs_background": "light"
     },
     "output_type": "display_data"
    }
   ],
   "source": [
    "# Look at length of WEBTEXT cell across rows (number of pages per school)\n",
    "df[df[\"WEBTEXT\"].notnull() & df[\"WEBTEXT\"]!=0][\"WEBTEXT\"].apply(len).hist(bins=50)"
   ]
  },
  {
   "cell_type": "code",
   "execution_count": 53,
   "metadata": {},
   "outputs": [
    {
     "data": {
      "text/plain": [
       "4"
      ]
     },
     "execution_count": 53,
     "metadata": {},
     "output_type": "execute_result"
    }
   ],
   "source": [
    "# Look at WEBTEXT and CMO_WEBTEXT for sample school:\n",
    "len(df.iloc[36][\"WEBTEXT\"])"
   ]
  },
  {
   "cell_type": "code",
   "execution_count": 51,
   "metadata": {},
   "outputs": [
    {
     "data": {
      "text/plain": [
       "[('http://bennettacademysocial.wixsite.com/bennettacademy/copy-of-coming-soon',\n",
       "  'False',\n",
       "  '1',\n",
       "  'ABOUT\\nSCHOOLS\\nPROGRAMS\\nENROLL\\nPARENT LINKS\\nCOMMUNITY\\nCONTACT\\nMORE>>\\nBENNETT ACADEMY ACCELERATED HIGH SCHOOL\\xa0\\n\\u200b\\nBennett Accelerated High School\\xa0\\nBennett Accelerated High School will begin serving students in 9th and 10th grade in August 2018. Bennett Accelerated High School will offer the followng:\\xa0\\n\\u200b\\nA good school with good discipline\\nA well-organized learning environment with a friendly vibe\\nA place where teachers, staff, and students treat each other kindly and respectfully\\nAn environment with friends (and we add, good friends)\\nTeachers who care about their students and give them good help\\nCourses that teach them what they need\\nCore classes and several electives\\nSports\\nVision and Purpose\\nGrade 9 Course Descriptions\\nGrade 10 Course Descriptions\\nFAQ\\nEnroll Now\\n© 2012 by Twenty First\\xa0Century\\xa0\\n\\xa0 \\xa0 \\xa0Charter Schools\\n\\u200b\\nBennett Academy Middle School\\n\\u200b2930 W. Bethany Home Road. Phoenix, AZ\\xa085017\\nBennett Academy Primary School - Venture Site\\n1535 W.\\xa0Dunlap Ave. Phoenix, AZ 85021\\nWebmaster Login\\n\\ufeffPursuant to A.R.S. §38-431.02, Twenty First\\xa0Century\\xa0\\nSchools, Inc. hereby states that all notices of the meetings of Bennett Academy and Bennett Venture Site will be posted at each administrative office and on our website (www.bennettacademy.com). The location is open to the public Monday through Friday from 8:00 AM to 4:00 PM. Such notices will indicate the date, time and place of the meeting and will include an agenda or information concerning the manner in which the public may obtain an agenda for the meeting.\\n\\u200b'),\n",
       " ('http://bennettacademysocial.wixsite.com/bennettacademy/venture',\n",
       "  'False',\n",
       "  '1',\n",
       "  'ABOUT\\nSCHOOLS\\nPROGRAMS\\nENROLL\\nPARENT LINKS\\nCOMMUNITY\\nCONTACT\\nMORE>>\\nBENNETT ACADEMY \\nPRIMARY SCHOOL\\nBennett Academy Primary School\\xa0\\nBennett Academy Primary School serves Kindergarten through 3rd grade. We believe that a solid education will equip a student to be the best person he or she can be, now and in the future.\\xa0\\nOur students gain c\\nonfidence in:\\xa0\\nReading, writing and communication skills\\xa0\\nProficiency in math, and the ability to apply math to the real world\\nScholarly knowledge of science and social studies including an understanding of other cultures and their languages\\nBasic technological literacy\\nPhysical aptitude skills through regular exercise and games\\nSTAFF\\n1/1\\n© 2012 by Twenty First\\xa0Century\\xa0\\n\\xa0 \\xa0 \\xa0Charter Schools\\n\\u200b\\nBennett Academy Middle School\\n\\u200b2930 W. Bethany Home Road. Phoenix, AZ\\xa085017\\nBennett Academy Primary School - Venture Site\\n1535 W.\\xa0Dunlap Ave. Phoenix, AZ 85021\\nWebmaster Login\\n\\ufeffPursuant to A.R.S. §38-431.02, Twenty First\\xa0Century\\xa0\\nSchools, Inc. hereby states that all notices of the meetings of Bennett Academy and Bennett Venture Site will be posted at each administrative office and on our website (www.bennettacademy.com). The location is open to the public Monday through Friday from 8:00 AM to 4:00 PM. Such notices will indicate the date, time and place of the meeting and will include an agenda or information concerning the manner in which the public may obtain an agenda for the meeting.\\n\\u200b')]"
      ]
     },
     "execution_count": 51,
     "metadata": {},
     "output_type": "execute_result"
    }
   ],
   "source": [
    "df.iloc[36][\"WEBTEXT\"][:2]"
   ]
  },
  {
   "cell_type": "code",
   "execution_count": 52,
   "metadata": {},
   "outputs": [
    {
     "data": {
      "text/plain": [
       "[('http://bennettacademysocial.wixsite.com/bennettacademy',\n",
       "  'False',\n",
       "  '0',\n",
       "  'ABOUT\\nSCHOOLS\\nPROGRAMS\\nENROLL\\nPARENT LINKS\\nCOMMUNITY\\nCONTACT\\nMORE>>\\nNow Enrolling\\nSoccer Champions\\nBoard Meeting\\n1/5\\nA Good School for Good Kids.\\xa0\\nPrimary School\\n Kindergarten - 3rd Grade\\nMiddle School\\n4th-8th Grade\\nÂ© 2012 by Twenty First\\xa0Century\\xa0\\n\\xa0 \\xa0 \\xa0Charter Schools\\n\\u200b\\nBennett Academy Middle School\\n\\u200b2930 W. Bethany Home Road. Phoenix, AZ\\xa085017\\nBennett Academy Primary School - Venture Site\\n1535 W.\\xa0Dunlap Ave. Phoenix, AZ 85021\\nWebmaster Login\\n\\ufeffPursuant to A.R.S. Â§38-431.02, Twenty First\\xa0Century\\xa0\\nSchools, Inc. hereby states that all notices of the meetings of Bennett Academy and Bennett Venture Site will be posted at each administrative office and on our website (www.bennettacademy.com). The location is open to the public Monday through Friday from 8:00 AM to 4:00 PM. Such notices will indicate the date, time and place of the meeting and will include an agenda or information concerning the manner in which the public may obtain an agenda for the meeting.\\n\\u200b'),\n",
       " ('http://bennettacademysocial.wixsite.com/bennettacademy',\n",
       "  'False',\n",
       "  '1',\n",
       "  'ABOUT\\nSCHOOLS\\nPROGRAMS\\nENROLL\\nPARENT LINKS\\nCOMMUNITY\\nCONTACT\\nMORE>>\\nNow Enrolling\\nSoccer Champions\\nBoard Meeting\\n1/5\\nA Good School for Good Kids.\\xa0\\nPrimary School\\n Kindergarten - 3rd Grade\\nMiddle School\\n4th-8th Grade\\nÂ© 2012 by Twenty First\\xa0Century\\xa0\\n\\xa0 \\xa0 \\xa0Charter Schools\\n\\u200b\\nBennett Academy Middle School\\n\\u200b2930 W. Bethany Home Road. Phoenix, AZ\\xa085017\\nBennett Academy Primary School - Venture Site\\n1535 W.\\xa0Dunlap Ave. Phoenix, AZ 85021\\nWebmaster Login\\n\\ufeffPursuant to A.R.S. Â§38-431.02, Twenty First\\xa0Century\\xa0\\nSchools, Inc. hereby states that all notices of the meetings of Bennett Academy and Bennett Venture Site will be posted at each administrative office and on our website (www.bennettacademy.com). The location is open to the public Monday through Friday from 8:00 AM to 4:00 PM. Such notices will indicate the date, time and place of the meeting and will include an agenda or information concerning the manner in which the public may obtain an agenda for the meeting.\\n\\u200b')]"
      ]
     },
     "execution_count": 52,
     "metadata": {},
     "output_type": "execute_result"
    }
   ],
   "source": [
    "df.iloc[36][\"CMO_WEBTEXT\"][:2]"
   ]
  },
  {
   "cell_type": "markdown",
   "metadata": {},
   "source": [
    "## Check examples of high/low ideology"
   ]
  },
  {
   "cell_type": "code",
   "execution_count": 78,
   "metadata": {},
   "outputs": [
    {
     "data": {
      "text/plain": [
       "count    5819.000000\n",
       "mean        0.006593\n",
       "std         0.005475\n",
       "min         0.000000\n",
       "25%         0.003228\n",
       "50%         0.005400\n",
       "75%         0.008641\n",
       "max         0.052288\n",
       "Name: INQUIRY_RATIO, dtype: float64"
      ]
     },
     "execution_count": 78,
     "metadata": {},
     "output_type": "execute_result"
    }
   ],
   "source": [
    "df[\"INQUIRY_RATIO\"].describe()"
   ]
  },
  {
   "cell_type": "code",
   "execution_count": 79,
   "metadata": {},
   "outputs": [
    {
     "data": {
      "text/plain": [
       "count    5.819000e+03\n",
       "mean     2.309760e+04\n",
       "std      1.419385e+05\n",
       "min      1.300000e+01\n",
       "25%      1.576000e+03\n",
       "50%      8.811000e+03\n",
       "75%      2.186450e+04\n",
       "max      7.313761e+06\n",
       "Name: NUMWORDS, dtype: float64"
      ]
     },
     "execution_count": 79,
     "metadata": {},
     "output_type": "execute_result"
    }
   ],
   "source": [
    "df[\"NUMWORDS\"].describe()"
   ]
  },
  {
   "cell_type": "code",
   "execution_count": 94,
   "metadata": {},
   "outputs": [
    {
     "name": "stdout",
     "output_type": "stream",
     "text": [
      "966     11\n",
      "5852     1\n",
      "6655    15\n",
      "Name: NUMPAGES, dtype: int64\n"
     ]
    },
    {
     "name": "stderr",
     "output_type": "stream",
     "text": [
      "/opt/conda/lib/python3.6/site-packages/ipykernel_launcher.py:1: UserWarning: Boolean Series key will be reindexed to match DataFrame index.\n",
      "  \"\"\"Entry point for launching an IPython kernel.\n"
     ]
    },
    {
     "data": {
      "text/plain": [
       "[('http://www.braination.net/Anne-Frank-Inspire-Academy',\n",
       "  'False',\n",
       "  '0',\n",
       "  'nk Inspire Academy\\nA Preeminent 21st Century School K–12\\nHow do you make a free, public, 21st century school that is caring, creative, fun, innovative, and sustainable? How do you ensure that school retains a rigorous curriculum that pushes every student to be and do his or her best? You create an Inspire Academy!\\nThe curriculum at our Inspire Academies adheres to \\nstate standards\\n in all subjects, including the core areas of language arts, mathematics, science, and social studies. But in order to fully address student needs, we have designed a \"three tiered curriculum\" that not only meets state standards but also helps students follow their passions and become self-directed learners.\\xa0\\nStudents explore information daily in great depth via projects, field experiences, problem solving, collaborative groups, oral and written communication, entrepreneurialism, and much more, using a skill mastery approach. This approach creates a dynamic learning experience that allows independent thinking and problem solving to develop and flourish.\\nHead of School\\'s Desk\\nWelcome to Anne Frank Inspire Academy (AFIA), where our goal is to create a caring, creative, fun, innovative, and rigorous learning environment. At AFIA we hope to instill our core values of innovation, embracing greatness, integrity, and joy among all of our students, staff, parents, and community.\\xa0\\nIt is my honor and pleasure to be a part of the AFIA family. I am energized and deeply committed to making a positive difference in the lives of your students. As an instructional leader, I have a very uncompromising view that all students are able to learn and be successful. At AFIA, we are able to build strong relationships, collaborate, implement a viable curriculum, and create a support system that helps create an environment that fosters learning and helps every student maximize his/her potential.\\xa0\\nOur remarkable staff, involved parents, and committed students help make AFIA a wonderful place to Belong, Be Great, and Find Joy! I encourage you to embark on this journey of learning and growth with us!\\nDr. Nino A. Etienne\\nDr. Nino A. Etienne\\nHead of School\\xa0\\nOur Program\\nOur curriculum includes:\\nCore\\nA core subjects curriculum based on Texas’ TEKS standards\\nChoice\\nA personalized electives curriculum designed from the input of our students and parents\\nExposure\\nAn experiential curriculum highlighting things and events all children should be able to experience without regard to social class or income\\nAFIA Curriculum Design\\nK–5 Design\\n6–8 Design\\n9–12 Design\\nIn addition to our regular curriculum, students receive unique learning opportunities through our community mentorship program that reflect our four interlocking areas of growth. At Anne Frank, we work hard to:\\nBecome an expert learner (with problem solving and creative thinking skills)\\nDevelop leadership skills\\nBecome a person of principle and character\\nMake the world a better place through service\\nOur Facility\\nOur schools are designed to create a small, family-like environment that allows each student and teacher to know one another and ensure that no one “falls through the cracks.” By partnering with award-winning, international architects at \\nFielding Nair\\n, we’ve designed an incredible campus that includes eight outdoor learning areas (including a tree house and amphitheater); a variety of creative, indoor learning studios (like \\nMakerSpaces\\n and Yoga studios); and zero hallways! All of our facilities are also equipped with seamless technology via SkyDrives.\\nContact Us\\n11216 Bandera Road\\nSan Antonio, TX 78249\\nP: (210) 638.5900\\nE-mail\\nOur Mission & Vision\\nMission: To increase the capacity for human greatness.\\nVision: Creating 21st century learning models for use around the world through leadership, innovation, safety, technology, integration, synergy, and transformative power.\\nOur Core Values\\nValue gives meaning to what we do. But at Anne Frank, our core values of innovation, embracing greatness, integrity, and joy are the driving force behind every decision we make.\\xa0\\nAt Anne Frank, we are active members of our community—We Belong. We are becoming experts in every life arena—We can Be Great. And we know there is purpose in life—Therefore, we choose to Find Joy. In short, we believe students can be self-directed learners, and schools can be both fun and challenging.\\nAFIA Admissions\\nAFIA Faculty & Staff\\nAFIA Calendar\\nS.O.S. San Antonio\\nBRAINATION News\\nContact Us\\n\\r\\tCorporate Offices\\n\\r\\t10325 Bandera Road, San Antonio, Texas 78250\\n\\r\\tPhone: (210) 638.5000\\r\\t\\n\\r                ©2018 | Site designed and maintained by \\nSchool Webmasters\\n | \\n Accessibility ')]"
      ]
     },
     "execution_count": 94,
     "metadata": {},
     "output_type": "execute_result"
    }
   ],
   "source": [
    "# EXAMPLE OF HIGH IBL: \n",
    "# http://www.braination.net/Anne-Frank-Inspire-Academy [1]\n",
    "\n",
    "subset = df[df[\"INQUIRY_RATIO\"] > 0.04][df[\"NUMWORDS\"] > 500]\n",
    "print(subset[\"NUMPAGES\"])\n",
    "subset.iloc[1][\"WEBTEXT\"]"
   ]
  },
  {
   "cell_type": "code",
   "execution_count": 118,
   "metadata": {},
   "outputs": [
    {
     "name": "stdout",
     "output_type": "stream",
     "text": [
      "1       1\n",
      "17      1\n",
      "18      2\n",
      "90      4\n",
      "172     3\n",
      "183     4\n",
      "201     4\n",
      "224     4\n",
      "293     2\n",
      "328     1\n",
      "329     2\n",
      "363     4\n",
      "409     1\n",
      "494     1\n",
      "495     1\n",
      "514     1\n",
      "522     1\n",
      "573     4\n",
      "599     1\n",
      "605     1\n",
      "606     1\n",
      "607     1\n",
      "610     1\n",
      "611     1\n",
      "612     4\n",
      "616     4\n",
      "619     1\n",
      "646     2\n",
      "664     1\n",
      "672     1\n",
      "       ..\n",
      "6314    1\n",
      "6315    1\n",
      "6373    2\n",
      "6374    2\n",
      "6406    1\n",
      "6409    1\n",
      "6416    1\n",
      "6417    1\n",
      "6418    1\n",
      "6419    1\n",
      "6420    1\n",
      "6421    1\n",
      "6422    1\n",
      "6423    1\n",
      "6427    1\n",
      "6429    1\n",
      "6430    1\n",
      "6432    1\n",
      "6433    1\n",
      "6434    1\n",
      "6439    1\n",
      "6445    1\n",
      "6460    1\n",
      "6705    4\n",
      "6725    1\n",
      "6727    1\n",
      "6744    1\n",
      "6805    3\n",
      "6809    4\n",
      "6842    1\n",
      "Name: NUMPAGES, Length: 196, dtype: int64\n"
     ]
    },
    {
     "name": "stderr",
     "output_type": "stream",
     "text": [
      "/opt/conda/lib/python3.6/site-packages/ipykernel_launcher.py:5: UserWarning: Boolean Series key will be reindexed to match DataFrame index.\n",
      "  \"\"\"\n"
     ]
    },
    {
     "data": {
      "text/plain": [
       "[('https://www.phoenixcollege.edu/pc-prep-academy/tel:16022857777',\n",
       "  'False',\n",
       "  '2',\n",
       "  'nd\\n        The requested page \"/pc-prep-academy/tel:16022857777\" could not be found.\\n        1202 W. Thomas Road | Phoenix, Arizona 85013 | \\n602.285.7777'),\n",
       " ('https://www.phoenixcollege.edu/pc-prep-academy/pc-prep-documents',\n",
       "  'False',\n",
       "  '1',\n",
       "  'iscrimination Statement\\nSafety\\nLogin\\n        1202 W. Thomas Road | Phoenix, Arizona 85013 | \\n602.285.7777\\nFacebook\\nTwitter\\nLinkedIn\\nYouTube\\nFlickr\\nInstagram\\nPinterest\\n        Maricopa County Community College District (MCCCD) is an EEO/AA institution and an equal opportunity employer of protected veterans and individuals with disabilities. A lack of English language skills will not be a barrier to admission and participation in the career and technical education programs of the college.\\n\\rThe Maricopa Community Colleges do not discriminate on the basis of race, color, national origin, sex, disability or age in its pr'),\n",
       " ('https://www.phoenixcollege.edu/pc-prep-academy/attendance-policy',\n",
       "  'False',\n",
       "  '1',\n",
       "  'ce\\nRegular and timely class attendance for all classes, each day, is a basic school and class requirement.\\xa0 Attendance is a critical aspect of learning and a crucial part of success at PCPA. PCPA will maintain a strict policy regarding attendance so that students will be able to take full advantage of the extraordinary opportunity extended to them. All students are expected to be regular and punctual in their attendance. Excessive tardiness or a pattern of unwarranted absenteeism is cause for administrative withdrawal. Unwarranted or excessive absences from Phoenix College classes may result in the student being dropped from those classes and dismissal from PCPA. Punctual transportation to and from school is a student’s responsibility. A missed bus, missed ride, or car problems is not a valid excuse for an absence.\\nDefinitions\\nDitching- Not attending any class after being present on campus.\\nTruant- The act of not being present on campus.\\nAbsence- Failure to be present during a class period.\\nUnexcused Absence- Absent without written permission from parent or guardian.\\n(A.)\\xa0 Excused Absences\\nNormally, only illness-related absences are “excused” absences.\\xa0 Exceptions are school approved functions and bereavement.\\xa0 Doctor and dental appointments will be excused with a note from the doctor’s office.\\xa0 Parents have 48 hours to notify and correctly identify the absence for the office to excuse the absence.\\n\\xa0Parents/Guardians must call the Attendance Office by 8:00 a.m. to report a student absence. \\xa0In addition, a parental note is required within two days of an absence to document an excused absence. Excused absences will be authorized when there is:\\na personal illness\\na medical appointment\\na death in the family\\nSchool-sanctioned activities\\nIf a college activities or field trips conflicts with a high school class, parents must call in to excuse the absence. Students can also fill out a field trip permission slip form, signed by parents and teachers.\\nAbsences related to legal system\\nFamily Emergency Bereavement/Funeral (immediate family member only)\\nReligious Observances (should be pre-arranged with PCPA Administration)\\nAn emergency situation or an unusual circumstance presented as a justification for an absence will be evaluated by the Administration on a case-by-case basis. Family vacations /outings should not be scheduled during school days.\\n----ANY ABSENCES NOT RELATED TO THE ITEMS MENTIONED ABOVE ARE CONSIDERED UNEXCUSED.\\n\\xa0To report an absence or tardy please call (602) 285-719'),\n",
       " ('https://www.phoenixcollege.edu/pc-prep-academy',\n",
       "  'False',\n",
       "  '0',\n",
       "  \"P:\\xa0\\n(602) 285-7998\\nLocation:\\xa0\\nOsborn Site East - OSE105\\nHours:\\xa0\\nSpring & Fall: Mon-Fri: 7:30 AM - 4:30 PM | Summer: Mon-Thu: 7:30 AM - 5:00 PM | Fri: Closed\\nAdditional Info:\\xa0\\nfax: 602-285-7697\\nPC Preparatory Academy\\nHigh school and college in one...\\nThe Phoenix College Preparatory Academy\\xa0(PCPA) is a charter high school accredited by the North Central Association Commission on Accreditation and School Improvement (NCA CASI), an accreditation division of AdvancED.\\nStudents at our academy attend classes on the beautiful campus of Phoenix College, and in addition to the resources of the high school, students have access to the colleges' computer labs, libraries and other services and facilities.\\xa0PCPA students have the opportunity to interact with community college students who serve as both mentors and tutors.\\nPCPA maintains the highest academic standards to ensure students meet all state requirements for a high school diploma. It is also possible that by graduation students can complete several community college courses.\\nIT'S LIKE RECEIVING A PRIVATE EDUCATION FOR FREE....\\nAs a public charter high school, Phoenix College Preparatory Academy adheres to the open enrollment policies prescribed by the Arizona Department of Education.\\xa0PCPA does not charge tuition for high school classes.\\xa0 Students in good academic standing may qualify for free college tuition as well.\\nWhy attend our academy?\\nIndividualized instruction from state certified and/or highly qualified teachers in a small class setting\\nObtain your high school diploma\\nJoin in community college extra-curricular activities & organizations\\nAccess to college resources and facilities, including free tutoring\\nMay qualify to receive free tuition for college courses at any of the Maricopa Community Colleges\\xa0\\nPhoenix College Preparatory Academy is a free public high school and does not require any citizenship or immigration status information or documentation to enroll students into high school classes. Students are not required to take college courses and are enrolled on a first come, first served, basis.\\nPhoenix College Preparatory Academy es una escuela secundaria pública gratuita y no require ningún tipo de información o documentación de ciudadanía o estatus migratorio para inscriber a los estudiantes en a las clases de secundaria. Los estudiantes se inscriben y se base en el primero de llegar, sera el primero servido/registrado.\\nFor Spanish translation please call 602-285-7978. We will be happy to provide you any needed information and arrange for translation services.\\nPara traducción en español por favor llame a 602-285-7978. Nosotros estará encantada de ofrecerle toda la información necesaria y organizar los servicios de traducción.\\nProcedure to request for interpretation or translation services\\nResponse to Recent News Release\\nVisit our school, located on the SE corner of 11th Avenue and Osborn Road (\\nOSE 105\\n) at Phoenix College.\\nNotice of Public Meetings\\nPursuant to A.R.S. §38-431.02, PC Preparatory Academy hereby states that all notices of the meetings of PC Preparatory Academy\\xa0will be posted at 3310 N. 10th Ave, in the OSE\\xa0Building administration offices at OSE-105 and on the following website:\\xa0\\nhttps://administration.maricopa.edu/governing-board/notice-of-public-meeting\\nThe location is open to the public\\xa0Monday\\xa0through\\xa0Friday, from\\xa08:00 a.m. to 5:00 p.m.\\xa0Such notices will indicate the date, time and place of the meeting, and will include an agenda or information concerning the manner in which the public may obtain an agenda for the meeting.\\xa0 For questions regarding public meetings, please call Gloria Smith\\xa0(480) 731-8889\")]"
      ]
     },
     "execution_count": 118,
     "metadata": {},
     "output_type": "execute_result"
    }
   ],
   "source": [
    "# EXAMPLE OF LOW IBL: \n",
    "# http://bensonspvhs.sharpschool.net/ [5]\n",
    "# http://rcbhighschool.com/academics/ [7]\n",
    "# https://www.phoenixcollege.edu/pc-prep-academy [11]\n",
    "\n",
    "subset = df[df[\"INQUIRY_RATIO\"] < 0.006][df[\"NUMWORDS\"] > 1000][df[\"NUMPAGES\"] < 5]\n",
    "print(subset[\"NUMPAGES\"])\n",
    "page = subset.iloc[11]\n",
    "page[\"WEBTEXT\"]"
   ]
  },
  {
   "cell_type": "code",
   "execution_count": null,
   "metadata": {},
   "outputs": [],
   "source": [
    "df[df[\"WEBTEXT\"].notnull() & df[\"WEBTEXT\"]!=0][\"WEBTEXT\"].apply(len).hist(bins=50)"
   ]
  }
 ],
 "metadata": {
  "kernelspec": {
   "display_name": "Python 3",
   "language": "python",
   "name": "python3"
  },
  "language_info": {
   "codemirror_mode": {
    "name": "ipython",
    "version": 3
   },
   "file_extension": ".py",
   "mimetype": "text/x-python",
   "name": "python",
   "nbconvert_exporter": "python",
   "pygments_lexer": "ipython3",
   "version": "3.6.7"
  }
 },
 "nbformat": 4,
 "nbformat_minor": 2
}
